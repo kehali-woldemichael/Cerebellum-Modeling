{
 "cells": [
  {
   "cell_type": "markdown",
   "metadata": {},
   "source": [
    "# Initializing "
   ]
  },
  {
   "cell_type": "code",
   "execution_count": 1,
   "metadata": {
    "execution": {
     "iopub.execute_input": "2021-01-13T13:59:10.097776Z",
     "iopub.status.busy": "2021-01-13T13:59:10.097250Z",
     "iopub.status.idle": "2021-01-13T13:59:10.424551Z",
     "shell.execute_reply": "2021-01-13T13:59:10.421963Z",
     "shell.execute_reply.started": "2021-01-13T13:59:10.097685Z"
    }
   },
   "outputs": [
    {
     "name": "stderr",
     "output_type": "stream",
     "text": [
      "/home/user1/.pyenv/versions/2.7.18/envs/py2_brianBrunel/lib/python2.7/site-packages/ipykernel_launcher.py:2: UserWarning: Config option `use_jedi` not recognized by `IPCompleter`.\n",
      "  \n"
     ]
    }
   ],
   "source": [
    "%matplotlib inline\n",
    "%config Completer.use_jedi = False "
   ]
  },
  {
   "cell_type": "code",
   "execution_count": 2,
   "metadata": {
    "execution": {
     "iopub.execute_input": "2021-01-13T13:59:10.425545Z",
     "iopub.status.busy": "2021-01-13T13:59:10.425309Z",
     "iopub.status.idle": "2021-01-13T13:59:10.432603Z",
     "shell.execute_reply": "2021-01-13T13:59:10.429932Z",
     "shell.execute_reply.started": "2021-01-13T13:59:10.425439Z"
    }
   },
   "outputs": [],
   "source": [
    "import time \n",
    "\n",
    "start = time.time()\n",
    "\n",
    "outputDirectory = '/home/user1/Dropbox/Research/Neurobiology_PhD/Rotations/Brunel/Code/Personal/brian2cuda/CUBA_CUDA_sp'"
   ]
  },
  {
   "cell_type": "code",
   "execution_count": 3,
   "metadata": {
    "execution": {
     "iopub.execute_input": "2021-01-13T13:59:10.433677Z",
     "iopub.status.busy": "2021-01-13T13:59:10.433321Z",
     "iopub.status.idle": "2021-01-13T13:59:12.251488Z",
     "shell.execute_reply": "2021-01-13T13:59:12.248978Z",
     "shell.execute_reply.started": "2021-01-13T13:59:10.433532Z"
    }
   },
   "outputs": [
    {
     "name": "stderr",
     "output_type": "stream",
     "text": [
      "/home/user1/.pyenv/versions/2.7.18/envs/py2_brianBrunel/lib/python2.7/site-packages/ipykernel_launcher.py:2: UserWarning: \n",
      "This call to matplotlib.use() has no effect because the backend has already\n",
      "been chosen; matplotlib.use() must be called *before* pylab, matplotlib.pyplot,\n",
      "or matplotlib.backends is imported for the first time.\n",
      "\n",
      "The backend was *originally* set to 'module://ipykernel.pylab.backend_inline' by the following code:\n",
      "  File \"/home/user1/.pyenv/versions/2.7.18/lib/python2.7/runpy.py\", line 174, in _run_module_as_main\n",
      "    \"__main__\", fname, loader, pkg_name)\n",
      "  File \"/home/user1/.pyenv/versions/2.7.18/lib/python2.7/runpy.py\", line 72, in _run_code\n",
      "    exec code in run_globals\n",
      "  File \"/home/user1/.pyenv/versions/2.7.18/envs/py2_brianBrunel/lib/python2.7/site-packages/ipykernel_launcher.py\", line 16, in <module>\n",
      "    app.launch_new_instance()\n",
      "  File \"/home/user1/.pyenv/versions/py2_brianBrunel/lib/python2.7/site-packages/traitlets/config/application.py\", line 664, in launch_instance\n",
      "    app.start()\n",
      "  File \"/home/user1/.pyenv/versions/py2_brianBrunel/lib/python2.7/site-packages/ipykernel/kernelapp.py\", line 499, in start\n",
      "    self.io_loop.start()\n",
      "  File \"/home/user1/.pyenv/versions/py2_brianBrunel/lib/python2.7/site-packages/tornado/ioloop.py\", line 1073, in start\n",
      "    handler_func(fd_obj, events)\n",
      "  File \"/home/user1/.pyenv/versions/py2_brianBrunel/lib/python2.7/site-packages/tornado/stack_context.py\", line 300, in null_wrapper\n",
      "    return fn(*args, **kwargs)\n",
      "  File \"/home/user1/.pyenv/versions/py2_brianBrunel/lib/python2.7/site-packages/zmq/eventloop/zmqstream.py\", line 462, in _handle_events\n",
      "    self._handle_recv()\n",
      "  File \"/home/user1/.pyenv/versions/py2_brianBrunel/lib/python2.7/site-packages/zmq/eventloop/zmqstream.py\", line 492, in _handle_recv\n",
      "    self._run_callback(callback, msg)\n",
      "  File \"/home/user1/.pyenv/versions/py2_brianBrunel/lib/python2.7/site-packages/zmq/eventloop/zmqstream.py\", line 444, in _run_callback\n",
      "    callback(*args, **kwargs)\n",
      "  File \"/home/user1/.pyenv/versions/py2_brianBrunel/lib/python2.7/site-packages/tornado/stack_context.py\", line 300, in null_wrapper\n",
      "    return fn(*args, **kwargs)\n",
      "  File \"/home/user1/.pyenv/versions/py2_brianBrunel/lib/python2.7/site-packages/ipykernel/kernelbase.py\", line 283, in dispatcher\n",
      "    return self.dispatch_shell(stream, msg)\n",
      "  File \"/home/user1/.pyenv/versions/py2_brianBrunel/lib/python2.7/site-packages/ipykernel/kernelbase.py\", line 233, in dispatch_shell\n",
      "    handler(stream, idents, msg)\n",
      "  File \"/home/user1/.pyenv/versions/py2_brianBrunel/lib/python2.7/site-packages/ipykernel/kernelbase.py\", line 399, in execute_request\n",
      "    user_expressions, allow_stdin)\n",
      "  File \"/home/user1/.pyenv/versions/py2_brianBrunel/lib/python2.7/site-packages/ipykernel/ipkernel.py\", line 208, in do_execute\n",
      "    res = shell.run_cell(code, store_history=store_history, silent=silent)\n",
      "  File \"/home/user1/.pyenv/versions/py2_brianBrunel/lib/python2.7/site-packages/ipykernel/zmqshell.py\", line 537, in run_cell\n",
      "    return super(ZMQInteractiveShell, self).run_cell(*args, **kwargs)\n",
      "  File \"/home/user1/.pyenv/versions/py2_brianBrunel/lib/python2.7/site-packages/IPython/core/interactiveshell.py\", line 2724, in run_cell\n",
      "    self.events.trigger('post_run_cell')\n",
      "  File \"/home/user1/.pyenv/versions/py2_brianBrunel/lib/python2.7/site-packages/IPython/core/events.py\", line 74, in trigger\n",
      "    func(*args, **kwargs)\n",
      "  File \"/home/user1/.pyenv/versions/py2_brianBrunel/lib/python2.7/site-packages/ipykernel/pylab/backend_inline.py\", line 164, in configure_once\n",
      "    activate_matplotlib(backend)\n",
      "  File \"/home/user1/.pyenv/versions/py2_brianBrunel/lib/python2.7/site-packages/IPython/core/pylabtools.py\", line 315, in activate_matplotlib\n",
      "    matplotlib.pyplot.switch_backend(backend)\n",
      "  File \"/home/user1/.pyenv/versions/py2_brianBrunel/lib/python2.7/site-packages/matplotlib/pyplot.py\", line 231, in switch_backend\n",
      "    matplotlib.use(newbackend, warn=False, force=True)\n",
      "  File \"/home/user1/.pyenv/versions/py2_brianBrunel/lib/python2.7/site-packages/matplotlib/__init__.py\", line 1425, in use\n",
      "    reload(sys.modules['matplotlib.backends'])\n",
      "  File \"/home/user1/.pyenv/versions/py2_brianBrunel/lib/python2.7/site-packages/matplotlib/backends/__init__.py\", line 17, in <module>\n",
      "    line for line in traceback.format_stack()\n",
      "\n",
      "\n",
      "  \n"
     ]
    }
   ],
   "source": [
    "import matplotlib\n",
    "matplotlib.use('Agg')\n",
    "\n",
    "from brian2 import *\n",
    "\n",
    "import brian2cuda\n",
    "\n",
    "#set_device('cpp_standalone', directory = None, build_on_run=False)\n",
    "#prefs.devices.cpp_standalone.openmp_threads = 12\n",
    "#set_device('cpp_standalone', directory = None, compile=True, run=True, debug=True)\n",
    "\n",
    "#set_device('cuda_standalone', directory = None, compile=True, run=True, debug=True)\n",
    "#set_device('cuda_standalone', build_on_run=False)\n",
    "#set_device('cuda_standalone', directory=None, build_on_run=False, with_output=False)          \n",
    "set_device('cuda_standalone', directory=outputDirectory,compile=True, run=True, debug=True, clean=True)"
   ]
  },
  {
   "cell_type": "code",
   "execution_count": 4,
   "metadata": {
    "execution": {
     "iopub.execute_input": "2021-01-13T13:59:12.252974Z",
     "iopub.status.busy": "2021-01-13T13:59:12.252652Z",
     "iopub.status.idle": "2021-01-13T13:59:12.705913Z",
     "shell.execute_reply": "2021-01-13T13:59:12.703468Z",
     "shell.execute_reply.started": "2021-01-13T13:59:12.252881Z"
    }
   },
   "outputs": [],
   "source": [
    "import numpy as np \n",
    "import matplotlib.pyplot as plt \n",
    "import pandas as pd \n",
    "import seaborn as sns "
   ]
  },
  {
   "cell_type": "markdown",
   "metadata": {},
   "source": [
    "#### Personal Functions "
   ]
  },
  {
   "cell_type": "code",
   "execution_count": 5,
   "metadata": {
    "execution": {
     "iopub.execute_input": "2021-01-13T13:59:12.707021Z",
     "iopub.status.busy": "2021-01-13T13:59:12.706724Z",
     "iopub.status.idle": "2021-01-13T13:59:12.720596Z",
     "shell.execute_reply": "2021-01-13T13:59:12.718019Z",
     "shell.execute_reply.started": "2021-01-13T13:59:12.706873Z"
    }
   },
   "outputs": [],
   "source": [
    "def visualise_connectivity(S):\n",
    "    Ns = len(S.source)\n",
    "    Nt = len(S.target)\n",
    "    figure(figsize=(10, 4))\n",
    "    subplot(121)\n",
    "    plot(zeros(Ns), arange(Ns), 'ok', ms=10)\n",
    "    plot(ones(Nt), arange(Nt), 'ok', ms=10)\n",
    "    for i, j in zip(S.i, S.j):\n",
    "        plot([0, 1], [i, j], '-k')\n",
    "    xticks([0, 1], ['Source', 'Target'])\n",
    "    ylabel('Neuron index')\n",
    "    xlim(-0.1, 1.1)\n",
    "    ylim(-1, max(Ns, Nt))\n",
    "    subplot(122)\n",
    "    plot(S.i, S.j, 'ok')\n",
    "    xlim(-1, Ns)\n",
    "    ylim(-1, Nt)\n",
    "    xlabel('Source neuron index')\n",
    "    ylabel('Target neuron index')"
   ]
  },
  {
   "cell_type": "code",
   "execution_count": 6,
   "metadata": {
    "execution": {
     "iopub.execute_input": "2021-01-13T13:59:12.721917Z",
     "iopub.status.busy": "2021-01-13T13:59:12.721602Z",
     "iopub.status.idle": "2021-01-13T13:59:12.735797Z",
     "shell.execute_reply": "2021-01-13T13:59:12.734214Z",
     "shell.execute_reply.started": "2021-01-13T13:59:12.721811Z"
    }
   },
   "outputs": [],
   "source": [
    "def plot_spikes(monitor, stateMonitor, rangeNeurons):\n",
    "    for i in range(rangeNeurons):\n",
    "        spikes = (monitor.t[monitor.i == i] - defaultclock.dt)/ms\n",
    "        val = stateMonitor[i].V\n",
    "        subplot(rangeNeurons, 1, i+1)\n",
    "        plot(tile(spikes, (2, 1)), vstack((val[array(spikes, dtype=int)], zeros(len(spikes)))), 'C0')\n",
    "        title(\"Spikes\")\n",
    "    tight_layout()\n",
    "    show()"
   ]
  },
  {
   "cell_type": "code",
   "execution_count": 7,
   "metadata": {
    "execution": {
     "iopub.execute_input": "2021-01-13T13:59:12.737203Z",
     "iopub.status.busy": "2021-01-13T13:59:12.736932Z",
     "iopub.status.idle": "2021-01-13T13:59:12.747811Z",
     "shell.execute_reply": "2021-01-13T13:59:12.745191Z",
     "shell.execute_reply.started": "2021-01-13T13:59:12.737155Z"
    }
   },
   "outputs": [],
   "source": [
    "def plot_potential(monitor, stateMonitor, rangeNeurons):\n",
    "    for i in range(rangeNeurons):\n",
    "        spikes = (monitor.t[monitor.i == i] - defaultclock.dt)/ms\n",
    "        val = stateMonitor[i].V\n",
    "        subplot(rangeNeurons, 1, i+1)\n",
    "        plot(stateMonitor.t/ms, val)\n",
    "        title(\"Trace\")\n",
    "    tight_layout()\n",
    "    show()"
   ]
  },
  {
   "cell_type": "code",
   "execution_count": 8,
   "metadata": {
    "execution": {
     "iopub.execute_input": "2021-01-13T13:59:12.748795Z",
     "iopub.status.busy": "2021-01-13T13:59:12.748637Z",
     "iopub.status.idle": "2021-01-13T13:59:12.760245Z",
     "shell.execute_reply": "2021-01-13T13:59:12.757625Z",
     "shell.execute_reply.started": "2021-01-13T13:59:12.748765Z"
    }
   },
   "outputs": [],
   "source": [
    "def plot_population(prMonitorRun, spikeMonitorRun, labelGroup, nActivity, pRun): \n",
    "    # plotting\n",
    "    title('Population rates')\n",
    "    xlabel('ms')\n",
    "    ylabel('Hz')\n",
    "\n",
    "    plot(prMonitorRun.t / ms, prMonitorRun.smooth_rate(width=25 * ms) / Hz, label=labelGroup)\n",
    "\n",
    "    legend()\n",
    "    figure()\n",
    "\n",
    "    title('Population activities ({} neurons/pop)'.format(nActivity))\n",
    "    xlabel('ms')\n",
    "    yticks([])\n",
    "\n",
    "    plot(spikeMonitorRun.t / ms, spikeMonitorRun.i + (pRun + 1) * nActivity, '.', markersize=2, label=labelGroup) \n",
    "\n",
    "\n",
    "    legend()\n",
    "    show()"
   ]
  },
  {
   "cell_type": "code",
   "execution_count": 9,
   "metadata": {
    "execution": {
     "iopub.execute_input": "2021-01-13T13:59:12.761382Z",
     "iopub.status.busy": "2021-01-13T13:59:12.761100Z",
     "iopub.status.idle": "2021-01-13T13:59:12.772654Z",
     "shell.execute_reply": "2021-01-13T13:59:12.769958Z",
     "shell.execute_reply.started": "2021-01-13T13:59:12.761345Z"
    }
   },
   "outputs": [],
   "source": [
    "def plot_population_Multi(prMonitorRun_smooth, prMonitorRun_t, spikeMonitorRun, labelGroup, nActivity, pRun): \n",
    "    # plotting\n",
    "    title('Population rates')\n",
    "    xlabel('ms')\n",
    "    ylabel('Hz')\n",
    "\n",
    "    plot(prMonitorRun_t / ms, prMonitorRun_smooth, label=labelGroup)\n",
    "\n",
    "    legend()\n",
    "    figure()\n",
    "\n",
    "    title('Population activities ({} neurons/pop)'.format(nActivity))\n",
    "    xlabel('ms')\n",
    "    yticks([])\n",
    "\n",
    "    plot(spikeMonitorRun.t / ms, spikeMonitorRun.i + (pRun + 1) * nActivity, '.', markersize=2, label=labelGroup) \n",
    "\n",
    "    legend()\n",
    "    show()"
   ]
  },
  {
   "cell_type": "code",
   "execution_count": 10,
   "metadata": {
    "execution": {
     "iopub.execute_input": "2021-01-13T13:59:12.773821Z",
     "iopub.status.busy": "2021-01-13T13:59:12.773568Z",
     "iopub.status.idle": "2021-01-13T13:59:12.786893Z",
     "shell.execute_reply": "2021-01-13T13:59:12.784441Z",
     "shell.execute_reply.started": "2021-01-13T13:59:12.773695Z"
    }
   },
   "outputs": [],
   "source": [
    "def plot_population_Multi_2(prMonitorRun_smooth, prMonitorRun_t, labelGroup): \n",
    "    # plotting\n",
    "    title('Population rates')\n",
    "    xlabel('ms')\n",
    "    ylabel('Hz')\n",
    "\n",
    "    plot(prMonitorRun_t / ms, prMonitorRun_smooth, label=labelGroup)\n",
    "\n",
    "    legend()\n",
    "    show()"
   ]
  },
  {
   "cell_type": "code",
   "execution_count": 11,
   "metadata": {
    "execution": {
     "iopub.execute_input": "2021-01-13T13:59:12.787849Z",
     "iopub.status.busy": "2021-01-13T13:59:12.787671Z",
     "iopub.status.idle": "2021-01-13T13:59:12.800917Z",
     "shell.execute_reply": "2021-01-13T13:59:12.798445Z",
     "shell.execute_reply.started": "2021-01-13T13:59:12.787814Z"
    }
   },
   "outputs": [],
   "source": [
    "def active_percent(monitor, binSize, durationSimulation, numNeurons, ymax):\n",
    "    # Define bin size \n",
    "    bin_size = binSize*ms\n",
    "    # Define duration of simulation \n",
    "    duration = durationSimulation*second\n",
    "    # Define number of neurons \n",
    "    num_Neurons = numNeurons\n",
    "\n",
    "    # Initialize array to record spike occurancces \n",
    "    spkTotal = np.zeros([int(duration/bin_size)])\n",
    "    \n",
    "    for current in range(num_Neurons): \n",
    "        spk_count, bin_edges = np.histogram(a = np.r_[monitor.t[monitor.i == current]/second],\n",
    "                                            bins = int(duration/bin_size), range = (0,durationSimulation))\n",
    "        # Convert spike count to binary \n",
    "        binary = np.where(spk_count > 0, 1, 0)\n",
    "        # Add to recording array\n",
    "        spkTotal = spkTotal + binary\n",
    "\n",
    "    plt.plot(bin_edges[:-1], (spkTotal/num_Neurons)*100)\n",
    "    plt.axis([0, durationSimulation, 0, ymax])\n",
    "    plt.title('Percent active granule cells as function of time')\n",
    "    plt.ylabel('Active Cell (%)')\n",
    "    plt.xlabel('Time (s)')\n",
    "    plt.show()"
   ]
  },
  {
   "cell_type": "code",
   "execution_count": 12,
   "metadata": {
    "execution": {
     "iopub.execute_input": "2021-01-13T13:59:12.801849Z",
     "iopub.status.busy": "2021-01-13T13:59:12.801688Z",
     "iopub.status.idle": "2021-01-13T13:59:12.811954Z",
     "shell.execute_reply": "2021-01-13T13:59:12.809486Z",
     "shell.execute_reply.started": "2021-01-13T13:59:12.801819Z"
    }
   },
   "outputs": [],
   "source": [
    "def averaged_ActivePercent(spkMulti, spkSingle, binSize, durationSimulation, numNeurons, ymax):\n",
    "    # Define bin size \n",
    "    bin_size = binSize*ms\n",
    "    # Define duration of simulation \n",
    "    duration = durationSimulation*second\n",
    "    # Define number of neurons \n",
    "    num_Neurons = numNeurons\n",
    "    \n",
    "    spk_count, bin_edges = np.histogram(a = np.r_[spkSingle.t[spkSingle.i == 1]/second],\n",
    "                                        bins = int(duration/bin_size), range = (0,durationSimulation))\n",
    "\n",
    "    averaged_spkMulti = np.mean(spkMulti, axis = 0)\n",
    "    \n",
    "    plt.plot(bin_edges[:-1], averaged_spkMulti)\n",
    "    plt.axis([0, durationSimulation, 0, ymax])\n",
    "    plt.title('Percent active granule cells as function of time')\n",
    "    plt.ylabel('Active Cell (%)')\n",
    "    plt.xlabel('Time (s)')\n",
    "    plt.show()"
   ]
  },
  {
   "cell_type": "markdown",
   "metadata": {},
   "source": [
    "#### General paramaters "
   ]
  },
  {
   "cell_type": "code",
   "execution_count": 13,
   "metadata": {
    "execution": {
     "iopub.execute_input": "2021-01-13T13:59:12.812996Z",
     "iopub.status.busy": "2021-01-13T13:59:12.812743Z",
     "iopub.status.idle": "2021-01-13T13:59:12.827348Z",
     "shell.execute_reply": "2021-01-13T13:59:12.824946Z",
     "shell.execute_reply.started": "2021-01-13T13:59:12.812871Z"
    }
   },
   "outputs": [],
   "source": [
    "# spatial \n",
    "#gC = 320\n",
    "gC = 10\n",
    "numGC = gC**2 \n",
    "gG = 32 \n",
    "#numGolgi = gG**2  \n",
    "numGolgi = 10 \n",
    "gGlo = 31\n",
    "numGlomeruli = gGlo**2\n",
    "\n",
    "# Spatial paramaters \n",
    "gcSpacing = ((gG*(gG-1))/(gC-1))*umetre \n",
    "golgiSpacing = 32*umetre \n",
    "\n",
    "gcSpacing = ((gG*(gG-1))/(gC-1))*umetre "
   ]
  },
  {
   "cell_type": "markdown",
   "metadata": {},
   "source": [
    "# Neuron Models"
   ]
  },
  {
   "cell_type": "markdown",
   "metadata": {},
   "source": [
    "#### Granule Cells "
   ]
  },
  {
   "cell_type": "code",
   "execution_count": 14,
   "metadata": {
    "execution": {
     "iopub.execute_input": "2021-01-13T13:59:12.828178Z",
     "iopub.status.busy": "2021-01-13T13:59:12.828027Z",
     "iopub.status.idle": "2021-01-13T13:59:12.922362Z",
     "shell.execute_reply": "2021-01-13T13:59:12.920832Z",
     "shell.execute_reply.started": "2021-01-13T13:59:12.828150Z"
    }
   },
   "outputs": [],
   "source": [
    "# Parameters \n",
    "\n",
    "# neuron parameters\n",
    "theta_GR = -35*mV # threshold (from Yamazaki) \n",
    "Cm_GR = 3.1*pF \n",
    "\n",
    "# Conductances \n",
    "gL_GR = 0.43*nS \n",
    "g_AMPA_GR = 0.18*nS \n",
    "g_NMDA_GR = 0.025*nS \n",
    "g_Inh_GR = 0.028*nS \n",
    "g_Ahp_GR = 1*nS\n",
    "\n",
    "# Various leaks (from Yamazaki) \n",
    "El_GR = -58*mV\n",
    "Eexc = 0*mV \n",
    "E_inh_GR = -82*mV \n",
    "E_ahp_GR = -82*mV # after hyperpolarization \n",
    "\n",
    "# Tau\n",
    "tau_ahp_GR = 5*ms \n",
    "tau_AMPA_GR = 1.2*ms \n",
    "tau_NMDA_GR = 52.0*ms \n",
    "tau_GABA_1_GR = 7*ms\n",
    "tau_GABA_2_GR = 59*ms\n",
    "\n",
    "eqs_GR = Equations('''\n",
    "                        dV / dt = (-gL_GR * (V - El_GR) - I_syn) / Cm_GR : volt (unless refractory)\n",
    "                        \n",
    "                        I_syn = I_AMPA + I_NMDA + I_GABA_tot : amp \n",
    "                        I_GABA_tot = 0.43*I_GABA_1 + 0.57*I_GABA_2 : amp \n",
    "                        \n",
    "                        I_AMPA = g_AMPA_GR * (V - Eexc) * s_AMPA : amp\n",
    "                        ds_AMPA / dt = -s_AMPA / tau_AMPA_GR : 1 \n",
    "                        \n",
    "                        I_NMDA = g_NMDA_GR * (V - Eexc) * s_NMDA : amp\n",
    "                        ds_NMDA / dt = -s_NMDA / tau_NMDA_GR : 1 \n",
    "                        \n",
    "                        I_GABA_1 = g_Inh_GR * (V - E_inh_GR) * s_GABA_1 : amp\n",
    "                        ds_GABA_1 / dt = -s_GABA_1 / tau_GABA_1_GR : 1 \n",
    "                        \n",
    "                        I_GABA_2 = g_Inh_GR * (V - E_inh_GR) * s_GABA_2 : amp\n",
    "                        ds_GABA_2 / dt = -s_GABA_2 / tau_GABA_2_GR : 1 \n",
    "                        \n",
    "                        x : metre \n",
    "                        y : metre \n",
    "                ''')\n",
    "\n",
    "# Defining granule cell neuron group \n",
    "granuleCells = NeuronGroup(N=numGC, model=eqs_GR, reset='V = El_GR',\n",
    "                    threshold='V > theta_GR',\n",
    "                    refractory=2*ms, method='euler')\n",
    "granuleCells.V = El_GR "
   ]
  },
  {
   "cell_type": "code",
   "execution_count": 15,
   "metadata": {
    "execution": {
     "iopub.execute_input": "2021-01-13T13:59:12.923693Z",
     "iopub.status.busy": "2021-01-13T13:59:12.923388Z",
     "iopub.status.idle": "2021-01-13T13:59:13.300581Z",
     "shell.execute_reply": "2021-01-13T13:59:13.298055Z",
     "shell.execute_reply.started": "2021-01-13T13:59:12.923592Z"
    }
   },
   "outputs": [
    {
     "data": {
      "text/html": [
       "NeuronGroup \"neurongroup\" with 100 neurons.<br>\n",
       "<b>Model:</b><nr>\n",
       "\\begin{align*}\\frac{\\mathrm{d}s_{AMPA}}{\\mathrm{d}t} &= - \\frac{s_{AMPA}}{\\tau_{AMPA GR}} && \\text{(unit of $s_{AMPA}$: $\\mathrm{rad}$)}\\\\\n",
       "I_{GABA 2} &= g_{Inh GR} s_{GABA 2} \\left(- E_{inh GR} + V\\right) && \\text{(unit of $I_{GABA 2}$: $\\mathrm{A}$)}\\\\\n",
       "I_{syn} &= I_{AMPA} + I_{GABA tot} + I_{NMDA} && \\text{(unit of $I_{syn}$: $\\mathrm{A}$)}\\\\\n",
       "I_{NMDA} &= g_{NMDA GR} s_{NMDA} \\left(- Eexc + V\\right) && \\text{(unit of $I_{NMDA}$: $\\mathrm{A}$)}\\\\\n",
       "\\frac{\\mathrm{d}s_{NMDA}}{\\mathrm{d}t} &= - \\frac{s_{NMDA}}{\\tau_{NMDA GR}} && \\text{(unit of $s_{NMDA}$: $\\mathrm{rad}$)}\\\\\n",
       "I_{GABA 1} &= g_{Inh GR} s_{GABA 1} \\left(- E_{inh GR} + V\\right) && \\text{(unit of $I_{GABA 1}$: $\\mathrm{A}$)}\\\\\n",
       "I_{GABA tot} &= 0.43 I_{GABA 1} + 0.57 I_{GABA 2} && \\text{(unit of $I_{GABA tot}$: $\\mathrm{A}$)}\\\\\n",
       "I_{AMPA} &= g_{AMPA GR} s_{AMPA} \\left(- Eexc + V\\right) && \\text{(unit of $I_{AMPA}$: $\\mathrm{A}$)}\\\\\n",
       "\\frac{\\mathrm{d}s_{GABA 1}}{\\mathrm{d}t} &= - \\frac{s_{GABA 1}}{\\tau_{GABA 1 GR}} && \\text{(unit of $s_{GABA 1}$: $\\mathrm{rad}$)}\\\\\n",
       "\\frac{\\mathrm{d}s_{GABA 2}}{\\mathrm{d}t} &= - \\frac{s_{GABA 2}}{\\tau_{GABA 2 GR}} && \\text{(unit of $s_{GABA 2}$: $\\mathrm{rad}$)}\\\\\n",
       "\\frac{\\mathrm{d}V}{\\mathrm{d}t} &= \\frac{\\left(- I_{syn} - gL_{GR} \\left(- El_{GR} + V\\right)\\right) \\operatorname{int_{}}{\\left(not_{refractory} \\right)}}{Cm_{GR}} && \\text{(unit of $V$: $\\mathrm{V}$, flags: unless refractory)}\\\\\n",
       "y &&& \\text{(unit: $\\mathrm{m}$)}\\\\\n",
       "x &&& \\text{(unit: $\\mathrm{m}$)}\\\\\n",
       "lastspike &&& \\text{(unit: $\\mathrm{s}$)}\\\\\n",
       "not_{refractory} &&& \\text{(unit: $\\mathrm{rad}$)}\\end{align*}\n",
       "<b>Spiking behaviour:</b><ul style=\"list-style-type: none; margin-top: 0px;\">\n",
       "<li><i>Threshold condition: </i>\n",
       "<code>V > theta_GR</code></li>\n",
       "<li><i>Reset statement(s):</i>\n",
       "<code>V = El_GR</code></li>\n",
       "</ul>"
      ],
      "text/plain": [
       "NeuronGroup(clock=Clock(dt=100. * usecond, name='defaultclock'), when=start, order=0, name='neurongroup')"
      ]
     },
     "execution_count": 15,
     "metadata": {},
     "output_type": "execute_result"
    }
   ],
   "source": [
    "granuleCells"
   ]
  },
  {
   "cell_type": "code",
   "execution_count": 16,
   "metadata": {
    "execution": {
     "iopub.execute_input": "2021-01-13T13:59:13.301950Z",
     "iopub.status.busy": "2021-01-13T13:59:13.301563Z",
     "iopub.status.idle": "2021-01-13T13:59:13.415893Z",
     "shell.execute_reply": "2021-01-13T13:59:13.413347Z",
     "shell.execute_reply.started": "2021-01-13T13:59:13.301858Z"
    }
   },
   "outputs": [],
   "source": [
    "# Defining MF input \n",
    "\n",
    "# Defining input parameters \n",
    "num_inputs = 100\n",
    "f = 0.5*Hz \n",
    "eq_rate = '(22.5 + 7.5*cos((2*pi*t*f) + pi))*Hz'\n",
    "\n",
    "# Equations \n",
    "eqs_glut_MFGR = '''\n",
    "               w_MFGR : 1 \n",
    "               '''\n",
    "eqs_pre_glut_MFGR = '''\n",
    "               s_AMPA += w_MFGR\n",
    "               s_NMDA += w_MFGR\n",
    "               '''\n",
    "\n",
    "P_MFGR = PoissonGroup(num_inputs, rates = eq_rate)\n",
    "S_MFGR = Synapses(P_MFGR, granuleCells, model = eqs_glut_MFGR, on_pre = eqs_pre_glut_MFGR, method = 'euler') \n",
    "S_MFGR.connect(condition = 'i == j')\n",
    "S_MFGR.w_MFGR = 4\n",
    "\n"
   ]
  },
  {
   "cell_type": "code",
   "execution_count": 17,
   "metadata": {
    "execution": {
     "iopub.execute_input": "2021-01-13T13:59:13.416876Z",
     "iopub.status.busy": "2021-01-13T13:59:13.416700Z",
     "iopub.status.idle": "2021-01-13T13:59:13.423851Z",
     "shell.execute_reply": "2021-01-13T13:59:13.421015Z",
     "shell.execute_reply.started": "2021-01-13T13:59:13.416846Z"
    }
   },
   "outputs": [],
   "source": [
    "# Visualize synaptic connections \n",
    "# visualise_connectivity(S_MFGR)"
   ]
  },
  {
   "cell_type": "markdown",
   "metadata": {},
   "source": [
    "#### Golgi"
   ]
  },
  {
   "cell_type": "code",
   "execution_count": 18,
   "metadata": {
    "execution": {
     "iopub.execute_input": "2021-01-13T13:59:13.424896Z",
     "iopub.status.busy": "2021-01-13T13:59:13.424707Z",
     "iopub.status.idle": "2021-01-13T13:59:13.463674Z",
     "shell.execute_reply": "2021-01-13T13:59:13.461239Z",
     "shell.execute_reply.started": "2021-01-13T13:59:13.424865Z"
    }
   },
   "outputs": [],
   "source": [
    "# Parameters \n",
    "\n",
    "# neuron parameters\n",
    "theta_GO = -52*mV # threshold (from Yamazaki) \n",
    "Cm_GO = 28.0*pF \n",
    "\n",
    "# Conductances \n",
    "gL_GO = 2.3*nS \n",
    "g_AMPA_GO = 45.5*nS \n",
    "g_NMDA_GO = 30.0*nS \n",
    "g_Ahp_GO = 20*nS\n",
    "\n",
    "El_GO = -55*mV\n",
    "Eexc = 0*mV \n",
    "E_ahp_GO = -72.7*mV # after hyperpolarization \n",
    "\n",
    "# Tau\n",
    "tau_ahp_GO = 5*ms \n",
    "tau_AMPA_GO = 1.5*ms \n",
    "tau_NMDA_1_GO = 31.0*ms \n",
    "tau_NMDA_2_GO = 170.0*ms \n",
    "\n",
    "eqs_GO = Equations('''\n",
    "                        dV / dt = (-gL_GO * (V - El_GO) - I_syn) / Cm_GO : volt (unless refractory)\n",
    "                        \n",
    "                        I_syn = I_AMPA + I_NMDA_tot : amp \n",
    "                        I_NMDA_tot = 0.33*I_NMDA_1 + 0.67*I_NMDA_2 : amp\n",
    "                        \n",
    "                        I_AMPA = g_AMPA_GR * (V - Eexc) * s_AMPA : amp\n",
    "                        ds_AMPA / dt = -s_AMPA / tau_AMPA_GO : 1 \n",
    "                        \n",
    "                        I_NMDA_1 = g_NMDA_GO * (V - Eexc) * s_NMDA_1 : amp\n",
    "                        ds_NMDA_1 / dt = -s_NMDA_1 / tau_NMDA_1_GO : 1 \n",
    "                        \n",
    "                        I_NMDA_2 = g_NMDA_GO * (V - Eexc) * s_NMDA_2 : amp\n",
    "                        ds_NMDA_2 / dt = -s_NMDA_2 / tau_NMDA_2_GO : 1 \n",
    "                        \n",
    "                        x : metre \n",
    "                        y : metre \n",
    "                ''')\n",
    "\n",
    "# Defining granule cell neuron group \n",
    "golgi = NeuronGroup(N=numGolgi, model=eqs_GO, reset='V = El_GO',\n",
    "                    threshold='V > theta_GO',\n",
    "                    refractory=5*ms, method='euler')\n",
    "golgi.V = El_GO "
   ]
  },
  {
   "cell_type": "code",
   "execution_count": 19,
   "metadata": {
    "execution": {
     "iopub.execute_input": "2021-01-13T13:59:13.464530Z",
     "iopub.status.busy": "2021-01-13T13:59:13.464379Z",
     "iopub.status.idle": "2021-01-13T13:59:13.470563Z",
     "shell.execute_reply": "2021-01-13T13:59:13.468128Z",
     "shell.execute_reply.started": "2021-01-13T13:59:13.464500Z"
    }
   },
   "outputs": [],
   "source": [
    "#golgi"
   ]
  },
  {
   "cell_type": "markdown",
   "metadata": {},
   "source": [
    "#  Establishing Connectivity "
   ]
  },
  {
   "cell_type": "markdown",
   "metadata": {},
   "source": [
    "#### Paramaters "
   ]
  },
  {
   "cell_type": "code",
   "execution_count": 20,
   "metadata": {
    "execution": {
     "iopub.execute_input": "2021-01-13T13:59:13.471393Z",
     "iopub.status.busy": "2021-01-13T13:59:13.471207Z",
     "iopub.status.idle": "2021-01-13T13:59:13.481485Z",
     "shell.execute_reply": "2021-01-13T13:59:13.479046Z",
     "shell.execute_reply.started": "2021-01-13T13:59:13.471346Z"
    }
   },
   "outputs": [],
   "source": [
    "# Connection probability \n",
    "pr_GRGO = 0.0245\n",
    "#pr_GOGR = 0.025\n",
    "pr_GOGR = 0.08"
   ]
  },
  {
   "cell_type": "markdown",
   "metadata": {},
   "source": [
    "#### Granule --> Golgi"
   ]
  },
  {
   "cell_type": "code",
   "execution_count": 21,
   "metadata": {
    "execution": {
     "iopub.execute_input": "2021-01-13T13:59:13.482312Z",
     "iopub.status.busy": "2021-01-13T13:59:13.482163Z",
     "iopub.status.idle": "2021-01-13T13:59:13.493607Z",
     "shell.execute_reply": "2021-01-13T13:59:13.491156Z",
     "shell.execute_reply.started": "2021-01-13T13:59:13.482284Z"
    }
   },
   "outputs": [],
   "source": [
    "# Equations \n",
    "eqs_glut_GRGO = '''\n",
    "               w_GRGO : 1 \n",
    "               '''\n",
    "eqs_pre_glut_GRGO = '''\n",
    "               s_AMPA += 1\n",
    "               s_NMDA_1 += 1\n",
    "               s_NMDA_2 += 1 \n",
    "               '''"
   ]
  },
  {
   "cell_type": "code",
   "execution_count": 22,
   "metadata": {
    "execution": {
     "iopub.execute_input": "2021-01-13T13:59:13.494452Z",
     "iopub.status.busy": "2021-01-13T13:59:13.494292Z",
     "iopub.status.idle": "2021-01-13T13:59:13.571284Z",
     "shell.execute_reply": "2021-01-13T13:59:13.568493Z",
     "shell.execute_reply.started": "2021-01-13T13:59:13.494422Z"
    }
   },
   "outputs": [],
   "source": [
    "# Forming synapses \n",
    "S_GRGO = Synapses(granuleCells, golgi, model = eqs_glut_GRGO, on_pre = eqs_pre_glut_GRGO, method = 'euler') \n",
    "S_GRGO.connect(p = pr_GRGO)"
   ]
  },
  {
   "cell_type": "code",
   "execution_count": 23,
   "metadata": {
    "execution": {
     "iopub.execute_input": "2021-01-13T13:59:13.572225Z",
     "iopub.status.busy": "2021-01-13T13:59:13.572022Z",
     "iopub.status.idle": "2021-01-13T13:59:13.577640Z",
     "shell.execute_reply": "2021-01-13T13:59:13.576083Z",
     "shell.execute_reply.started": "2021-01-13T13:59:13.572178Z"
    }
   },
   "outputs": [],
   "source": [
    "#visualise_connectivity(S_GRGO)"
   ]
  },
  {
   "cell_type": "markdown",
   "metadata": {},
   "source": [
    "#### Golgi --> Granule Cells "
   ]
  },
  {
   "cell_type": "code",
   "execution_count": 24,
   "metadata": {
    "execution": {
     "iopub.execute_input": "2021-01-13T13:59:13.578495Z",
     "iopub.status.busy": "2021-01-13T13:59:13.578342Z",
     "iopub.status.idle": "2021-01-13T13:59:13.588632Z",
     "shell.execute_reply": "2021-01-13T13:59:13.586083Z",
     "shell.execute_reply.started": "2021-01-13T13:59:13.578465Z"
    }
   },
   "outputs": [],
   "source": [
    "# Equations \n",
    "eqs_GABA_GOGR = '''\n",
    "               w_GOGR : 1 \n",
    "               '''\n",
    "eqs_pre_GABA_GOGR = '''\n",
    "               s_GABA_1 += 1\n",
    "               s_GABA_2 += 1 \n",
    "               '''"
   ]
  },
  {
   "cell_type": "code",
   "execution_count": 25,
   "metadata": {
    "execution": {
     "iopub.execute_input": "2021-01-13T13:59:13.590086Z",
     "iopub.status.busy": "2021-01-13T13:59:13.589792Z",
     "iopub.status.idle": "2021-01-13T13:59:13.680841Z",
     "shell.execute_reply": "2021-01-13T13:59:13.678376Z",
     "shell.execute_reply.started": "2021-01-13T13:59:13.590030Z"
    }
   },
   "outputs": [],
   "source": [
    "# Forming synapses \n",
    "S_GOGR = Synapses(golgi, granuleCells, model = eqs_GABA_GOGR, on_pre = eqs_pre_GABA_GOGR, method = 'euler') \n",
    "#S_GOGR.connect(condition = 'abs(i-j)<2')\n",
    "S_GOGR.connect(p = pr_GOGR)"
   ]
  },
  {
   "cell_type": "code",
   "execution_count": 26,
   "metadata": {
    "execution": {
     "iopub.execute_input": "2021-01-13T13:59:13.681705Z",
     "iopub.status.busy": "2021-01-13T13:59:13.681559Z",
     "iopub.status.idle": "2021-01-13T13:59:13.686967Z",
     "shell.execute_reply": "2021-01-13T13:59:13.685492Z",
     "shell.execute_reply.started": "2021-01-13T13:59:13.681679Z"
    }
   },
   "outputs": [],
   "source": [
    "#visualise_connectivity(S_GOGR)"
   ]
  },
  {
   "cell_type": "markdown",
   "metadata": {},
   "source": [
    "# Running simulation "
   ]
  },
  {
   "cell_type": "code",
   "execution_count": 27,
   "metadata": {
    "execution": {
     "iopub.execute_input": "2021-01-13T13:59:13.688153Z",
     "iopub.status.busy": "2021-01-13T13:59:13.687848Z",
     "iopub.status.idle": "2021-01-13T13:59:13.703052Z",
     "shell.execute_reply": "2021-01-13T13:59:13.700560Z",
     "shell.execute_reply.started": "2021-01-13T13:59:13.688055Z"
    }
   },
   "outputs": [],
   "source": [
    "def spk_active(monitor, binSize, durationSimulation, numNeurons): \n",
    "    # Define bin size \n",
    "    bin_size = binSize*ms\n",
    "    # Define duration of simulation \n",
    "    duration = durationSimulation*second\n",
    "    # Define number of neurons \n",
    "    num_Neurons = numNeurons\n",
    "\n",
    "    # Initialize array to record spike occurancces \n",
    "    spkTotal = np.zeros([int(duration/bin_size)])\n",
    "    \n",
    "    for current in range(num_Neurons): \n",
    "        spk_count, bin_edges = np.histogram(a = np.r_[monitor.t[monitor.i == current]/second],\n",
    "                                            bins = int(duration/bin_size), range = (0,2))\n",
    "        # Convert spike count to binary \n",
    "        binary = np.where(spk_count > 0, 1, 0)\n",
    "        # Add to recording array\n",
    "        spkTotal = spkTotal + binary\n",
    "    \n",
    "    return((spkTotal/num_Neurons)*100)"
   ]
  },
  {
   "cell_type": "code",
   "execution_count": 28,
   "metadata": {
    "execution": {
     "iopub.execute_input": "2021-01-13T13:59:13.704307Z",
     "iopub.status.busy": "2021-01-13T13:59:13.704061Z",
     "iopub.status.idle": "2021-01-13T13:59:50.583093Z",
     "shell.execute_reply": "2021-01-13T13:59:50.580573Z",
     "shell.execute_reply.started": "2021-01-13T13:59:13.704205Z"
    },
    "scrolled": true
   },
   "outputs": [
    {
     "name": "stdout",
     "output_type": "stream",
     "text": [
      "('debug syn effect mode ', 'target')\n",
      "('debug syn effect mode ', 'target')\n",
      "('debug syn effect mode ', 'target')\n",
      "INFO _last_run_time = 11.0653 s\n"
     ]
    }
   ],
   "source": [
    "# run the simulation\n",
    "spikeMonitor_GR = SpikeMonitor(granuleCells)\n",
    "\n",
    "stateMonitor_GR = StateMonitor(granuleCells, 'V', record=True)\n",
    "prMonitor_GR = PopulationRateMonitor(granuleCells)\n",
    "\n",
    "#BrianLogger.log_level_info()\n",
    "\n",
    "#net = Network(collect())\n",
    "# Snapshots of state \n",
    "#net.store('initial') \n",
    "\n",
    "spikeMonitor_Multi_GR = []\n",
    "spkActive_Multi_GR = []\n",
    "populationRates_GR = []\n",
    "prMulti_GR_smooth = []\n",
    "prMulti_GR_t = []\n",
    "\n",
    "repeatSimulation = 1\n",
    "\n",
    "for trial in range(repeatSimulation): \n",
    "    run(20*second)\n",
    "    \n",
    "    spikeMonitor_Multi_GR.append(spikeMonitor_GR.spike_trains())\n",
    "    spkActive_Multi_GR.append(spk_active(spikeMonitor_GR, binSize = 10, durationSimulation = 2, numNeurons = numGC))\n",
    "    \n",
    "    populationRates_GR.append(prMonitor_GR)\n",
    "    prMulti_GR_smooth.append(prMonitor_GR.smooth_rate(width = 25* ms) / Hz)\n",
    "    prMulti_GR_t.append(prMonitor_GR.t) "
   ]
  },
  {
   "cell_type": "code",
   "execution_count": 29,
   "metadata": {
    "execution": {
     "iopub.execute_input": "2021-01-13T13:59:50.584337Z",
     "iopub.status.busy": "2021-01-13T13:59:50.584135Z",
     "iopub.status.idle": "2021-01-13T13:59:50.594348Z",
     "shell.execute_reply": "2021-01-13T13:59:50.591866Z",
     "shell.execute_reply.started": "2021-01-13T13:59:50.584270Z"
    }
   },
   "outputs": [
    {
     "data": {
      "text/plain": [
       "40.15872097015381"
      ]
     },
     "execution_count": 29,
     "metadata": {},
     "output_type": "execute_result"
    }
   ],
   "source": [
    "time.time() - start "
   ]
  },
  {
   "cell_type": "code",
   "execution_count": null,
   "metadata": {},
   "outputs": [],
   "source": []
  },
  {
   "cell_type": "code",
   "execution_count": null,
   "metadata": {},
   "outputs": [],
   "source": []
  },
  {
   "cell_type": "code",
   "execution_count": null,
   "metadata": {},
   "outputs": [],
   "source": [
    "?run"
   ]
  },
  {
   "cell_type": "code",
   "execution_count": null,
   "metadata": {},
   "outputs": [],
   "source": [
    "?device.activate()"
   ]
  },
  {
   "cell_type": "code",
   "execution_count": null,
   "metadata": {},
   "outputs": [],
   "source": [
    "?device.build()"
   ]
  },
  {
   "cell_type": "code",
   "execution_count": null,
   "metadata": {},
   "outputs": [],
   "source": [
    "?set_device()"
   ]
  },
  {
   "cell_type": "code",
   "execution_count": null,
   "metadata": {},
   "outputs": [],
   "source": [
    "itter1 "
   ]
  },
  {
   "cell_type": "code",
   "execution_count": null,
   "metadata": {},
   "outputs": [],
   "source": [
    "itter2"
   ]
  },
  {
   "cell_type": "code",
   "execution_count": null,
   "metadata": {},
   "outputs": [],
   "source": [
    "itter3"
   ]
  },
  {
   "cell_type": "code",
   "execution_count": null,
   "metadata": {},
   "outputs": [],
   "source": [
    "itter4"
   ]
  },
  {
   "cell_type": "code",
   "execution_count": null,
   "metadata": {},
   "outputs": [],
   "source": []
  },
  {
   "cell_type": "code",
   "execution_count": null,
   "metadata": {},
   "outputs": [],
   "source": []
  },
  {
   "cell_type": "code",
   "execution_count": null,
   "metadata": {},
   "outputs": [],
   "source": []
  },
  {
   "cell_type": "code",
   "execution_count": null,
   "metadata": {},
   "outputs": [],
   "source": []
  },
  {
   "cell_type": "code",
   "execution_count": null,
   "metadata": {},
   "outputs": [],
   "source": []
  },
  {
   "cell_type": "code",
   "execution_count": null,
   "metadata": {},
   "outputs": [],
   "source": [
    "\n",
    "    spikeMonitor_Multi_GR.append(spikeMonitor_GR.spike_trains())\n",
    "    spkActive_Multi_GR.append(spk_active(spikeMonitor_GR, binSize = 10, durationSimulation = 2, numNeurons = numGC))\n",
    "    \n",
    "    populationRates_GR.append(prMonitor_GR)\n",
    "    prMulti_GR_smooth.append(prMonitor_GR.smooth_rate(width = 25* ms) / Hz)\n",
    "    prMulti_GR_t.append(prMonitor_GR.t) "
   ]
  },
  {
   "cell_type": "code",
   "execution_count": null,
   "metadata": {},
   "outputs": [],
   "source": [
    "# For benchmarking time usage per step ... do not use with multiple runs \n",
    "profiling_summary(show = 10)"
   ]
  },
  {
   "cell_type": "code",
   "execution_count": null,
   "metadata": {},
   "outputs": [],
   "source": []
  },
  {
   "cell_type": "code",
   "execution_count": null,
   "metadata": {},
   "outputs": [],
   "source": [
    "\n"
   ]
  },
  {
   "cell_type": "code",
   "execution_count": null,
   "metadata": {},
   "outputs": [],
   "source": []
  },
  {
   "cell_type": "code",
   "execution_count": null,
   "metadata": {},
   "outputs": [],
   "source": []
  },
  {
   "cell_type": "code",
   "execution_count": null,
   "metadata": {},
   "outputs": [],
   "source": []
  },
  {
   "cell_type": "markdown",
   "metadata": {},
   "source": [
    "# Visualization "
   ]
  },
  {
   "cell_type": "code",
   "execution_count": null,
   "metadata": {},
   "outputs": [],
   "source": [
    "plot_potential(spikeMonitor_GR, stateMonitor_GR, 2)"
   ]
  },
  {
   "cell_type": "code",
   "execution_count": null,
   "metadata": {},
   "outputs": [],
   "source": [
    "plot_spikes(spikeMonitor_GR, stateMonitor_GR, 2)"
   ]
  },
  {
   "cell_type": "code",
   "execution_count": null,
   "metadata": {},
   "outputs": [],
   "source": [
    "plot_population(prMonitor_GR, spikeMonitor_GR, 'GranuleCells', 10, 10)"
   ]
  },
  {
   "cell_type": "code",
   "execution_count": null,
   "metadata": {},
   "outputs": [],
   "source": [
    "plot_population_Multi(prMulti_GR_smooth[0], prMulti_GR_t[0], spikeMonitor_GR, 'GranuleCells', 10, 10)"
   ]
  },
  {
   "cell_type": "code",
   "execution_count": null,
   "metadata": {},
   "outputs": [],
   "source": [
    "plot_population_Multi(prMulti_GR_smooth[1], prMulti_GR_t[1], spikeMonitor_GR, 'GranuleCells', 10, 10)"
   ]
  },
  {
   "cell_type": "code",
   "execution_count": null,
   "metadata": {},
   "outputs": [],
   "source": [
    "tempAppend = []\n",
    "neuronNumber = 0\n",
    "\n",
    "for i in range(len(spikeMonitor_Multi_GR)):\n",
    "    tempAppend.extend(pd.array(spikeMonitor_Multi_GR[i][neuronNumber])*1000)\n",
    "\n",
    "sns.kdeplot(tempAppend, bw_adjust = 0.5)"
   ]
  },
  {
   "cell_type": "code",
   "execution_count": null,
   "metadata": {},
   "outputs": [],
   "source": [
    "tempAppend = []\n",
    "neuronNumber = 1\n",
    "\n",
    "for i in range(len(spikeMonitor_Multi_GR)):\n",
    "    tempAppend.extend(pd.array(spikeMonitor_Multi_GR[i][neuronNumber])*1000)\n",
    "\n",
    "sns.kdeplot(tempAppend, bw_adjust = 0.2)"
   ]
  },
  {
   "cell_type": "code",
   "execution_count": null,
   "metadata": {},
   "outputs": [],
   "source": [
    "tempAppend = []\n",
    "neuronNumber = 2\n",
    "\n",
    "for i in range(len(spikeMonitor_Multi_GR)):\n",
    "    tempAppend.extend(pd.array(spikeMonitor_Multi_GR[i][neuronNumber])*1000)\n",
    "\n",
    "sns.kdeplot(tempAppend, bw_adjust = 0.2)"
   ]
  },
  {
   "cell_type": "code",
   "execution_count": null,
   "metadata": {},
   "outputs": [],
   "source": [
    "tempAppend = []\n",
    "neuronNumber = 19\n",
    "\n",
    "for i in range(len(spikeMonitor_Multi_GR)):\n",
    "    tempAppend.extend(pd.array(spikeMonitor_Multi_GR[i][neuronNumber])*1000)\n",
    "\n",
    "sns.kdeplot(tempAppend, bw_adjust = 0.1)"
   ]
  },
  {
   "cell_type": "markdown",
   "metadata": {},
   "source": [
    "#### Population Readouts"
   ]
  },
  {
   "cell_type": "code",
   "execution_count": null,
   "metadata": {},
   "outputs": [],
   "source": [
    "# Plotting average population firing rate across all runs \n",
    "average_prMulti = np.mean(prMulti_GR_smooth, axis = 0)\n",
    "\n",
    "plot_population_Multi_2(average_prMulti, prMulti_GR_t[1], 'GranuleCells')"
   ]
  },
  {
   "cell_type": "code",
   "execution_count": null,
   "metadata": {},
   "outputs": [],
   "source": [
    "active_percent(spikeMonitor_GR, binSize = 10, durationSimulation = 2, numNeurons = numGC, ymax = 20)"
   ]
  },
  {
   "cell_type": "code",
   "execution_count": null,
   "metadata": {},
   "outputs": [],
   "source": [
    "averaged_ActivePercent(spkActive_Multi_GR, spikeMonitor_GR, binSize = 10, durationSimulation = 2, numNeurons = numGC, ymax = 15)"
   ]
  },
  {
   "cell_type": "code",
   "execution_count": null,
   "metadata": {},
   "outputs": [],
   "source": []
  },
  {
   "cell_type": "code",
   "execution_count": null,
   "metadata": {},
   "outputs": [],
   "source": []
  },
  {
   "cell_type": "code",
   "execution_count": null,
   "metadata": {},
   "outputs": [],
   "source": []
  },
  {
   "cell_type": "code",
   "execution_count": null,
   "metadata": {},
   "outputs": [],
   "source": []
  },
  {
   "cell_type": "code",
   "execution_count": null,
   "metadata": {},
   "outputs": [],
   "source": []
  },
  {
   "cell_type": "code",
   "execution_count": null,
   "metadata": {},
   "outputs": [],
   "source": []
  },
  {
   "cell_type": "code",
   "execution_count": null,
   "metadata": {},
   "outputs": [],
   "source": []
  },
  {
   "cell_type": "code",
   "execution_count": null,
   "metadata": {},
   "outputs": [],
   "source": []
  },
  {
   "cell_type": "code",
   "execution_count": null,
   "metadata": {},
   "outputs": [],
   "source": []
  },
  {
   "cell_type": "code",
   "execution_count": null,
   "metadata": {},
   "outputs": [],
   "source": []
  },
  {
   "cell_type": "code",
   "execution_count": null,
   "metadata": {},
   "outputs": [],
   "source": []
  }
 ],
 "metadata": {
  "kernelspec": {
   "display_name": "py2_brianBrunel",
   "language": "python",
   "name": "py2_brianbrunel"
  },
  "language_info": {
   "codemirror_mode": {
    "name": "ipython",
    "version": 2
   },
   "file_extension": ".py",
   "mimetype": "text/x-python",
   "name": "python",
   "nbconvert_exporter": "python",
   "pygments_lexer": "ipython2",
   "version": "2.7.18"
  },
  "toc-autonumbering": false,
  "toc-showmarkdowntxt": false,
  "toc-showtags": false
 },
 "nbformat": 4,
 "nbformat_minor": 4
}
