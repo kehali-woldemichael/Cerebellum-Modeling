{
 "cells": [
  {
   "cell_type": "code",
   "execution_count": 1,
   "metadata": {
    "execution": {
     "iopub.execute_input": "2021-01-06T18:33:49.068627Z",
     "iopub.status.busy": "2021-01-06T18:33:49.068254Z",
     "iopub.status.idle": "2021-01-06T18:33:56.497683Z",
     "shell.execute_reply": "2021-01-06T18:33:56.495083Z",
     "shell.execute_reply.started": "2021-01-06T18:33:49.068510Z"
    }
   },
   "outputs": [
    {
     "name": "stdout",
     "output_type": "stream",
     "text": [
      "INFO _last_run_time = 0.0 s\n"
     ]
    }
   ],
   "source": [
    "from brian2 import *\n",
    "\n",
    "import brian2cuda\n",
    "\n",
    "set_device('cuda_standalone', directory = None, compile=True, run=True, debug=True)\n",
    "\n",
    "run(2*second)"
   ]
  },
  {
   "cell_type": "code",
   "execution_count": 2,
   "metadata": {
    "execution": {
     "iopub.execute_input": "2021-01-06T18:33:56.499150Z",
     "iopub.status.busy": "2021-01-06T18:33:56.498831Z",
     "iopub.status.idle": "2021-01-06T18:33:56.506817Z",
     "shell.execute_reply": "2021-01-06T18:33:56.505150Z",
     "shell.execute_reply.started": "2021-01-06T18:33:56.499012Z"
    }
   },
   "outputs": [],
   "source": [
    "device.reinit()\n",
    "device.activate()"
   ]
  },
  {
   "cell_type": "code",
   "execution_count": 3,
   "metadata": {
    "execution": {
     "iopub.execute_input": "2021-01-06T18:33:56.508323Z",
     "iopub.status.busy": "2021-01-06T18:33:56.507980Z",
     "iopub.status.idle": "2021-01-06T18:34:00.073063Z",
     "shell.execute_reply": "2021-01-06T18:34:00.070414Z",
     "shell.execute_reply.started": "2021-01-06T18:33:56.508225Z"
    }
   },
   "outputs": [
    {
     "name": "stdout",
     "output_type": "stream",
     "text": [
      "INFO _last_run_time = 0.0 s\n"
     ]
    }
   ],
   "source": [
    "run(2*second)"
   ]
  },
  {
   "cell_type": "code",
   "execution_count": null,
   "metadata": {},
   "outputs": [],
   "source": []
  },
  {
   "cell_type": "code",
   "execution_count": null,
   "metadata": {},
   "outputs": [],
   "source": []
  },
  {
   "cell_type": "code",
   "execution_count": null,
   "metadata": {},
   "outputs": [],
   "source": []
  }
 ],
 "metadata": {
  "kernelspec": {
   "display_name": "py2_brianBrunel",
   "language": "python",
   "name": "py2_brianbrunel"
  },
  "language_info": {
   "codemirror_mode": {
    "name": "ipython",
    "version": 2
   },
   "file_extension": ".py",
   "mimetype": "text/x-python",
   "name": "python",
   "nbconvert_exporter": "python",
   "pygments_lexer": "ipython2",
   "version": "2.7.18"
  }
 },
 "nbformat": 4,
 "nbformat_minor": 4
}
