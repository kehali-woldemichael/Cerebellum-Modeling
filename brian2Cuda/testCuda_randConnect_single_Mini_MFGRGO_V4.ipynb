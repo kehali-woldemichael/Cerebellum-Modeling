{
 "cells": [
  {
   "cell_type": "markdown",
   "metadata": {},
   "source": [
    "# Initializing "
   ]
  },
  {
   "cell_type": "code",
   "execution_count": 1,
   "metadata": {
    "execution": {
     "iopub.execute_input": "2021-01-13T14:37:01.997995Z",
     "iopub.status.busy": "2021-01-13T14:37:01.997654Z",
     "iopub.status.idle": "2021-01-13T14:37:02.004459Z",
     "shell.execute_reply": "2021-01-13T14:37:02.002969Z",
     "shell.execute_reply.started": "2021-01-13T14:37:01.997954Z"
    }
   },
   "outputs": [],
   "source": [
    "import time \n",
    "\n",
    "# Misc \n",
    "start = time.time()\n",
    "outputDirectory = '/home/user1/Dropbox/Research/Neurobiology_PhD/Rotations/Brunel/Code/Personal/brian2cuda/CUBA_CUDA_sp'"
   ]
  },
  {
   "cell_type": "code",
   "execution_count": 2,
   "metadata": {
    "execution": {
     "iopub.execute_input": "2021-01-13T14:37:02.005702Z",
     "iopub.status.busy": "2021-01-13T14:37:02.005392Z",
     "iopub.status.idle": "2021-01-13T14:37:02.025865Z",
     "shell.execute_reply": "2021-01-13T14:37:02.023350Z",
     "shell.execute_reply.started": "2021-01-13T14:37:02.005603Z"
    }
   },
   "outputs": [
    {
     "name": "stderr",
     "output_type": "stream",
     "text": [
      "/home/user1/.pyenv/versions/2.7.18/envs/py2_brianBrunel/lib/python2.7/site-packages/ipykernel_launcher.py:1: UserWarning: Config option `use_jedi` not recognized by `IPCompleter`.\n",
      "  \"\"\"Entry point for launching an IPython kernel.\n"
     ]
    }
   ],
   "source": [
    "%config Completer.use_jedi = False "
   ]
  },
  {
   "cell_type": "code",
   "execution_count": 3,
   "metadata": {
    "execution": {
     "iopub.execute_input": "2021-01-13T14:37:02.027189Z",
     "iopub.status.busy": "2021-01-13T14:37:02.026914Z",
     "iopub.status.idle": "2021-01-13T14:37:02.262406Z",
     "shell.execute_reply": "2021-01-13T14:37:02.259738Z",
     "shell.execute_reply.started": "2021-01-13T14:37:02.027143Z"
    }
   },
   "outputs": [],
   "source": [
    "import matplotlib\n",
    "matplotlib.use('Agg')\n",
    "\n",
    "%matplotlib inline"
   ]
  },
  {
   "cell_type": "code",
   "execution_count": 4,
   "metadata": {
    "execution": {
     "iopub.execute_input": "2021-01-13T14:37:02.263539Z",
     "iopub.status.busy": "2021-01-13T14:37:02.263220Z",
     "iopub.status.idle": "2021-01-13T14:37:02.564672Z",
     "shell.execute_reply": "2021-01-13T14:37:02.562196Z",
     "shell.execute_reply.started": "2021-01-13T14:37:02.263360Z"
    }
   },
   "outputs": [],
   "source": [
    "import numpy as np \n",
    "import matplotlib.pyplot as plt \n",
    "import pandas as pd \n",
    "import seaborn as sns "
   ]
  },
  {
   "cell_type": "code",
   "execution_count": 5,
   "metadata": {
    "execution": {
     "iopub.execute_input": "2021-01-13T14:37:02.566073Z",
     "iopub.status.busy": "2021-01-13T14:37:02.565679Z",
     "iopub.status.idle": "2021-01-13T14:37:04.305939Z",
     "shell.execute_reply": "2021-01-13T14:37:04.303526Z",
     "shell.execute_reply.started": "2021-01-13T14:37:02.565938Z"
    }
   },
   "outputs": [],
   "source": [
    "from brian2 import *\n",
    "import brian2cuda\n",
    "\n",
    "set_device('cuda_standalone', directory=outputDirectory,compile=True, run=True, debug=True, clean=True)"
   ]
  },
  {
   "cell_type": "markdown",
   "metadata": {},
   "source": [
    "#### Personal Functions "
   ]
  },
  {
   "cell_type": "code",
   "execution_count": 6,
   "metadata": {
    "execution": {
     "iopub.execute_input": "2021-01-13T14:37:04.307085Z",
     "iopub.status.busy": "2021-01-13T14:37:04.306781Z",
     "iopub.status.idle": "2021-01-13T14:37:04.318774Z",
     "shell.execute_reply": "2021-01-13T14:37:04.316153Z",
     "shell.execute_reply.started": "2021-01-13T14:37:04.306931Z"
    }
   },
   "outputs": [],
   "source": [
    "def visualise_connectivity(S):\n",
    "    Ns = len(S.source)\n",
    "    Nt = len(S.target)\n",
    "    figure(figsize=(10, 4))\n",
    "    subplot(121)\n",
    "    plot(zeros(Ns), arange(Ns), 'ok', ms=10)\n",
    "    plot(ones(Nt), arange(Nt), 'ok', ms=10)\n",
    "    for i, j in zip(S.i, S.j):\n",
    "        plot([0, 1], [i, j], '-k')\n",
    "    xticks([0, 1], ['Source', 'Target'])\n",
    "    ylabel('Neuron index')\n",
    "    xlim(-0.1, 1.1)\n",
    "    ylim(-1, max(Ns, Nt))\n",
    "    subplot(122)\n",
    "    plot(S.i, S.j, 'ok')\n",
    "    xlim(-1, Ns)\n",
    "    ylim(-1, Nt)\n",
    "    xlabel('Source neuron index')\n",
    "    ylabel('Target neuron index')"
   ]
  },
  {
   "cell_type": "code",
   "execution_count": 7,
   "metadata": {
    "execution": {
     "iopub.execute_input": "2021-01-13T14:37:04.320239Z",
     "iopub.status.busy": "2021-01-13T14:37:04.319914Z",
     "iopub.status.idle": "2021-01-13T14:37:04.339879Z",
     "shell.execute_reply": "2021-01-13T14:37:04.337216Z",
     "shell.execute_reply.started": "2021-01-13T14:37:04.320123Z"
    }
   },
   "outputs": [],
   "source": [
    "def plot_spikes(monitor, stateMonitor, rangeNeurons):\n",
    "    for i in range(rangeNeurons):\n",
    "        spikes = (monitor.t[monitor.i == i] - defaultclock.dt)/ms\n",
    "        val = stateMonitor[i].V\n",
    "        subplot(rangeNeurons, 1, i+1)\n",
    "        plot(tile(spikes, (2, 1)), vstack((val[array(spikes, dtype=int)], zeros(len(spikes)))), 'C0')\n",
    "        title(\"Spikes\")\n",
    "    tight_layout()\n",
    "    show()"
   ]
  },
  {
   "cell_type": "code",
   "execution_count": 8,
   "metadata": {
    "execution": {
     "iopub.execute_input": "2021-01-13T14:37:04.341408Z",
     "iopub.status.busy": "2021-01-13T14:37:04.341030Z",
     "iopub.status.idle": "2021-01-13T14:37:04.350702Z",
     "shell.execute_reply": "2021-01-13T14:37:04.348152Z",
     "shell.execute_reply.started": "2021-01-13T14:37:04.341284Z"
    }
   },
   "outputs": [],
   "source": [
    "def plot_potential(monitor, stateMonitor, rangeNeurons):\n",
    "    for i in range(rangeNeurons):\n",
    "        spikes = (monitor.t[monitor.i == i] - defaultclock.dt)/ms\n",
    "        val = stateMonitor[i].V\n",
    "        subplot(rangeNeurons, 1, i+1)\n",
    "        plot(stateMonitor.t/ms, val)\n",
    "        title(\"Trace\")\n",
    "    tight_layout()\n",
    "    show()"
   ]
  },
  {
   "cell_type": "code",
   "execution_count": 9,
   "metadata": {
    "execution": {
     "iopub.execute_input": "2021-01-13T14:37:04.352319Z",
     "iopub.status.busy": "2021-01-13T14:37:04.351976Z",
     "iopub.status.idle": "2021-01-13T14:37:04.367067Z",
     "shell.execute_reply": "2021-01-13T14:37:04.364493Z",
     "shell.execute_reply.started": "2021-01-13T14:37:04.352228Z"
    }
   },
   "outputs": [],
   "source": [
    "def plot_population(prMonitorRun, spikeMonitorRun, labelGroup, nActivity, pRun): \n",
    "    # plotting\n",
    "    title('Population rates')\n",
    "    xlabel('ms')\n",
    "    ylabel('Hz')\n",
    "\n",
    "    plot(prMonitorRun.t / ms, prMonitorRun.smooth_rate(width=25 * ms) / Hz, label=labelGroup)\n",
    "\n",
    "    legend()\n",
    "    figure()\n",
    "\n",
    "    title('Population activities ({} neurons/pop)'.format(nActivity))\n",
    "    xlabel('ms')\n",
    "    yticks([])\n",
    "\n",
    "    plot(spikeMonitorRun.t / ms, spikeMonitorRun.i + (pRun + 1) * nActivity, '.', markersize=2, label=labelGroup) \n",
    "\n",
    "\n",
    "    legend()\n",
    "    show()"
   ]
  },
  {
   "cell_type": "code",
   "execution_count": 10,
   "metadata": {
    "execution": {
     "iopub.execute_input": "2021-01-13T14:37:04.368645Z",
     "iopub.status.busy": "2021-01-13T14:37:04.368264Z",
     "iopub.status.idle": "2021-01-13T14:37:04.381621Z",
     "shell.execute_reply": "2021-01-13T14:37:04.380051Z",
     "shell.execute_reply.started": "2021-01-13T14:37:04.368521Z"
    }
   },
   "outputs": [],
   "source": [
    "def plot_population_Multi(prMonitorRun_smooth, prMonitorRun_t, spikeMonitorRun, labelGroup, nActivity, pRun): \n",
    "    # plotting\n",
    "    title('Population rates')\n",
    "    xlabel('ms')\n",
    "    ylabel('Hz')\n",
    "\n",
    "    plot(prMonitorRun_t / ms, prMonitorRun_smooth, label=labelGroup)\n",
    "\n",
    "    legend()\n",
    "    figure()\n",
    "\n",
    "    title('Population activities ({} neurons/pop)'.format(nActivity))\n",
    "    xlabel('ms')\n",
    "    yticks([])\n",
    "\n",
    "    plot(spikeMonitorRun.t / ms, spikeMonitorRun.i + (pRun + 1) * nActivity, '.', markersize=2, label=labelGroup) \n",
    "\n",
    "    legend()\n",
    "    show()"
   ]
  },
  {
   "cell_type": "code",
   "execution_count": 11,
   "metadata": {
    "execution": {
     "iopub.execute_input": "2021-01-13T14:37:04.382868Z",
     "iopub.status.busy": "2021-01-13T14:37:04.382583Z",
     "iopub.status.idle": "2021-01-13T14:37:04.390851Z",
     "shell.execute_reply": "2021-01-13T14:37:04.389225Z",
     "shell.execute_reply.started": "2021-01-13T14:37:04.382787Z"
    }
   },
   "outputs": [],
   "source": [
    "def plot_population_Multi_2(prMonitorRun_smooth, prMonitorRun_t, labelGroup): \n",
    "    # plotting\n",
    "    title('Population rates')\n",
    "    xlabel('ms')\n",
    "    ylabel('Hz')\n",
    "\n",
    "    plot(prMonitorRun_t / ms, prMonitorRun_smooth, label=labelGroup)\n",
    "\n",
    "    legend()\n",
    "    show()"
   ]
  },
  {
   "cell_type": "code",
   "execution_count": 12,
   "metadata": {
    "execution": {
     "iopub.execute_input": "2021-01-13T14:37:04.391718Z",
     "iopub.status.busy": "2021-01-13T14:37:04.391539Z",
     "iopub.status.idle": "2021-01-13T14:37:04.407211Z",
     "shell.execute_reply": "2021-01-13T14:37:04.404328Z",
     "shell.execute_reply.started": "2021-01-13T14:37:04.391665Z"
    }
   },
   "outputs": [],
   "source": [
    "def active_percent(monitor, binSize, durationSimulation, numNeurons, ymax):\n",
    "    # Define bin size \n",
    "    bin_size = binSize*ms\n",
    "    # Define duration of simulation \n",
    "    duration = durationSimulation*second\n",
    "    # Define number of neurons \n",
    "    num_Neurons = numNeurons\n",
    "\n",
    "    # Initialize array to record spike occurancces \n",
    "    spkTotal = np.zeros([int(duration/bin_size)])\n",
    "    \n",
    "    for current in range(num_Neurons): \n",
    "        spk_count, bin_edges = np.histogram(a = np.r_[monitor.t[monitor.i == current]/second],\n",
    "                                            bins = int(duration/bin_size), range = (0,durationSimulation))\n",
    "        # Convert spike count to binary \n",
    "        binary = np.where(spk_count > 0, 1, 0)\n",
    "        # Add to recording array\n",
    "        spkTotal = spkTotal + binary\n",
    "\n",
    "    plt.plot(bin_edges[:-1], (spkTotal/num_Neurons)*100)\n",
    "    plt.axis([0, durationSimulation, 0, ymax])\n",
    "    plt.title('Percent active granule cells as function of time')\n",
    "    plt.ylabel('Active Cell (%)')\n",
    "    plt.xlabel('Time (s)')\n",
    "    plt.show()"
   ]
  },
  {
   "cell_type": "code",
   "execution_count": 13,
   "metadata": {
    "execution": {
     "iopub.execute_input": "2021-01-13T14:37:04.409122Z",
     "iopub.status.busy": "2021-01-13T14:37:04.408716Z",
     "iopub.status.idle": "2021-01-13T14:37:04.421850Z",
     "shell.execute_reply": "2021-01-13T14:37:04.419397Z",
     "shell.execute_reply.started": "2021-01-13T14:37:04.408992Z"
    }
   },
   "outputs": [],
   "source": [
    "def averaged_ActivePercent(spkMulti, spkSingle, binSize, durationSimulation, numNeurons, ymax):\n",
    "    # Define bin size \n",
    "    bin_size = binSize*ms\n",
    "    # Define duration of simulation \n",
    "    duration = durationSimulation*second\n",
    "    # Define number of neurons \n",
    "    num_Neurons = numNeurons\n",
    "    \n",
    "    spk_count, bin_edges = np.histogram(a = np.r_[spkSingle.t[spkSingle.i == 1]/second],\n",
    "                                        bins = int(duration/bin_size), range = (0,durationSimulation))\n",
    "\n",
    "    averaged_spkMulti = np.mean(spkMulti, axis = 0)\n",
    "    \n",
    "    plt.plot(bin_edges[:-1], averaged_spkMulti)\n",
    "    plt.axis([0, durationSimulation, 0, ymax])\n",
    "    plt.title('Percent active granule cells as function of time')\n",
    "    plt.ylabel('Active Cell (%)')\n",
    "    plt.xlabel('Time (s)')\n",
    "    plt.show()"
   ]
  },
  {
   "cell_type": "markdown",
   "metadata": {},
   "source": [
    "#### General paramaters "
   ]
  },
  {
   "cell_type": "code",
   "execution_count": 14,
   "metadata": {
    "execution": {
     "iopub.execute_input": "2021-01-13T14:37:04.422970Z",
     "iopub.status.busy": "2021-01-13T14:37:04.422769Z",
     "iopub.status.idle": "2021-01-13T14:37:04.436452Z",
     "shell.execute_reply": "2021-01-13T14:37:04.433985Z",
     "shell.execute_reply.started": "2021-01-13T14:37:04.422900Z"
    }
   },
   "outputs": [],
   "source": [
    "# spatial \n",
    "#gC = 320\n",
    "gC = 10\n",
    "numGC = gC**2 \n",
    "gG = 32 \n",
    "#numGolgi = gG**2  \n",
    "numGolgi = 10 \n",
    "gGlo = 31\n",
    "numGlomeruli = gGlo**2\n",
    "\n",
    "# Spatial paramaters \n",
    "gcSpacing = ((gG*(gG-1))/(gC-1))*umetre \n",
    "golgiSpacing = 32*umetre \n",
    "\n",
    "gcSpacing = ((gG*(gG-1))/(gC-1))*umetre "
   ]
  },
  {
   "cell_type": "markdown",
   "metadata": {},
   "source": [
    "# Neuron Models"
   ]
  },
  {
   "cell_type": "markdown",
   "metadata": {},
   "source": [
    "#### Granule Cells "
   ]
  },
  {
   "cell_type": "code",
   "execution_count": 15,
   "metadata": {
    "execution": {
     "iopub.execute_input": "2021-01-13T14:37:04.437418Z",
     "iopub.status.busy": "2021-01-13T14:37:04.437253Z",
     "iopub.status.idle": "2021-01-13T14:37:04.481131Z",
     "shell.execute_reply": "2021-01-13T14:37:04.478684Z",
     "shell.execute_reply.started": "2021-01-13T14:37:04.437381Z"
    }
   },
   "outputs": [],
   "source": [
    "# Parameters \n",
    "\n",
    "# neuron parameters\n",
    "theta_GR = -35*mV # threshold (from Yamazaki) \n",
    "Cm_GR = 3.1*pF \n",
    "\n",
    "# Conductances \n",
    "gL_GR = 0.43*nS \n",
    "g_AMPA_GR = 0.18*nS \n",
    "g_NMDA_GR = 0.025*nS \n",
    "g_Inh_GR = 0.028*nS \n",
    "g_Ahp_GR = 1*nS\n",
    "\n",
    "# Various leaks (from Yamazaki) \n",
    "El_GR = -58*mV\n",
    "Eexc = 0*mV \n",
    "E_inh_GR = -82*mV \n",
    "E_ahp_GR = -82*mV # after hyperpolarization \n",
    "\n",
    "# Tau\n",
    "tau_ahp_GR = 5*ms \n",
    "tau_AMPA_GR = 1.2*ms \n",
    "tau_NMDA_GR = 52.0*ms \n",
    "tau_GABA_1_GR = 7*ms\n",
    "tau_GABA_2_GR = 59*ms\n",
    "\n",
    "eqs_GR = Equations('''\n",
    "                        dV / dt = (-gL_GR * (V - El_GR) - I_syn) / Cm_GR : volt (unless refractory)\n",
    "                        \n",
    "                        I_syn = I_AMPA + I_NMDA + I_GABA_tot : amp \n",
    "                        I_GABA_tot = 0.43*I_GABA_1 + 0.57*I_GABA_2 : amp \n",
    "                        \n",
    "                        I_AMPA = g_AMPA_GR * (V - Eexc) * s_AMPA : amp\n",
    "                        ds_AMPA / dt = -s_AMPA / tau_AMPA_GR : 1 \n",
    "                        \n",
    "                        I_NMDA = g_NMDA_GR * (V - Eexc) * s_NMDA : amp\n",
    "                        ds_NMDA / dt = -s_NMDA / tau_NMDA_GR : 1 \n",
    "                        \n",
    "                        I_GABA_1 = g_Inh_GR * (V - E_inh_GR) * s_GABA_1 : amp\n",
    "                        ds_GABA_1 / dt = -s_GABA_1 / tau_GABA_1_GR : 1 \n",
    "                        \n",
    "                        I_GABA_2 = g_Inh_GR * (V - E_inh_GR) * s_GABA_2 : amp\n",
    "                        ds_GABA_2 / dt = -s_GABA_2 / tau_GABA_2_GR : 1 \n",
    "                        \n",
    "                        x : metre \n",
    "                        y : metre \n",
    "                ''')\n",
    "\n",
    "# Defining granule cell neuron group \n",
    "granuleCells = NeuronGroup(N=numGC, model=eqs_GR, reset='V = El_GR',\n",
    "                    threshold='V > theta_GR',\n",
    "                    refractory=2*ms, method='euler')\n",
    "granuleCells.V = El_GR "
   ]
  },
  {
   "cell_type": "code",
   "execution_count": 16,
   "metadata": {
    "execution": {
     "iopub.execute_input": "2021-01-13T14:37:04.482147Z",
     "iopub.status.busy": "2021-01-13T14:37:04.481941Z",
     "iopub.status.idle": "2021-01-13T14:37:04.851831Z",
     "shell.execute_reply": "2021-01-13T14:37:04.849224Z",
     "shell.execute_reply.started": "2021-01-13T14:37:04.482072Z"
    }
   },
   "outputs": [
    {
     "data": {
      "text/html": [
       "NeuronGroup \"neurongroup\" with 100 neurons.<br>\n",
       "<b>Model:</b><nr>\n",
       "\\begin{align*}\\frac{\\mathrm{d}s_{AMPA}}{\\mathrm{d}t} &= - \\frac{s_{AMPA}}{\\tau_{AMPA GR}} && \\text{(unit of $s_{AMPA}$: $\\mathrm{rad}$)}\\\\\n",
       "I_{GABA 2} &= g_{Inh GR} s_{GABA 2} \\left(- E_{inh GR} + V\\right) && \\text{(unit of $I_{GABA 2}$: $\\mathrm{A}$)}\\\\\n",
       "I_{syn} &= I_{AMPA} + I_{GABA tot} + I_{NMDA} && \\text{(unit of $I_{syn}$: $\\mathrm{A}$)}\\\\\n",
       "I_{NMDA} &= g_{NMDA GR} s_{NMDA} \\left(- Eexc + V\\right) && \\text{(unit of $I_{NMDA}$: $\\mathrm{A}$)}\\\\\n",
       "\\frac{\\mathrm{d}s_{NMDA}}{\\mathrm{d}t} &= - \\frac{s_{NMDA}}{\\tau_{NMDA GR}} && \\text{(unit of $s_{NMDA}$: $\\mathrm{rad}$)}\\\\\n",
       "I_{GABA 1} &= g_{Inh GR} s_{GABA 1} \\left(- E_{inh GR} + V\\right) && \\text{(unit of $I_{GABA 1}$: $\\mathrm{A}$)}\\\\\n",
       "I_{GABA tot} &= 0.43 I_{GABA 1} + 0.57 I_{GABA 2} && \\text{(unit of $I_{GABA tot}$: $\\mathrm{A}$)}\\\\\n",
       "I_{AMPA} &= g_{AMPA GR} s_{AMPA} \\left(- Eexc + V\\right) && \\text{(unit of $I_{AMPA}$: $\\mathrm{A}$)}\\\\\n",
       "\\frac{\\mathrm{d}s_{GABA 1}}{\\mathrm{d}t} &= - \\frac{s_{GABA 1}}{\\tau_{GABA 1 GR}} && \\text{(unit of $s_{GABA 1}$: $\\mathrm{rad}$)}\\\\\n",
       "\\frac{\\mathrm{d}s_{GABA 2}}{\\mathrm{d}t} &= - \\frac{s_{GABA 2}}{\\tau_{GABA 2 GR}} && \\text{(unit of $s_{GABA 2}$: $\\mathrm{rad}$)}\\\\\n",
       "\\frac{\\mathrm{d}V}{\\mathrm{d}t} &= \\frac{\\left(- I_{syn} - gL_{GR} \\left(- El_{GR} + V\\right)\\right) \\operatorname{int_{}}{\\left(not_{refractory} \\right)}}{Cm_{GR}} && \\text{(unit of $V$: $\\mathrm{V}$, flags: unless refractory)}\\\\\n",
       "y &&& \\text{(unit: $\\mathrm{m}$)}\\\\\n",
       "x &&& \\text{(unit: $\\mathrm{m}$)}\\\\\n",
       "lastspike &&& \\text{(unit: $\\mathrm{s}$)}\\\\\n",
       "not_{refractory} &&& \\text{(unit: $\\mathrm{rad}$)}\\end{align*}\n",
       "<b>Spiking behaviour:</b><ul style=\"list-style-type: none; margin-top: 0px;\">\n",
       "<li><i>Threshold condition: </i>\n",
       "<code>V > theta_GR</code></li>\n",
       "<li><i>Reset statement(s):</i>\n",
       "<code>V = El_GR</code></li>\n",
       "</ul>"
      ],
      "text/plain": [
       "NeuronGroup(clock=Clock(dt=100. * usecond, name='defaultclock'), when=start, order=0, name='neurongroup')"
      ]
     },
     "execution_count": 16,
     "metadata": {},
     "output_type": "execute_result"
    }
   ],
   "source": [
    "granuleCells"
   ]
  },
  {
   "cell_type": "code",
   "execution_count": 17,
   "metadata": {
    "execution": {
     "iopub.execute_input": "2021-01-13T14:37:04.853538Z",
     "iopub.status.busy": "2021-01-13T14:37:04.853191Z",
     "iopub.status.idle": "2021-01-13T14:37:04.961209Z",
     "shell.execute_reply": "2021-01-13T14:37:04.959622Z",
     "shell.execute_reply.started": "2021-01-13T14:37:04.853420Z"
    }
   },
   "outputs": [],
   "source": [
    "# Defining MF input \n",
    "\n",
    "# Defining input parameters \n",
    "num_inputs = 100\n",
    "f = 0.5*Hz \n",
    "eq_rate = '(22.5 + 7.5*cos((2*pi*t*f) + pi))*Hz'\n",
    "\n",
    "# Equations \n",
    "eqs_glut_MFGR = '''\n",
    "               w_MFGR : 1 \n",
    "               '''\n",
    "eqs_pre_glut_MFGR = '''\n",
    "               s_AMPA += w_MFGR\n",
    "               s_NMDA += w_MFGR\n",
    "               '''\n",
    "\n",
    "P_MFGR = PoissonGroup(num_inputs, rates = eq_rate)\n",
    "S_MFGR = Synapses(P_MFGR, granuleCells, model = eqs_glut_MFGR, on_pre = eqs_pre_glut_MFGR, method = 'euler') \n",
    "S_MFGR.connect(condition = 'i == j')\n",
    "S_MFGR.w_MFGR = 4\n",
    "\n"
   ]
  },
  {
   "cell_type": "code",
   "execution_count": 18,
   "metadata": {
    "execution": {
     "iopub.execute_input": "2021-01-13T14:37:04.962232Z",
     "iopub.status.busy": "2021-01-13T14:37:04.962018Z",
     "iopub.status.idle": "2021-01-13T14:37:04.967538Z",
     "shell.execute_reply": "2021-01-13T14:37:04.965044Z",
     "shell.execute_reply.started": "2021-01-13T14:37:04.962147Z"
    }
   },
   "outputs": [],
   "source": [
    "# Visualize synaptic connections \n",
    "# visualise_connectivity(S_MFGR)"
   ]
  },
  {
   "cell_type": "markdown",
   "metadata": {},
   "source": [
    "#### Golgi"
   ]
  },
  {
   "cell_type": "code",
   "execution_count": 19,
   "metadata": {
    "execution": {
     "iopub.execute_input": "2021-01-13T14:37:04.968816Z",
     "iopub.status.busy": "2021-01-13T14:37:04.968496Z",
     "iopub.status.idle": "2021-01-13T14:37:05.010249Z",
     "shell.execute_reply": "2021-01-13T14:37:05.009681Z",
     "shell.execute_reply.started": "2021-01-13T14:37:04.968635Z"
    }
   },
   "outputs": [],
   "source": [
    "# Parameters \n",
    "\n",
    "# neuron parameters\n",
    "theta_GO = -52*mV # threshold (from Yamazaki) \n",
    "Cm_GO = 28.0*pF \n",
    "\n",
    "# Conductances \n",
    "gL_GO = 2.3*nS \n",
    "g_AMPA_GO = 45.5*nS \n",
    "g_NMDA_GO = 30.0*nS \n",
    "g_Ahp_GO = 20*nS\n",
    "\n",
    "El_GO = -55*mV\n",
    "Eexc = 0*mV \n",
    "E_ahp_GO = -72.7*mV # after hyperpolarization \n",
    "\n",
    "# Tau\n",
    "tau_ahp_GO = 5*ms \n",
    "tau_AMPA_GO = 1.5*ms \n",
    "tau_NMDA_1_GO = 31.0*ms \n",
    "tau_NMDA_2_GO = 170.0*ms \n",
    "\n",
    "eqs_GO = Equations('''\n",
    "                        dV / dt = (-gL_GO * (V - El_GO) - I_syn) / Cm_GO : volt (unless refractory)\n",
    "                        \n",
    "                        I_syn = I_AMPA + I_NMDA_tot : amp \n",
    "                        I_NMDA_tot = 0.33*I_NMDA_1 + 0.67*I_NMDA_2 : amp\n",
    "                        \n",
    "                        I_AMPA = g_AMPA_GR * (V - Eexc) * s_AMPA : amp\n",
    "                        ds_AMPA / dt = -s_AMPA / tau_AMPA_GO : 1 \n",
    "                        \n",
    "                        I_NMDA_1 = g_NMDA_GO * (V - Eexc) * s_NMDA_1 : amp\n",
    "                        ds_NMDA_1 / dt = -s_NMDA_1 / tau_NMDA_1_GO : 1 \n",
    "                        \n",
    "                        I_NMDA_2 = g_NMDA_GO * (V - Eexc) * s_NMDA_2 : amp\n",
    "                        ds_NMDA_2 / dt = -s_NMDA_2 / tau_NMDA_2_GO : 1 \n",
    "                        \n",
    "                        x : metre \n",
    "                        y : metre \n",
    "                ''')\n",
    "\n",
    "# Defining granule cell neuron group \n",
    "golgi = NeuronGroup(N=numGolgi, model=eqs_GO, reset='V = El_GO',\n",
    "                    threshold='V > theta_GO',\n",
    "                    refractory=5*ms, method='euler')\n",
    "golgi.V = El_GO "
   ]
  },
  {
   "cell_type": "code",
   "execution_count": 20,
   "metadata": {
    "execution": {
     "iopub.execute_input": "2021-01-13T14:37:05.011128Z",
     "iopub.status.busy": "2021-01-13T14:37:05.010978Z",
     "iopub.status.idle": "2021-01-13T14:37:05.016222Z",
     "shell.execute_reply": "2021-01-13T14:37:05.013864Z",
     "shell.execute_reply.started": "2021-01-13T14:37:05.011101Z"
    }
   },
   "outputs": [],
   "source": [
    "#golgi"
   ]
  },
  {
   "cell_type": "markdown",
   "metadata": {},
   "source": [
    "#  Establishing Connectivity "
   ]
  },
  {
   "cell_type": "markdown",
   "metadata": {},
   "source": [
    "#### Paramaters "
   ]
  },
  {
   "cell_type": "code",
   "execution_count": 21,
   "metadata": {
    "execution": {
     "iopub.execute_input": "2021-01-13T14:37:05.017516Z",
     "iopub.status.busy": "2021-01-13T14:37:05.017219Z",
     "iopub.status.idle": "2021-01-13T14:37:05.032135Z",
     "shell.execute_reply": "2021-01-13T14:37:05.029542Z",
     "shell.execute_reply.started": "2021-01-13T14:37:05.017472Z"
    }
   },
   "outputs": [],
   "source": [
    "# Connection probability \n",
    "pr_GRGO = 0.0245\n",
    "#pr_GOGR = 0.025\n",
    "pr_GOGR = 0.08"
   ]
  },
  {
   "cell_type": "markdown",
   "metadata": {},
   "source": [
    "#### Granule --> Golgi"
   ]
  },
  {
   "cell_type": "code",
   "execution_count": 22,
   "metadata": {
    "execution": {
     "iopub.execute_input": "2021-01-13T14:37:05.033691Z",
     "iopub.status.busy": "2021-01-13T14:37:05.033321Z",
     "iopub.status.idle": "2021-01-13T14:37:05.041842Z",
     "shell.execute_reply": "2021-01-13T14:37:05.039375Z",
     "shell.execute_reply.started": "2021-01-13T14:37:05.033638Z"
    }
   },
   "outputs": [],
   "source": [
    "# Equations \n",
    "eqs_glut_GRGO = '''\n",
    "               w_GRGO : 1 \n",
    "               '''\n",
    "eqs_pre_glut_GRGO = '''\n",
    "               s_AMPA += 1\n",
    "               s_NMDA_1 += 1\n",
    "               s_NMDA_2 += 1 \n",
    "               '''"
   ]
  },
  {
   "cell_type": "code",
   "execution_count": 23,
   "metadata": {
    "execution": {
     "iopub.execute_input": "2021-01-13T14:37:05.042803Z",
     "iopub.status.busy": "2021-01-13T14:37:05.042594Z",
     "iopub.status.idle": "2021-01-13T14:37:05.118838Z",
     "shell.execute_reply": "2021-01-13T14:37:05.116359Z",
     "shell.execute_reply.started": "2021-01-13T14:37:05.042742Z"
    }
   },
   "outputs": [],
   "source": [
    "# Forming synapses \n",
    "S_GRGO = Synapses(granuleCells, golgi, model = eqs_glut_GRGO, on_pre = eqs_pre_glut_GRGO, method = 'euler') \n",
    "S_GRGO.connect(p = pr_GRGO)"
   ]
  },
  {
   "cell_type": "code",
   "execution_count": 24,
   "metadata": {
    "execution": {
     "iopub.execute_input": "2021-01-13T14:37:05.120145Z",
     "iopub.status.busy": "2021-01-13T14:37:05.119888Z",
     "iopub.status.idle": "2021-01-13T14:37:05.126423Z",
     "shell.execute_reply": "2021-01-13T14:37:05.123864Z",
     "shell.execute_reply.started": "2021-01-13T14:37:05.120028Z"
    }
   },
   "outputs": [],
   "source": [
    "#visualise_connectivity(S_GRGO)"
   ]
  },
  {
   "cell_type": "markdown",
   "metadata": {},
   "source": [
    "#### Golgi --> Granule Cells "
   ]
  },
  {
   "cell_type": "code",
   "execution_count": 25,
   "metadata": {
    "execution": {
     "iopub.execute_input": "2021-01-13T14:37:05.127461Z",
     "iopub.status.busy": "2021-01-13T14:37:05.127199Z",
     "iopub.status.idle": "2021-01-13T14:37:05.136020Z",
     "shell.execute_reply": "2021-01-13T14:37:05.133628Z",
     "shell.execute_reply.started": "2021-01-13T14:37:05.127410Z"
    }
   },
   "outputs": [],
   "source": [
    "# Equations \n",
    "eqs_GABA_GOGR = '''\n",
    "               w_GOGR : 1 \n",
    "               '''\n",
    "eqs_pre_GABA_GOGR = '''\n",
    "               s_GABA_1 += 1\n",
    "               s_GABA_2 += 1 \n",
    "               '''"
   ]
  },
  {
   "cell_type": "code",
   "execution_count": 26,
   "metadata": {
    "execution": {
     "iopub.execute_input": "2021-01-13T14:37:05.136899Z",
     "iopub.status.busy": "2021-01-13T14:37:05.136744Z",
     "iopub.status.idle": "2021-01-13T14:37:05.236263Z",
     "shell.execute_reply": "2021-01-13T14:37:05.233695Z",
     "shell.execute_reply.started": "2021-01-13T14:37:05.136874Z"
    }
   },
   "outputs": [],
   "source": [
    "# Forming synapses \n",
    "S_GOGR = Synapses(golgi, granuleCells, model = eqs_GABA_GOGR, on_pre = eqs_pre_GABA_GOGR, method = 'euler') \n",
    "#S_GOGR.connect(condition = 'abs(i-j)<2')\n",
    "S_GOGR.connect(p = pr_GOGR)"
   ]
  },
  {
   "cell_type": "code",
   "execution_count": 27,
   "metadata": {
    "execution": {
     "iopub.execute_input": "2021-01-13T14:37:05.237295Z",
     "iopub.status.busy": "2021-01-13T14:37:05.237027Z",
     "iopub.status.idle": "2021-01-13T14:37:05.243455Z",
     "shell.execute_reply": "2021-01-13T14:37:05.241003Z",
     "shell.execute_reply.started": "2021-01-13T14:37:05.237187Z"
    }
   },
   "outputs": [],
   "source": [
    "#visualise_connectivity(S_GOGR)"
   ]
  },
  {
   "cell_type": "markdown",
   "metadata": {},
   "source": [
    "# Running simulation "
   ]
  },
  {
   "cell_type": "code",
   "execution_count": 28,
   "metadata": {
    "execution": {
     "iopub.execute_input": "2021-01-13T14:37:05.244394Z",
     "iopub.status.busy": "2021-01-13T14:37:05.244212Z",
     "iopub.status.idle": "2021-01-13T14:37:05.254232Z",
     "shell.execute_reply": "2021-01-13T14:37:05.252821Z",
     "shell.execute_reply.started": "2021-01-13T14:37:05.244338Z"
    }
   },
   "outputs": [],
   "source": [
    "def spk_active(monitor, binSize, durationSimulation, numNeurons): \n",
    "    # Define bin size \n",
    "    bin_size = binSize*ms\n",
    "    # Define duration of simulation \n",
    "    duration = durationSimulation*second\n",
    "    # Define number of neurons \n",
    "    num_Neurons = numNeurons\n",
    "\n",
    "    # Initialize array to record spike occurancces \n",
    "    spkTotal = np.zeros([int(duration/bin_size)])\n",
    "    \n",
    "    for current in range(num_Neurons): \n",
    "        spk_count, bin_edges = np.histogram(a = np.r_[monitor.t[monitor.i == current]/second],\n",
    "                                            bins = int(duration/bin_size), range = (0,2))\n",
    "        # Convert spike count to binary \n",
    "        binary = np.where(spk_count > 0, 1, 0)\n",
    "        # Add to recording array\n",
    "        spkTotal = spkTotal + binary\n",
    "    \n",
    "    return((spkTotal/num_Neurons)*100)"
   ]
  },
  {
   "cell_type": "code",
   "execution_count": 29,
   "metadata": {
    "execution": {
     "iopub.execute_input": "2021-01-13T14:37:05.255096Z",
     "iopub.status.busy": "2021-01-13T14:37:05.254914Z",
     "iopub.status.idle": "2021-01-13T14:37:05.272411Z",
     "shell.execute_reply": "2021-01-13T14:37:05.269935Z",
     "shell.execute_reply.started": "2021-01-13T14:37:05.255037Z"
    }
   },
   "outputs": [],
   "source": [
    "# Setting up monitors\n",
    "\n",
    "# Granule Cell \n",
    "spikeMonitor_GR = SpikeMonitor(granuleCells)\n",
    "stateMonitor_GR = StateMonitor(granuleCells, 'V', record=True)\n",
    "prMonitor_GR = PopulationRateMonitor(granuleCells)\n",
    "\n",
    "# Golgi cells  \n",
    "spikeMonitor_GO = SpikeMonitor(golgi)\n",
    "stateMonitor_GO = StateMonitor(golgi, 'V', record=True)\n",
    "prMonitor_GO = PopulationRateMonitor(golgi)"
   ]
  },
  {
   "cell_type": "code",
   "execution_count": 30,
   "metadata": {
    "execution": {
     "iopub.execute_input": "2021-01-13T14:37:05.273598Z",
     "iopub.status.busy": "2021-01-13T14:37:05.273357Z",
     "iopub.status.idle": "2021-01-13T14:38:11.421235Z",
     "shell.execute_reply": "2021-01-13T14:38:11.418597Z",
     "shell.execute_reply.started": "2021-01-13T14:37:05.273531Z"
    }
   },
   "outputs": [
    {
     "name": "stdout",
     "output_type": "stream",
     "text": [
      "('debug syn effect mode ', 'target')\n",
      "('debug syn effect mode ', 'target')\n",
      "('debug syn effect mode ', 'target')\n",
      "INFO _last_run_time = 36.2971 s\n"
     ]
    }
   ],
   "source": [
    "# run the simulation\n",
    "BrianLogger.log_level_info()\n",
    "run(20*second, report = 'stdout', profile = True)"
   ]
  },
  {
   "cell_type": "markdown",
   "metadata": {},
   "source": [
    "#### Benchmarking "
   ]
  },
  {
   "cell_type": "code",
   "execution_count": 31,
   "metadata": {
    "execution": {
     "iopub.execute_input": "2021-01-13T14:38:11.423119Z",
     "iopub.status.busy": "2021-01-13T14:38:11.422832Z",
     "iopub.status.idle": "2021-01-13T14:38:11.432903Z",
     "shell.execute_reply": "2021-01-13T14:38:11.430461Z",
     "shell.execute_reply.started": "2021-01-13T14:38:11.423005Z"
    }
   },
   "outputs": [
    {
     "data": {
      "text/plain": [
       "69.42364692687988"
      ]
     },
     "execution_count": 31,
     "metadata": {},
     "output_type": "execute_result"
    }
   ],
   "source": [
    "time.time() - start "
   ]
  },
  {
   "cell_type": "code",
   "execution_count": 32,
   "metadata": {
    "execution": {
     "iopub.execute_input": "2021-01-13T14:38:11.433971Z",
     "iopub.status.busy": "2021-01-13T14:38:11.433739Z",
     "iopub.status.idle": "2021-01-13T14:38:11.445806Z",
     "shell.execute_reply": "2021-01-13T14:38:11.443265Z",
     "shell.execute_reply.started": "2021-01-13T14:38:11.433873Z"
    }
   },
   "outputs": [
    {
     "data": {
      "text/html": [
       "<h2 class=\"brian_prof_summary_header\">Profiling summary</h2>\n",
       "<table class=\"brian_prof_summary_table\">\n",
       "<tr><td>statemonitor_codeobject              </td><td style=\"text-align: right\">3.20 s</td><td style=\"text-align: right\">9.97 %</td></tr>\n",
       "<tr><td>statemonitor_1_codeobject            </td><td style=\"text-align: right\">3.12 s</td><td style=\"text-align: right\">9.71 %</td></tr>\n",
       "<tr><td>neurongroup_stateupdater_codeobject  </td><td style=\"text-align: right\">2.17 s</td><td style=\"text-align: right\">6.78 %</td></tr>\n",
       "<tr><td>poissongroup_thresholder_codeobject  </td><td style=\"text-align: right\">2.01 s</td><td style=\"text-align: right\">6.27 %</td></tr>\n",
       "<tr><td>synapses_pre_codeobject              </td><td style=\"text-align: right\">1.93 s</td><td style=\"text-align: right\">6.02 %</td></tr>\n",
       "<tr><td>neurongroup_1_stateupdater_codeobject</td><td style=\"text-align: right\">1.92 s</td><td style=\"text-align: right\">5.98 %</td></tr>\n",
       "<tr><td>synapses_2_pre_codeobject            </td><td style=\"text-align: right\">1.85 s</td><td style=\"text-align: right\">5.76 %</td></tr>\n",
       "<tr><td>neurongroup_1_thresholder_codeobject </td><td style=\"text-align: right\">1.84 s</td><td style=\"text-align: right\">5.72 %</td></tr>\n",
       "<tr><td>neurongroup_thresholder_codeobject   </td><td style=\"text-align: right\">1.81 s</td><td style=\"text-align: right\">5.65 %</td></tr>\n",
       "<tr><td>synapses_1_pre_codeobject            </td><td style=\"text-align: right\">1.79 s</td><td style=\"text-align: right\">5.58 %</td></tr>\n",
       "</table>"
      ],
      "text/plain": [
       "Profiling summary\n",
       "=================\n",
       "statemonitor_codeobject                  3.20 s    9.97 %\n",
       "statemonitor_1_codeobject                3.12 s    9.71 %\n",
       "neurongroup_stateupdater_codeobject      2.17 s    6.78 %\n",
       "poissongroup_thresholder_codeobject      2.01 s    6.27 %\n",
       "synapses_pre_codeobject                  1.93 s    6.02 %\n",
       "neurongroup_1_stateupdater_codeobject    1.92 s    5.98 %\n",
       "synapses_2_pre_codeobject                1.85 s    5.76 %\n",
       "neurongroup_1_thresholder_codeobject     1.84 s    5.72 %\n",
       "neurongroup_thresholder_codeobject       1.81 s    5.65 %\n",
       "synapses_1_pre_codeobject                1.79 s    5.58 %"
      ]
     },
     "execution_count": 32,
     "metadata": {},
     "output_type": "execute_result"
    }
   ],
   "source": [
    "# For benchmarking time usage per step ... do not use with multiple runs \n",
    "profiling_summary(show = 10)"
   ]
  },
  {
   "cell_type": "markdown",
   "metadata": {},
   "source": [
    "# Visualization "
   ]
  },
  {
   "cell_type": "markdown",
   "metadata": {},
   "source": [
    "#### Splitting into runs "
   ]
  },
  {
   "cell_type": "code",
   "execution_count": null,
   "metadata": {},
   "outputs": [],
   "source": [
    "# Granule cell array \n",
    "spikeMonitor_Multi_GR = []\n",
    "spkActive_Multi_GR = []\n",
    "# Population \n",
    "populationRates_GR = []\n",
    "prMulti_GR_smooth = []\n",
    "prMulti_GR_t = []\n",
    "\n",
    "# Purkinje array \n",
    "prMulti_PKJ_smooth = []\n",
    "prMulti_PKJ_t = []\n",
    "\n",
    "# Basket cell array \n",
    "prMulti_BS_smooth = []\n",
    "prMulti_BS_t = []\n",
    "\n",
    "# Golgi array \n",
    "prMulti_GO_smooth = []\n",
    "prMulti_GO_t = []"
   ]
  },
  {
   "cell_type": "code",
   "execution_count": null,
   "metadata": {},
   "outputs": [],
   "source": []
  },
  {
   "cell_type": "code",
   "execution_count": null,
   "metadata": {},
   "outputs": [],
   "source": []
  },
  {
   "cell_type": "markdown",
   "metadata": {},
   "source": [
    "### Individial Cells "
   ]
  },
  {
   "cell_type": "code",
   "execution_count": null,
   "metadata": {},
   "outputs": [],
   "source": [
    "plot_potential(spikeMonitor_GR, stateMonitor_GR, 2)"
   ]
  },
  {
   "cell_type": "code",
   "execution_count": null,
   "metadata": {},
   "outputs": [],
   "source": [
    "plot_spikes(spikeMonitor_GR, stateMonitor_GR, 2)"
   ]
  },
  {
   "cell_type": "code",
   "execution_count": 33,
   "metadata": {
    "execution": {
     "iopub.execute_input": "2021-01-13T14:38:19.319954Z",
     "iopub.status.busy": "2021-01-13T14:38:19.319718Z",
     "iopub.status.idle": "2021-01-13T14:38:19.766084Z",
     "shell.execute_reply": "2021-01-13T14:38:19.764405Z",
     "shell.execute_reply.started": "2021-01-13T14:38:19.319921Z"
    }
   },
   "outputs": [
    {
     "data": {
      "image/png": "[encoded data removed]",
      "text/plain": [
       "<Figure size 432x288 with 1 Axes>"
      ]
     },
     "metadata": {
      "needs_background": "light"
     },
     "output_type": "display_data"
    },
    {
     "data": {
      "image/png": "[encoded data removed]",
      "text/plain": [
       "<Figure size 432x288 with 1 Axes>"
      ]
     },
     "metadata": {
      "needs_background": "light"
     },
     "output_type": "display_data"
    }
   ],
   "source": [
    "plot_population(prMonitor_GR, spikeMonitor_GR, 'GranuleCells', 100, 10)"
   ]
  },
  {
   "cell_type": "code",
   "execution_count": null,
   "metadata": {},
   "outputs": [],
   "source": [
    "plot_population_Multi(prMulti_GR_smooth[0], prMulti_GR_t[0], spikeMonitor_GR, 'GranuleCells', 10, 10)"
   ]
  },
  {
   "cell_type": "code",
   "execution_count": null,
   "metadata": {},
   "outputs": [],
   "source": [
    "plot_population_Multi(prMulti_GR_smooth[1], prMulti_GR_t[1], spikeMonitor_GR, 'GranuleCells', 10, 10)"
   ]
  },
  {
   "cell_type": "code",
   "execution_count": null,
   "metadata": {},
   "outputs": [],
   "source": [
    "tempAppend = []\n",
    "neuronNumber = 0\n",
    "\n",
    "for i in range(len(spikeMonitor_Multi_GR)):\n",
    "    tempAppend.extend(pd.array(spikeMonitor_Multi_GR[i][neuronNumber])*1000)\n",
    "\n",
    "sns.kdeplot(tempAppend, bw_adjust = 0.5)"
   ]
  },
  {
   "cell_type": "code",
   "execution_count": null,
   "metadata": {},
   "outputs": [],
   "source": [
    "tempAppend = []\n",
    "neuronNumber = 1\n",
    "\n",
    "for i in range(len(spikeMonitor_Multi_GR)):\n",
    "    tempAppend.extend(pd.array(spikeMonitor_Multi_GR[i][neuronNumber])*1000)\n",
    "\n",
    "sns.kdeplot(tempAppend, bw_adjust = 0.2)"
   ]
  },
  {
   "cell_type": "code",
   "execution_count": null,
   "metadata": {},
   "outputs": [],
   "source": [
    "tempAppend = []\n",
    "neuronNumber = 2\n",
    "\n",
    "for i in range(len(spikeMonitor_Multi_GR)):\n",
    "    tempAppend.extend(pd.array(spikeMonitor_Multi_GR[i][neuronNumber])*1000)\n",
    "\n",
    "sns.kdeplot(tempAppend, bw_adjust = 0.2)"
   ]
  },
  {
   "cell_type": "code",
   "execution_count": null,
   "metadata": {},
   "outputs": [],
   "source": [
    "tempAppend = []\n",
    "neuronNumber = 19\n",
    "\n",
    "for i in range(len(spikeMonitor_Multi_GR)):\n",
    "    tempAppend.extend(pd.array(spikeMonitor_Multi_GR[i][neuronNumber])*1000)\n",
    "\n",
    "sns.kdeplot(tempAppend, bw_adjust = 0.1)"
   ]
  },
  {
   "cell_type": "markdown",
   "metadata": {},
   "source": [
    "#### Population Readouts"
   ]
  },
  {
   "cell_type": "code",
   "execution_count": null,
   "metadata": {},
   "outputs": [],
   "source": [
    "# Plotting average population firing rate across all runs \n",
    "average_prMulti = np.mean(prMulti_GR_smooth, axis = 0)\n",
    "\n",
    "plot_population_Multi_2(average_prMulti, prMulti_GR_t[1], 'GranuleCells')"
   ]
  },
  {
   "cell_type": "code",
   "execution_count": null,
   "metadata": {},
   "outputs": [],
   "source": [
    "active_percent(spikeMonitor_GR, binSize = 10, durationSimulation = 2, numNeurons = numGC, ymax = 20)"
   ]
  },
  {
   "cell_type": "code",
   "execution_count": null,
   "metadata": {},
   "outputs": [],
   "source": [
    "averaged_ActivePercent(spkActive_Multi_GR, spikeMonitor_GR, binSize = 10, durationSimulation = 2, numNeurons = numGC, ymax = 15)"
   ]
  },
  {
   "cell_type": "code",
   "execution_count": null,
   "metadata": {},
   "outputs": [],
   "source": []
  },
  {
   "cell_type": "code",
   "execution_count": null,
   "metadata": {},
   "outputs": [],
   "source": []
  },
  {
   "cell_type": "code",
   "execution_count": null,
   "metadata": {},
   "outputs": [],
   "source": []
  },
  {
   "cell_type": "code",
   "execution_count": null,
   "metadata": {},
   "outputs": [],
   "source": []
  },
  {
   "cell_type": "code",
   "execution_count": null,
   "metadata": {},
   "outputs": [],
   "source": []
  },
  {
   "cell_type": "code",
   "execution_count": null,
   "metadata": {},
   "outputs": [],
   "source": []
  },
  {
   "cell_type": "code",
   "execution_count": null,
   "metadata": {},
   "outputs": [],
   "source": []
  },
  {
   "cell_type": "code",
   "execution_count": null,
   "metadata": {},
   "outputs": [],
   "source": []
  },
  {
   "cell_type": "code",
   "execution_count": null,
   "metadata": {},
   "outputs": [],
   "source": []
  },
  {
   "cell_type": "code",
   "execution_count": null,
   "metadata": {},
   "outputs": [],
   "source": []
  },
  {
   "cell_type": "code",
   "execution_count": null,
   "metadata": {},
   "outputs": [],
   "source": []
  }
 ],
 "metadata": {
  "kernelspec": {
   "display_name": "py2_brianBrunel",
   "language": "python",
   "name": "py2_brianbrunel"
  },
  "language_info": {
   "codemirror_mode": {
    "name": "ipython",
    "version": 2
   },
   "file_extension": ".py",
   "mimetype": "text/x-python",
   "name": "python",
   "nbconvert_exporter": "python",
   "pygments_lexer": "ipython2",
   "version": "2.7.18"
  },
  "toc-autonumbering": false,
  "toc-showmarkdowntxt": false,
  "toc-showtags": false
 },
 "nbformat": 4,
 "nbformat_minor": 4
}
