{
 "cells": [
  {
   "cell_type": "code",
   "execution_count": 1,
   "metadata": {
    "execution": {
     "iopub.execute_input": "2021-01-06T18:48:52.824233Z",
     "iopub.status.busy": "2021-01-06T18:48:52.823871Z",
     "iopub.status.idle": "2021-01-06T18:48:53.804521Z",
     "shell.execute_reply": "2021-01-06T18:48:53.803840Z",
     "shell.execute_reply.started": "2021-01-06T18:48:52.824154Z"
    }
   },
   "outputs": [
    {
     "name": "stderr",
     "output_type": "stream",
     "text": [
      "INFO       The following preferences have been changed for Brian2GeNN, reset them manually if you use a different device later in the same script: codegen.loop_invariant_optimisations, core.network.default_schedule [brian2.devices.genn]\n"
     ]
    }
   ],
   "source": [
    "from brian2 import *\n",
    "import brian2genn\n",
    "\n",
    "set_device('genn', directory='simple_example')\n",
    "\n"
   ]
  },
  {
   "cell_type": "code",
   "execution_count": 3,
   "metadata": {
    "execution": {
     "iopub.execute_input": "2021-01-06T18:49:00.475699Z",
     "iopub.status.busy": "2021-01-06T18:49:00.474765Z",
     "iopub.status.idle": "2021-01-06T19:05:19.431539Z",
     "shell.execute_reply": "2021-01-06T19:05:19.430942Z",
     "shell.execute_reply.started": "2021-01-06T18:49:00.475591Z"
    },
    "scrolled": true
   },
   "outputs": [
    {
     "name": "stdout",
     "output_type": "stream",
     "text": [
      "Running tests in /home/user1/.pyenv/versions/brianBrunel/lib/python3.9/site-packages/brian2 for targets numpy, cython (excluding long tests)\n",
      "Running Brian version 2.4.2 from '/home/user1/.pyenv/versions/brianBrunel/lib/python3.9/site-packages/brian2'\n",
      "Testing codegen-independent code\n",
      "Resetting to default preferences\n",
      "\n",
      "Running doctests\n",
      "\n",
      "=============================================================== ERRORS ===============================================================\n",
      "_______________________________________________ ERROR collecting sphinxext/briandoc.py _______________________________________________\n",
      "/home/user1/.pyenv/versions/brianBrunel/lib/python3.9/site-packages/brian2/sphinxext/briandoc.py:22: in <module>\n",
      "    from docutils import statemachine\n",
      "E   ModuleNotFoundError: No module named 'docutils'\n",
      "______________________________________________ ERROR collecting sphinxext/docscrape.py _______________________________________________\n",
      "/home/user1/.pyenv/versions/brianBrunel/lib/python3.9/site-packages/brian2/sphinxext/docscrape.py:13: in <module>\n",
      "    from sphinx.pycode import ModuleAnalyzer\n",
      "E   ModuleNotFoundError: No module named 'sphinx'\n",
      "___________________________________________ ERROR collecting sphinxext/docscrape_sphinx.py ___________________________________________\n",
      "/home/user1/.pyenv/versions/brianBrunel/lib/python3.9/site-packages/brian2/sphinxext/docscrape_sphinx.py:3: in <module>\n",
      "    import sphinx\n",
      "E   ModuleNotFoundError: No module named 'sphinx'\n",
      "====================================================== short test summary info =======================================================\n",
      "ERROR ../../../../../../../../.pyenv/versions/brianBrunel/lib/python3.9/site-packages/brian2/sphinxext/briandoc.py - ModuleNotFound...\n",
      "ERROR ../../../../../../../../.pyenv/versions/brianBrunel/lib/python3.9/site-packages/brian2/sphinxext/docscrape.py - ModuleNotFoun...\n",
      "ERROR ../../../../../../../../.pyenv/versions/brianBrunel/lib/python3.9/site-packages/brian2/sphinxext/docscrape_sphinx.py - Module...\n",
      "!!!!!!!!!!!!!!!!!!!!!!!!!!!!!!!!!!!!!!!!!!!!!! Interrupted: 3 errors during collection !!!!!!!!!!!!!!!!!!!!!!!!!!!!!!!!!!!!!!!!!!!!!!!\n",
      "3 errors in 0.31s\n",
      "Running tests that do not use code generation\n",
      "................."
     ]
    },
    {
     "name": "stderr",
     "output_type": "stream",
     "text": [
      "WARNING    The expression \"i1 / 1\" divides two integer values. In previous versions of Brian, this would have used either an integer (\"flooring\") or a floating point division, depending on the Python version and the code generation target. In the current version, it always uses a floating point division. Explicitly ask for an  integer division (\"//\"), or turn one of the operands into a floating point value (e.g. replace \"1/2\" by \"1.0/2\") to no longer receive this warning. [brian2.parsing.bast.floating_point_division]\n"
     ]
    },
    {
     "name": "stdout",
     "output_type": "stream",
     "text": [
      "............................................................................................................. [ 34%]\n",
      "....................."
     ]
    },
    {
     "name": "stderr",
     "output_type": "stream",
     "text": [
      "WARNING    The expression \"(i + 1) / N\" divides two integer values. In previous versions of Brian, this would have used either an integer (\"flooring\") or a floating point division, depending on the Python version and the code generation target. In the current version, it always uses a floating point division. Explicitly ask for an  integer division (\"//\"), or turn one of the operands into a floating point value (e.g. replace \"1/2\" by \"1.0/2\") to no longer receive this warning. [brian2.parsing.bast.floating_point_division]\n"
     ]
    },
    {
     "name": "stdout",
     "output_type": "stream",
     "text": [
      "......................................................................................................... [ 69%]\n",
      ".................................."
     ]
    },
    {
     "name": "stderr",
     "output_type": "stream",
     "text": [
      "WARNING    The 'independent' state updater is deprecated and might be removed in future versions of Brian. [brian2.stateupdaters.exact.deprecated_independent]\n"
     ]
    },
    {
     "name": "stdout",
     "output_type": "stream",
     "text": [
      "............................................................................                 [100%]\n",
      "362 passed, 304 deselected in 84.46s (0:01:24)\n",
      "Running tests for target numpy:\n",
      "...s.............................ssssss...............................s....................................................... [ 49%]\n",
      "..............."
     ]
    },
    {
     "name": "stderr",
     "output_type": "stream",
     "text": [
      "WARNING    The expression \"1 / 20\" divides two integer values. In previous versions of Brian, this would have used either an integer (\"flooring\") or a floating point division, depending on the Python version and the code generation target. In the current version, it always uses a floating point division. Explicitly ask for an  integer division (\"//\"), or turn one of the operands into a floating point value (e.g. replace \"1/2\" by \"1.0/2\") to no longer receive this warning. [brian2.parsing.bast.floating_point_division]\n",
      "WARNING    The expression \"5 / 2\" divides two integer values. In previous versions of Brian, this would have used either an integer (\"flooring\") or a floating point division, depending on the Python version and the code generation target. In the current version, it always uses a floating point division. Explicitly ask for an  integer division (\"//\"), or turn one of the operands into a floating point value (e.g. replace \"1/2\" by \"1.0/2\") to no longer receive this warning. [brian2.parsing.bast.floating_point_division]\n",
      "WARNING    The expression \"1 / 18\" divides two integer values. In previous versions of Brian, this would have used either an integer (\"flooring\") or a floating point division, depending on the Python version and the code generation target. In the current version, it always uses a floating point division. Explicitly ask for an  integer division (\"//\"), or turn one of the operands into a floating point value (e.g. replace \"1/2\" by \"1.0/2\") to no longer receive this warning. [brian2.parsing.bast.floating_point_division]\n",
      "WARNING    The expression \"1 / 80\" divides two integer values. In previous versions of Brian, this would have used either an integer (\"flooring\") or a floating point division, depending on the Python version and the code generation target. In the current version, it always uses a floating point division. Explicitly ask for an  integer division (\"//\"), or turn one of the operands into a floating point value (e.g. replace \"1/2\" by \"1.0/2\") to no longer receive this warning. [brian2.parsing.bast.floating_point_division]\n"
     ]
    },
    {
     "name": "stdout",
     "output_type": "stream",
     "text": [
      ".................."
     ]
    },
    {
     "name": "stderr",
     "output_type": "stream",
     "text": [
      "WARNING    The 'independent' state updater is deprecated and might be removed in future versions of Brian. [brian2.stateupdaters.exact.deprecated_independent]\n",
      "WARNING    The expression \"(- 1) / 10\" divides two integer values. In previous versions of Brian, this would have used either an integer (\"flooring\") or a floating point division, depending on the Python version and the code generation target. In the current version, it always uses a floating point division. Explicitly ask for an  integer division (\"//\"), or turn one of the operands into a floating point value (e.g. replace \"1/2\" by \"1.0/2\") to no longer receive this warning. [brian2.parsing.bast.floating_point_division]\n"
     ]
    },
    {
     "name": "stdout",
     "output_type": "stream",
     "text": [
      "............................................................................................. [ 98%]\n",
      "....                                                                                                                           [100%]\n",
      "248 passed, 8 skipped, 410 deselected in 203.53s (0:03:23)\n",
      "Running tests for target cython:\n",
      "...s............................s......s...s......s...................s..........................s...........s................ [ 49%]\n",
      "..............."
     ]
    },
    {
     "name": "stderr",
     "output_type": "stream",
     "text": [
      "WARNING    The expression \"1 / 20\" divides two integer values. In previous versions of Brian, this would have used either an integer (\"flooring\") or a floating point division, depending on the Python version and the code generation target. In the current version, it always uses a floating point division. Explicitly ask for an  integer division (\"//\"), or turn one of the operands into a floating point value (e.g. replace \"1/2\" by \"1.0/2\") to no longer receive this warning. [brian2.parsing.bast.floating_point_division]\n",
      "WARNING    The expression \"5 / 2\" divides two integer values. In previous versions of Brian, this would have used either an integer (\"flooring\") or a floating point division, depending on the Python version and the code generation target. In the current version, it always uses a floating point division. Explicitly ask for an  integer division (\"//\"), or turn one of the operands into a floating point value (e.g. replace \"1/2\" by \"1.0/2\") to no longer receive this warning. [brian2.parsing.bast.floating_point_division]\n",
      "WARNING    The expression \"1 / 18\" divides two integer values. In previous versions of Brian, this would have used either an integer (\"flooring\") or a floating point division, depending on the Python version and the code generation target. In the current version, it always uses a floating point division. Explicitly ask for an  integer division (\"//\"), or turn one of the operands into a floating point value (e.g. replace \"1/2\" by \"1.0/2\") to no longer receive this warning. [brian2.parsing.bast.floating_point_division]\n",
      "WARNING    The expression \"1 / 80\" divides two integer values. In previous versions of Brian, this would have used either an integer (\"flooring\") or a floating point division, depending on the Python version and the code generation target. In the current version, it always uses a floating point division. Explicitly ask for an  integer division (\"//\"), or turn one of the operands into a floating point value (e.g. replace \"1/2\" by \"1.0/2\") to no longer receive this warning. [brian2.parsing.bast.floating_point_division]\n"
     ]
    },
    {
     "name": "stdout",
     "output_type": "stream",
     "text": [
      ".................."
     ]
    },
    {
     "name": "stderr",
     "output_type": "stream",
     "text": [
      "WARNING    The 'independent' state updater is deprecated and might be removed in future versions of Brian. [brian2.stateupdaters.exact.deprecated_independent]\n",
      "WARNING    The expression \"(- 1) / 10\" divides two integer values. In previous versions of Brian, this would have used either an integer (\"flooring\") or a floating point division, depending on the Python version and the code generation target. In the current version, it always uses a floating point division. Explicitly ask for an  integer division (\"//\"), or turn one of the operands into a floating point value (e.g. replace \"1/2\" by \"1.0/2\") to no longer receive this warning. [brian2.parsing.bast.floating_point_division]\n"
     ]
    },
    {
     "name": "stdout",
     "output_type": "stream",
     "text": [
      "..............................................................................ss............. [ 98%]\n",
      "....                                                                                                                           [100%]\n",
      "246 passed, 10 skipped, 410 deselected in 690.37s (0:11:30)\n",
      "ERROR: 1/4 test suite(s) did not complete successfully (see above).\n"
     ]
    },
    {
     "data": {
      "text/plain": [
       "False"
      ]
     },
     "execution_count": 3,
     "metadata": {},
     "output_type": "execute_result"
    }
   ],
   "source": [
    "test()"
   ]
  },
  {
   "cell_type": "code",
   "execution_count": null,
   "metadata": {},
   "outputs": [],
   "source": [
    "N = 10000\n",
    "tau = 10*ms\n",
    "Iin = 0.11/ms \n",
    "eqs = '''\n",
    "dV/dt = -V/tau + Iin : 1\n",
    "'''\n",
    "G = NeuronGroup(N, eqs, threshold='V>1', reset='V=0', refractory=5 * ms)\n",
    "\n",
    "run(10*ms)"
   ]
  }
 ],
 "metadata": {
  "kernelspec": {
   "display_name": "brianBrunel",
   "language": "python",
   "name": "brianbrunel"
  },
  "language_info": {
   "codemirror_mode": {
    "name": "ipython",
    "version": 3
   },
   "file_extension": ".py",
   "mimetype": "text/x-python",
   "name": "python",
   "nbconvert_exporter": "python",
   "pygments_lexer": "ipython3",
   "version": "3.9.1"
  }
 },
 "nbformat": 4,
 "nbformat_minor": 4
}
