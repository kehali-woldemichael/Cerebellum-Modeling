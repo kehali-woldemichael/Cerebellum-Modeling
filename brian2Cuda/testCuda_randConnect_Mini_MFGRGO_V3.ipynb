{
 "cells": [
  {
   "cell_type": "markdown",
   "metadata": {},
   "source": [
    "# Initializing "
   ]
  },
  {
   "cell_type": "code",
   "execution_count": null,
   "metadata": {},
   "outputs": [],
   "source": [
    "import time \n",
    "\n",
    "start = time.time()\n",
    "\n",
    "outputDirectory = '~/Code/brian2cuda/CUBA_CUDA_sp'"
   ]
  },
  {
   "cell_type": "code",
   "execution_count": null,
   "metadata": {},
   "outputs": [],
   "source": [
    "import matplotlib\n",
    "matplotlib.use('Agg')\n",
    "\n",
    "from brian2 import *\n",
    "\n",
    "import brian2cuda\n",
    "#set_device('cpp_standalone', directory = None, build_on_run=False)\n",
    "#prefs.devices.cpp_standalone.openmp_threads = 12\n",
    "#set_device('cpp_standalone', directory = None, compile=True, run=True, debug=True)\n",
    "\n",
    "set_device('cuda_standalone', directory = None, compile=True, run=True, debug=True)\n",
    "#set_device('cuda_standalone', build_on_run=False)\n",
    "#set_device('cuda_standalone', directory=None, build_on_run=False, with_output=False)          "
   ]
  },
  {
   "cell_type": "code",
   "execution_count": null,
   "metadata": {},
   "outputs": [],
   "source": [
    "import numpy as np \n",
    "import matplotlib.pyplot as plt \n",
    "import pandas as pd \n",
    "import seaborn as sns "
   ]
  },
  {
   "cell_type": "code",
   "execution_count": 1,
   "metadata": {
    "execution": {
     "iopub.execute_input": "2021-01-13T14:04:00.667057Z",
     "iopub.status.busy": "2021-01-13T14:04:00.665879Z",
     "iopub.status.idle": "2021-01-13T14:04:00.903885Z",
     "shell.execute_reply": "2021-01-13T14:04:00.901290Z",
     "shell.execute_reply.started": "2021-01-13T14:04:00.666492Z"
    }
   },
   "outputs": [
    {
     "name": "stderr",
     "output_type": "stream",
     "text": [
      "/home/user1/.pyenv/versions/2.7.18/envs/py2_brianBrunel/lib/python2.7/site-packages/ipykernel_launcher.py:2: UserWarning: Config option `use_jedi` not recognized by `IPCompleter`.\n",
      "  \n"
     ]
    }
   ],
   "source": [
    "%matplotlib inline\n",
    "%config Completer.use_jedi = False "
   ]
  },
  {
   "cell_type": "markdown",
   "metadata": {},
   "source": [
    "#### Personal Functions "
   ]
  },
  {
   "cell_type": "code",
   "execution_count": null,
   "metadata": {},
   "outputs": [],
   "source": [
    "def visualise_connectivity(S):\n",
    "    Ns = len(S.source)\n",
    "    Nt = len(S.target)\n",
    "    figure(figsize=(10, 4))\n",
    "    subplot(121)\n",
    "    plot(zeros(Ns), arange(Ns), 'ok', ms=10)\n",
    "    plot(ones(Nt), arange(Nt), 'ok', ms=10)\n",
    "    for i, j in zip(S.i, S.j):\n",
    "        plot([0, 1], [i, j], '-k')\n",
    "    xticks([0, 1], ['Source', 'Target'])\n",
    "    ylabel('Neuron index')\n",
    "    xlim(-0.1, 1.1)\n",
    "    ylim(-1, max(Ns, Nt))\n",
    "    subplot(122)\n",
    "    plot(S.i, S.j, 'ok')\n",
    "    xlim(-1, Ns)\n",
    "    ylim(-1, Nt)\n",
    "    xlabel('Source neuron index')\n",
    "    ylabel('Target neuron index')"
   ]
  },
  {
   "cell_type": "code",
   "execution_count": null,
   "metadata": {},
   "outputs": [],
   "source": [
    "def plot_spikes(monitor, stateMonitor, rangeNeurons):\n",
    "    for i in range(rangeNeurons):\n",
    "        spikes = (monitor.t[monitor.i == i] - defaultclock.dt)/ms\n",
    "        val = stateMonitor[i].V\n",
    "        subplot(rangeNeurons, 1, i+1)\n",
    "        plot(tile(spikes, (2, 1)), vstack((val[array(spikes, dtype=int)], zeros(len(spikes)))), 'C0')\n",
    "        title(\"Spikes\")\n",
    "    tight_layout()\n",
    "    show()"
   ]
  },
  {
   "cell_type": "code",
   "execution_count": null,
   "metadata": {},
   "outputs": [],
   "source": [
    "def plot_potential(monitor, stateMonitor, rangeNeurons):\n",
    "    for i in range(rangeNeurons):\n",
    "        spikes = (monitor.t[monitor.i == i] - defaultclock.dt)/ms\n",
    "        val = stateMonitor[i].V\n",
    "        subplot(rangeNeurons, 1, i+1)\n",
    "        plot(stateMonitor.t/ms, val)\n",
    "        title(\"Trace\")\n",
    "    tight_layout()\n",
    "    show()"
   ]
  },
  {
   "cell_type": "code",
   "execution_count": null,
   "metadata": {},
   "outputs": [],
   "source": [
    "def plot_population(prMonitorRun, spikeMonitorRun, labelGroup, nActivity, pRun): \n",
    "    # plotting\n",
    "    title('Population rates')\n",
    "    xlabel('ms')\n",
    "    ylabel('Hz')\n",
    "\n",
    "    plot(prMonitorRun.t / ms, prMonitorRun.smooth_rate(width=25 * ms) / Hz, label=labelGroup)\n",
    "\n",
    "    legend()\n",
    "    figure()\n",
    "\n",
    "    title('Population activities ({} neurons/pop)'.format(nActivity))\n",
    "    xlabel('ms')\n",
    "    yticks([])\n",
    "\n",
    "    plot(spikeMonitorRun.t / ms, spikeMonitorRun.i + (pRun + 1) * nActivity, '.', markersize=2, label=labelGroup) \n",
    "\n",
    "\n",
    "    legend()\n",
    "    show()"
   ]
  },
  {
   "cell_type": "code",
   "execution_count": null,
   "metadata": {},
   "outputs": [],
   "source": [
    "def plot_population_Multi(prMonitorRun_smooth, prMonitorRun_t, spikeMonitorRun, labelGroup, nActivity, pRun): \n",
    "    # plotting\n",
    "    title('Population rates')\n",
    "    xlabel('ms')\n",
    "    ylabel('Hz')\n",
    "\n",
    "    plot(prMonitorRun_t / ms, prMonitorRun_smooth, label=labelGroup)\n",
    "\n",
    "    legend()\n",
    "    figure()\n",
    "\n",
    "    title('Population activities ({} neurons/pop)'.format(nActivity))\n",
    "    xlabel('ms')\n",
    "    yticks([])\n",
    "\n",
    "    plot(spikeMonitorRun.t / ms, spikeMonitorRun.i + (pRun + 1) * nActivity, '.', markersize=2, label=labelGroup) \n",
    "\n",
    "    legend()\n",
    "    show()"
   ]
  },
  {
   "cell_type": "code",
   "execution_count": null,
   "metadata": {},
   "outputs": [],
   "source": [
    "def plot_population_Multi_2(prMonitorRun_smooth, prMonitorRun_t, labelGroup): \n",
    "    # plotting\n",
    "    title('Population rates')\n",
    "    xlabel('ms')\n",
    "    ylabel('Hz')\n",
    "\n",
    "    plot(prMonitorRun_t / ms, prMonitorRun_smooth, label=labelGroup)\n",
    "\n",
    "    legend()\n",
    "    show()"
   ]
  },
  {
   "cell_type": "code",
   "execution_count": null,
   "metadata": {},
   "outputs": [],
   "source": [
    "def active_percent(monitor, binSize, durationSimulation, numNeurons, ymax):\n",
    "    # Define bin size \n",
    "    bin_size = binSize*ms\n",
    "    # Define duration of simulation \n",
    "    duration = durationSimulation*second\n",
    "    # Define number of neurons \n",
    "    num_Neurons = numNeurons\n",
    "\n",
    "    # Initialize array to record spike occurancces \n",
    "    spkTotal = np.zeros([int(duration/bin_size)])\n",
    "    \n",
    "    for current in range(num_Neurons): \n",
    "        spk_count, bin_edges = np.histogram(a = np.r_[monitor.t[monitor.i == current]/second],\n",
    "                                            bins = int(duration/bin_size), range = (0,durationSimulation))\n",
    "        # Convert spike count to binary \n",
    "        binary = np.where(spk_count > 0, 1, 0)\n",
    "        # Add to recording array\n",
    "        spkTotal = spkTotal + binary\n",
    "\n",
    "    plt.plot(bin_edges[:-1], (spkTotal/num_Neurons)*100)\n",
    "    plt.axis([0, durationSimulation, 0, ymax])\n",
    "    plt.title('Percent active granule cells as function of time')\n",
    "    plt.ylabel('Active Cell (%)')\n",
    "    plt.xlabel('Time (s)')\n",
    "    plt.show()"
   ]
  },
  {
   "cell_type": "code",
   "execution_count": null,
   "metadata": {},
   "outputs": [],
   "source": [
    "def averaged_ActivePercent(spkMulti, spkSingle, binSize, durationSimulation, numNeurons, ymax):\n",
    "    # Define bin size \n",
    "    bin_size = binSize*ms\n",
    "    # Define duration of simulation \n",
    "    duration = durationSimulation*second\n",
    "    # Define number of neurons \n",
    "    num_Neurons = numNeurons\n",
    "    \n",
    "    spk_count, bin_edges = np.histogram(a = np.r_[spkSingle.t[spkSingle.i == 1]/second],\n",
    "                                        bins = int(duration/bin_size), range = (0,durationSimulation))\n",
    "\n",
    "    averaged_spkMulti = np.mean(spkMulti, axis = 0)\n",
    "    \n",
    "    plt.plot(bin_edges[:-1], averaged_spkMulti)\n",
    "    plt.axis([0, durationSimulation, 0, ymax])\n",
    "    plt.title('Percent active granule cells as function of time')\n",
    "    plt.ylabel('Active Cell (%)')\n",
    "    plt.xlabel('Time (s)')\n",
    "    plt.show()"
   ]
  },
  {
   "cell_type": "markdown",
   "metadata": {},
   "source": [
    "#### General paramaters "
   ]
  },
  {
   "cell_type": "code",
   "execution_count": null,
   "metadata": {},
   "outputs": [],
   "source": [
    "# spatial \n",
    "#gC = 320\n",
    "gC = 10\n",
    "numGC = gC**2 \n",
    "gG = 32 \n",
    "#numGolgi = gG**2  \n",
    "numGolgi = 10 \n",
    "gGlo = 31\n",
    "numGlomeruli = gGlo**2\n",
    "\n",
    "# Spatial paramaters \n",
    "gcSpacing = ((gG*(gG-1))/(gC-1))*umetre \n",
    "golgiSpacing = 32*umetre \n",
    "\n",
    "gcSpacing = ((gG*(gG-1))/(gC-1))*umetre "
   ]
  },
  {
   "cell_type": "markdown",
   "metadata": {},
   "source": [
    "# Neuron Models"
   ]
  },
  {
   "cell_type": "markdown",
   "metadata": {},
   "source": [
    "#### Granule Cells "
   ]
  },
  {
   "cell_type": "code",
   "execution_count": null,
   "metadata": {},
   "outputs": [],
   "source": [
    "# Parameters \n",
    "\n",
    "# neuron parameters\n",
    "theta_GR = -35*mV # threshold (from Yamazaki) \n",
    "Cm_GR = 3.1*pF \n",
    "\n",
    "# Conductances \n",
    "gL_GR = 0.43*nS \n",
    "g_AMPA_GR = 0.18*nS \n",
    "g_NMDA_GR = 0.025*nS \n",
    "g_Inh_GR = 0.028*nS \n",
    "g_Ahp_GR = 1*nS\n",
    "\n",
    "# Various leaks (from Yamazaki) \n",
    "El_GR = -58*mV\n",
    "Eexc = 0*mV \n",
    "E_inh_GR = -82*mV \n",
    "E_ahp_GR = -82*mV # after hyperpolarization \n",
    "\n",
    "# Tau\n",
    "tau_ahp_GR = 5*ms \n",
    "tau_AMPA_GR = 1.2*ms \n",
    "tau_NMDA_GR = 52.0*ms \n",
    "tau_GABA_1_GR = 7*ms\n",
    "tau_GABA_2_GR = 59*ms\n",
    "\n",
    "eqs_GR = Equations('''\n",
    "                        dV / dt = (-gL_GR * (V - El_GR) - I_syn) / Cm_GR : volt (unless refractory)\n",
    "                        \n",
    "                        I_syn = I_AMPA + I_NMDA + I_GABA_tot : amp \n",
    "                        I_GABA_tot = 0.43*I_GABA_1 + 0.57*I_GABA_2 : amp \n",
    "                        \n",
    "                        I_AMPA = g_AMPA_GR * (V - Eexc) * s_AMPA : amp\n",
    "                        ds_AMPA / dt = -s_AMPA / tau_AMPA_GR : 1 \n",
    "                        \n",
    "                        I_NMDA = g_NMDA_GR * (V - Eexc) * s_NMDA : amp\n",
    "                        ds_NMDA / dt = -s_NMDA / tau_NMDA_GR : 1 \n",
    "                        \n",
    "                        I_GABA_1 = g_Inh_GR * (V - E_inh_GR) * s_GABA_1 : amp\n",
    "                        ds_GABA_1 / dt = -s_GABA_1 / tau_GABA_1_GR : 1 \n",
    "                        \n",
    "                        I_GABA_2 = g_Inh_GR * (V - E_inh_GR) * s_GABA_2 : amp\n",
    "                        ds_GABA_2 / dt = -s_GABA_2 / tau_GABA_2_GR : 1 \n",
    "                        \n",
    "                        x : metre \n",
    "                        y : metre \n",
    "                ''')\n",
    "\n",
    "# Defining granule cell neuron group \n",
    "granuleCells = NeuronGroup(N=numGC, model=eqs_GR, reset='V = El_GR',\n",
    "                    threshold='V > theta_GR',\n",
    "                    refractory=2*ms, method='euler')\n",
    "granuleCells.V = El_GR "
   ]
  },
  {
   "cell_type": "code",
   "execution_count": null,
   "metadata": {},
   "outputs": [],
   "source": [
    "granuleCells"
   ]
  },
  {
   "cell_type": "code",
   "execution_count": null,
   "metadata": {},
   "outputs": [],
   "source": [
    "# Defining MF input \n",
    "\n",
    "# Defining input parameters \n",
    "num_inputs = 100\n",
    "f = 0.5*Hz \n",
    "eq_rate = '(22.5 + 7.5*cos((2*pi*t*f) + pi))*Hz'\n",
    "\n",
    "# Equations \n",
    "eqs_glut_MFGR = '''\n",
    "               w_MFGR : 1 \n",
    "               '''\n",
    "eqs_pre_glut_MFGR = '''\n",
    "               s_AMPA += w_MFGR\n",
    "               s_NMDA += w_MFGR\n",
    "               '''\n",
    "\n",
    "P_MFGR = PoissonGroup(num_inputs, rates = eq_rate)\n",
    "S_MFGR = Synapses(P_MFGR, granuleCells, model = eqs_glut_MFGR, on_pre = eqs_pre_glut_MFGR, method = 'euler') \n",
    "S_MFGR.connect(condition = 'i == j')\n",
    "S_MFGR.w_MFGR = 4\n",
    "\n"
   ]
  },
  {
   "cell_type": "code",
   "execution_count": null,
   "metadata": {},
   "outputs": [],
   "source": [
    "# Visualize synaptic connections \n",
    "# visualise_connectivity(S_MFGR)"
   ]
  },
  {
   "cell_type": "markdown",
   "metadata": {},
   "source": [
    "#### Golgi"
   ]
  },
  {
   "cell_type": "code",
   "execution_count": null,
   "metadata": {},
   "outputs": [],
   "source": [
    "# Parameters \n",
    "\n",
    "# neuron parameters\n",
    "theta_GO = -52*mV # threshold (from Yamazaki) \n",
    "Cm_GO = 28.0*pF \n",
    "\n",
    "# Conductances \n",
    "gL_GO = 2.3*nS \n",
    "g_AMPA_GO = 45.5*nS \n",
    "g_NMDA_GO = 30.0*nS \n",
    "g_Ahp_GO = 20*nS\n",
    "\n",
    "El_GO = -55*mV\n",
    "Eexc = 0*mV \n",
    "E_ahp_GO = -72.7*mV # after hyperpolarization \n",
    "\n",
    "# Tau\n",
    "tau_ahp_GO = 5*ms \n",
    "tau_AMPA_GO = 1.5*ms \n",
    "tau_NMDA_1_GO = 31.0*ms \n",
    "tau_NMDA_2_GO = 170.0*ms \n",
    "\n",
    "eqs_GO = Equations('''\n",
    "                        dV / dt = (-gL_GO * (V - El_GO) - I_syn) / Cm_GO : volt (unless refractory)\n",
    "                        \n",
    "                        I_syn = I_AMPA + I_NMDA_tot : amp \n",
    "                        I_NMDA_tot = 0.33*I_NMDA_1 + 0.67*I_NMDA_2 : amp\n",
    "                        \n",
    "                        I_AMPA = g_AMPA_GR * (V - Eexc) * s_AMPA : amp\n",
    "                        ds_AMPA / dt = -s_AMPA / tau_AMPA_GO : 1 \n",
    "                        \n",
    "                        I_NMDA_1 = g_NMDA_GO * (V - Eexc) * s_NMDA_1 : amp\n",
    "                        ds_NMDA_1 / dt = -s_NMDA_1 / tau_NMDA_1_GO : 1 \n",
    "                        \n",
    "                        I_NMDA_2 = g_NMDA_GO * (V - Eexc) * s_NMDA_2 : amp\n",
    "                        ds_NMDA_2 / dt = -s_NMDA_2 / tau_NMDA_2_GO : 1 \n",
    "                        \n",
    "                        x : metre \n",
    "                        y : metre \n",
    "                ''')\n",
    "\n",
    "# Defining granule cell neuron group \n",
    "golgi = NeuronGroup(N=numGolgi, model=eqs_GO, reset='V = El_GO',\n",
    "                    threshold='V > theta_GO',\n",
    "                    refractory=5*ms, method='euler')\n",
    "golgi.V = El_GO "
   ]
  },
  {
   "cell_type": "code",
   "execution_count": null,
   "metadata": {},
   "outputs": [],
   "source": [
    "golgi"
   ]
  },
  {
   "cell_type": "markdown",
   "metadata": {},
   "source": [
    "#  Establishing Connectivity "
   ]
  },
  {
   "cell_type": "markdown",
   "metadata": {},
   "source": [
    "#### Paramaters "
   ]
  },
  {
   "cell_type": "code",
   "execution_count": null,
   "metadata": {},
   "outputs": [],
   "source": [
    "# Connection probability \n",
    "pr_GRGO = 0.0245\n",
    "#pr_GOGR = 0.025\n",
    "pr_GOGR = 0.08"
   ]
  },
  {
   "cell_type": "markdown",
   "metadata": {},
   "source": [
    "#### Granule --> Golgi"
   ]
  },
  {
   "cell_type": "code",
   "execution_count": null,
   "metadata": {},
   "outputs": [],
   "source": [
    "# Equations \n",
    "eqs_glut_GRGO = '''\n",
    "               w_GRGO : 1 \n",
    "               '''\n",
    "eqs_pre_glut_GRGO = '''\n",
    "               s_AMPA += 1\n",
    "               s_NMDA_1 += 1\n",
    "               s_NMDA_2 += 1 \n",
    "               '''"
   ]
  },
  {
   "cell_type": "code",
   "execution_count": null,
   "metadata": {},
   "outputs": [],
   "source": [
    "# Forming synapses \n",
    "S_GRGO = Synapses(granuleCells, golgi, model = eqs_glut_GRGO, on_pre = eqs_pre_glut_GRGO, method = 'euler') \n",
    "S_GRGO.connect(p = pr_GRGO)"
   ]
  },
  {
   "cell_type": "code",
   "execution_count": null,
   "metadata": {},
   "outputs": [],
   "source": [
    "#visualise_connectivity(S_GRGO)"
   ]
  },
  {
   "cell_type": "markdown",
   "metadata": {},
   "source": [
    "#### Golgi --> Granule Cells "
   ]
  },
  {
   "cell_type": "code",
   "execution_count": null,
   "metadata": {},
   "outputs": [],
   "source": [
    "# Equations \n",
    "eqs_GABA_GOGR = '''\n",
    "               w_GOGR : 1 \n",
    "               '''\n",
    "eqs_pre_GABA_GOGR = '''\n",
    "               s_GABA_1 += 1\n",
    "               s_GABA_2 += 1 \n",
    "               '''"
   ]
  },
  {
   "cell_type": "code",
   "execution_count": null,
   "metadata": {},
   "outputs": [],
   "source": [
    "# Forming synapses \n",
    "S_GOGR = Synapses(golgi, granuleCells, model = eqs_GABA_GOGR, on_pre = eqs_pre_GABA_GOGR, method = 'euler') \n",
    "#S_GOGR.connect(condition = 'abs(i-j)<2')\n",
    "S_GOGR.connect(p = pr_GOGR)"
   ]
  },
  {
   "cell_type": "code",
   "execution_count": null,
   "metadata": {},
   "outputs": [],
   "source": [
    "#visualise_connectivity(S_GOGR)"
   ]
  },
  {
   "cell_type": "markdown",
   "metadata": {},
   "source": [
    "# Running simulation "
   ]
  },
  {
   "cell_type": "code",
   "execution_count": null,
   "metadata": {},
   "outputs": [],
   "source": [
    "def spk_active(monitor, binSize, durationSimulation, numNeurons): \n",
    "    # Define bin size \n",
    "    bin_size = binSize*ms\n",
    "    # Define duration of simulation \n",
    "    duration = durationSimulation*second\n",
    "    # Define number of neurons \n",
    "    num_Neurons = numNeurons\n",
    "\n",
    "    # Initialize array to record spike occurancces \n",
    "    spkTotal = np.zeros([int(duration/bin_size)])\n",
    "    \n",
    "    for current in range(num_Neurons): \n",
    "        spk_count, bin_edges = np.histogram(a = np.r_[monitor.t[monitor.i == current]/second],\n",
    "                                            bins = int(duration/bin_size), range = (0,2))\n",
    "        # Convert spike count to binary \n",
    "        binary = np.where(spk_count > 0, 1, 0)\n",
    "        # Add to recording array\n",
    "        spkTotal = spkTotal + binary\n",
    "    \n",
    "    return((spkTotal/num_Neurons)*100)"
   ]
  },
  {
   "cell_type": "code",
   "execution_count": null,
   "metadata": {},
   "outputs": [],
   "source": [
    "time.time() - start "
   ]
  },
  {
   "cell_type": "code",
   "execution_count": null,
   "metadata": {},
   "outputs": [],
   "source": []
  },
  {
   "cell_type": "code",
   "execution_count": null,
   "metadata": {},
   "outputs": [],
   "source": [
    "time.time() - start "
   ]
  },
  {
   "cell_type": "code",
   "execution_count": null,
   "metadata": {},
   "outputs": [],
   "source": [
    "device.reinit()\n",
    "device.activate()\n",
    "#set_device('cuda_standalone', directory = None, compile=True, run=True, debug=True)"
   ]
  },
  {
   "cell_type": "code",
   "execution_count": null,
   "metadata": {},
   "outputs": [],
   "source": [
    "run(2*second)\n",
    "run(2*second)\n",
    "\n",
    "device.build(directory=None, compile=True, run=True, debug=False, clean=True, direct_call=False)"
   ]
  },
  {
   "cell_type": "code",
   "execution_count": null,
   "metadata": {},
   "outputs": [],
   "source": [
    "time.time() - start "
   ]
  },
  {
   "cell_type": "code",
   "execution_count": null,
   "metadata": {},
   "outputs": [],
   "source": []
  },
  {
   "cell_type": "code",
   "execution_count": null,
   "metadata": {},
   "outputs": [],
   "source": []
  },
  {
   "cell_type": "code",
   "execution_count": null,
   "metadata": {},
   "outputs": [],
   "source": []
  },
  {
   "cell_type": "code",
   "execution_count": null,
   "metadata": {},
   "outputs": [],
   "source": []
  },
  {
   "cell_type": "code",
   "execution_count": null,
   "metadata": {},
   "outputs": [],
   "source": []
  },
  {
   "cell_type": "code",
   "execution_count": null,
   "metadata": {},
   "outputs": [],
   "source": []
  },
  {
   "cell_type": "code",
   "execution_count": null,
   "metadata": {
    "scrolled": true
   },
   "outputs": [],
   "source": [
    "# run the simulation\n",
    "spikeMonitor_GR = SpikeMonitor(granuleCells)\n",
    "\n",
    "stateMonitor_GR = StateMonitor(granuleCells, 'V', record=True)\n",
    "prMonitor_GR = PopulationRateMonitor(granuleCells)\n",
    "\n",
    "#BrianLogger.log_level_info()\n",
    "\n",
    "#net = Network(collect())\n",
    "# Snapshots of state \n",
    "#net.store('initial') \n",
    "\n",
    "spikeMonitor_Multi_GR = []\n",
    "spkActive_Multi_GR = []\n",
    "populationRates_GR = []\n",
    "prMulti_GR_smooth = []\n",
    "prMulti_GR_t = []\n",
    "\n",
    "repeatSimulation = 1\n",
    "\n",
    "\n",
    "itter1 = 0\n",
    "itter2 = 0 \n",
    "itter3 = 0 \n",
    "itter4 = 0 \n",
    "\n",
    "\n",
    "for trial in range(repeatSimulation): \n",
    "    itter1 += 1\n",
    "    #net.restore('initial')\n",
    "    \n",
    "    run(2*second)\n",
    "    itter2 += 1\n",
    "    \n",
    "    device.build(directory=outputDirectory, compile=True, run=True, debug=False)\n",
    "    #net.run(2*second, report ='stdout', profile = True)\n",
    "    \n",
    "    device.reinit()\n",
    "    device.activate(build_on_run=False)\n",
    "    \n",
    "    itter3 += 1\n",
    "    \n",
    "    \n",
    "    itter4 += 1"
   ]
  },
  {
   "cell_type": "code",
   "execution_count": null,
   "metadata": {},
   "outputs": [],
   "source": [
    "time.time() - start "
   ]
  },
  {
   "cell_type": "code",
   "execution_count": null,
   "metadata": {},
   "outputs": [],
   "source": [
    "?device.activate()"
   ]
  },
  {
   "cell_type": "code",
   "execution_count": null,
   "metadata": {},
   "outputs": [],
   "source": [
    "?device.build()"
   ]
  },
  {
   "cell_type": "code",
   "execution_count": null,
   "metadata": {},
   "outputs": [],
   "source": [
    "?set_device()"
   ]
  },
  {
   "cell_type": "code",
   "execution_count": null,
   "metadata": {},
   "outputs": [],
   "source": [
    "itter1 "
   ]
  },
  {
   "cell_type": "code",
   "execution_count": null,
   "metadata": {},
   "outputs": [],
   "source": [
    "itter2"
   ]
  },
  {
   "cell_type": "code",
   "execution_count": null,
   "metadata": {},
   "outputs": [],
   "source": [
    "itter3"
   ]
  },
  {
   "cell_type": "code",
   "execution_count": null,
   "metadata": {},
   "outputs": [],
   "source": [
    "itter4"
   ]
  },
  {
   "cell_type": "code",
   "execution_count": null,
   "metadata": {},
   "outputs": [],
   "source": []
  },
  {
   "cell_type": "code",
   "execution_count": null,
   "metadata": {},
   "outputs": [],
   "source": []
  },
  {
   "cell_type": "code",
   "execution_count": null,
   "metadata": {},
   "outputs": [],
   "source": []
  },
  {
   "cell_type": "code",
   "execution_count": null,
   "metadata": {},
   "outputs": [],
   "source": []
  },
  {
   "cell_type": "code",
   "execution_count": null,
   "metadata": {},
   "outputs": [],
   "source": []
  },
  {
   "cell_type": "code",
   "execution_count": null,
   "metadata": {},
   "outputs": [],
   "source": [
    "\n",
    "    spikeMonitor_Multi_GR.append(spikeMonitor_GR.spike_trains())\n",
    "    spkActive_Multi_GR.append(spk_active(spikeMonitor_GR, binSize = 10, durationSimulation = 2, numNeurons = numGC))\n",
    "    \n",
    "    populationRates_GR.append(prMonitor_GR)\n",
    "    prMulti_GR_smooth.append(prMonitor_GR.smooth_rate(width = 25* ms) / Hz)\n",
    "    prMulti_GR_t.append(prMonitor_GR.t) "
   ]
  },
  {
   "cell_type": "code",
   "execution_count": null,
   "metadata": {},
   "outputs": [],
   "source": [
    "# For benchmarking time usage per step ... do not use with multiple runs \n",
    "profiling_summary(show = 10)"
   ]
  },
  {
   "cell_type": "code",
   "execution_count": null,
   "metadata": {},
   "outputs": [],
   "source": []
  },
  {
   "cell_type": "code",
   "execution_count": null,
   "metadata": {},
   "outputs": [],
   "source": [
    "\n"
   ]
  },
  {
   "cell_type": "code",
   "execution_count": null,
   "metadata": {},
   "outputs": [],
   "source": []
  },
  {
   "cell_type": "code",
   "execution_count": null,
   "metadata": {},
   "outputs": [],
   "source": []
  },
  {
   "cell_type": "code",
   "execution_count": null,
   "metadata": {},
   "outputs": [],
   "source": []
  },
  {
   "cell_type": "markdown",
   "metadata": {},
   "source": [
    "# Visualization "
   ]
  },
  {
   "cell_type": "code",
   "execution_count": null,
   "metadata": {},
   "outputs": [],
   "source": [
    "plot_potential(spikeMonitor_GR, stateMonitor_GR, 2)"
   ]
  },
  {
   "cell_type": "code",
   "execution_count": null,
   "metadata": {},
   "outputs": [],
   "source": [
    "plot_spikes(spikeMonitor_GR, stateMonitor_GR, 2)"
   ]
  },
  {
   "cell_type": "code",
   "execution_count": null,
   "metadata": {},
   "outputs": [],
   "source": [
    "plot_population(prMonitor_GR, spikeMonitor_GR, 'GranuleCells', 10, 10)"
   ]
  },
  {
   "cell_type": "code",
   "execution_count": null,
   "metadata": {},
   "outputs": [],
   "source": [
    "plot_population_Multi(prMulti_GR_smooth[0], prMulti_GR_t[0], spikeMonitor_GR, 'GranuleCells', 10, 10)"
   ]
  },
  {
   "cell_type": "code",
   "execution_count": null,
   "metadata": {},
   "outputs": [],
   "source": [
    "plot_population_Multi(prMulti_GR_smooth[1], prMulti_GR_t[1], spikeMonitor_GR, 'GranuleCells', 10, 10)"
   ]
  },
  {
   "cell_type": "code",
   "execution_count": null,
   "metadata": {},
   "outputs": [],
   "source": [
    "tempAppend = []\n",
    "neuronNumber = 0\n",
    "\n",
    "for i in range(len(spikeMonitor_Multi_GR)):\n",
    "    tempAppend.extend(pd.array(spikeMonitor_Multi_GR[i][neuronNumber])*1000)\n",
    "\n",
    "sns.kdeplot(tempAppend, bw_adjust = 0.5)"
   ]
  },
  {
   "cell_type": "code",
   "execution_count": null,
   "metadata": {},
   "outputs": [],
   "source": [
    "tempAppend = []\n",
    "neuronNumber = 1\n",
    "\n",
    "for i in range(len(spikeMonitor_Multi_GR)):\n",
    "    tempAppend.extend(pd.array(spikeMonitor_Multi_GR[i][neuronNumber])*1000)\n",
    "\n",
    "sns.kdeplot(tempAppend, bw_adjust = 0.2)"
   ]
  },
  {
   "cell_type": "code",
   "execution_count": null,
   "metadata": {},
   "outputs": [],
   "source": [
    "tempAppend = []\n",
    "neuronNumber = 2\n",
    "\n",
    "for i in range(len(spikeMonitor_Multi_GR)):\n",
    "    tempAppend.extend(pd.array(spikeMonitor_Multi_GR[i][neuronNumber])*1000)\n",
    "\n",
    "sns.kdeplot(tempAppend, bw_adjust = 0.2)"
   ]
  },
  {
   "cell_type": "code",
   "execution_count": null,
   "metadata": {},
   "outputs": [],
   "source": [
    "tempAppend = []\n",
    "neuronNumber = 19\n",
    "\n",
    "for i in range(len(spikeMonitor_Multi_GR)):\n",
    "    tempAppend.extend(pd.array(spikeMonitor_Multi_GR[i][neuronNumber])*1000)\n",
    "\n",
    "sns.kdeplot(tempAppend, bw_adjust = 0.1)"
   ]
  },
  {
   "cell_type": "markdown",
   "metadata": {},
   "source": [
    "#### Population Readouts"
   ]
  },
  {
   "cell_type": "code",
   "execution_count": null,
   "metadata": {},
   "outputs": [],
   "source": [
    "# Plotting average population firing rate across all runs \n",
    "average_prMulti = np.mean(prMulti_GR_smooth, axis = 0)\n",
    "\n",
    "plot_population_Multi_2(average_prMulti, prMulti_GR_t[1], 'GranuleCells')"
   ]
  },
  {
   "cell_type": "code",
   "execution_count": null,
   "metadata": {},
   "outputs": [],
   "source": [
    "active_percent(spikeMonitor_GR, binSize = 10, durationSimulation = 2, numNeurons = numGC, ymax = 20)"
   ]
  },
  {
   "cell_type": "code",
   "execution_count": null,
   "metadata": {},
   "outputs": [],
   "source": [
    "averaged_ActivePercent(spkActive_Multi_GR, spikeMonitor_GR, binSize = 10, durationSimulation = 2, numNeurons = numGC, ymax = 15)"
   ]
  },
  {
   "cell_type": "code",
   "execution_count": null,
   "metadata": {},
   "outputs": [],
   "source": []
  },
  {
   "cell_type": "code",
   "execution_count": null,
   "metadata": {},
   "outputs": [],
   "source": []
  },
  {
   "cell_type": "code",
   "execution_count": null,
   "metadata": {},
   "outputs": [],
   "source": []
  },
  {
   "cell_type": "code",
   "execution_count": null,
   "metadata": {},
   "outputs": [],
   "source": []
  },
  {
   "cell_type": "code",
   "execution_count": null,
   "metadata": {},
   "outputs": [],
   "source": []
  },
  {
   "cell_type": "code",
   "execution_count": null,
   "metadata": {},
   "outputs": [],
   "source": []
  },
  {
   "cell_type": "code",
   "execution_count": null,
   "metadata": {},
   "outputs": [],
   "source": []
  },
  {
   "cell_type": "code",
   "execution_count": null,
   "metadata": {},
   "outputs": [],
   "source": []
  },
  {
   "cell_type": "code",
   "execution_count": null,
   "metadata": {},
   "outputs": [],
   "source": []
  },
  {
   "cell_type": "code",
   "execution_count": null,
   "metadata": {},
   "outputs": [],
   "source": []
  },
  {
   "cell_type": "code",
   "execution_count": null,
   "metadata": {},
   "outputs": [],
   "source": []
  }
 ],
 "metadata": {
  "kernelspec": {
   "display_name": "brianBrunel-2.7-2",
   "language": "python",
   "name": "brianbrunel-2.7-2"
  },
  "language_info": {
   "codemirror_mode": {
    "name": "ipython",
    "version": 2
   },
   "file_extension": ".py",
   "mimetype": "text/x-python",
   "name": "python",
   "nbconvert_exporter": "python",
   "pygments_lexer": "ipython2",
   "version": "2.7.18"
  },
  "toc-autonumbering": false,
  "toc-showmarkdowntxt": false,
  "toc-showtags": false
 },
 "nbformat": 4,
 "nbformat_minor": 4
}
