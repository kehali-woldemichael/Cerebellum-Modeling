{
 "cells": [
  {
   "cell_type": "markdown",
   "metadata": {},
   "source": [
    "# Initializing "
   ]
  },
  {
   "cell_type": "markdown",
   "metadata": {},
   "source": [
    "### Import/Set up"
   ]
  },
  {
   "cell_type": "code",
   "execution_count": 1,
   "metadata": {},
   "outputs": [],
   "source": [
    "import time \n",
    "\n",
    "start = time.time()"
   ]
  },
  {
   "cell_type": "code",
   "execution_count": 2,
   "metadata": {},
   "outputs": [],
   "source": [
    "import matplotlib \n",
    "matplotlib.use('Agg')"
   ]
  },
  {
   "cell_type": "code",
   "execution_count": 3,
   "metadata": {},
   "outputs": [],
   "source": [
    "import numpy as np \n",
    "import matplotlib.pyplot as plt \n",
    "import pandas as pd \n",
    "import numpy as np\n",
    "import seaborn as sns \n",
    "\n",
    "%matplotlib inline\n",
    "#%config Completer.use_jedi = False "
   ]
  },
  {
   "cell_type": "code",
   "execution_count": 4,
   "metadata": {},
   "outputs": [
    {
     "name": "stderr",
     "output_type": "stream",
     "text": [
      "INFO       The following preferences have been changed for Brian2GeNN, reset them manually if you use a different device later in the same script: codegen.loop_invariant_optimisations, core.network.default_schedule [brian2.devices.genn]\n"
     ]
    }
   ],
   "source": [
    "from brian2 import *\n",
    "import brian2genn\n",
    "\n",
    "# outputDirectory = '/work/kbw29/brian2Genn/Output'\n",
    "outputDirectory = '/hpc/home/kbw29/Code/brian2Genn/Output'\n",
    "\n",
    "\n",
    "set_device('genn', directory = outputDirectory,compile=True, run=True, debug=True)"
   ]
  },
  {
   "cell_type": "markdown",
   "metadata": {},
   "source": [
    "#### Personal Functions "
   ]
  },
  {
   "cell_type": "code",
   "execution_count": 5,
   "metadata": {},
   "outputs": [],
   "source": [
    "def visualise_connectivity(S):\n",
    "    Ns = len(S.source)\n",
    "    Nt = len(S.target)\n",
    "    figure(figsize=(10, 4))\n",
    "    subplot(121)\n",
    "    plot(zeros(Ns), arange(Ns), 'ok', ms=10)\n",
    "    plot(ones(Nt), arange(Nt), 'ok', ms=10)\n",
    "    for i, j in zip(S.i, S.j):\n",
    "        plot([0, 1], [i, j], '-k')\n",
    "    xticks([0, 1], ['Source', 'Target'])\n",
    "    ylabel('Neuron index')\n",
    "    xlim(-0.1, 1.1)\n",
    "    ylim(-1, max(Ns, Nt))\n",
    "    subplot(122)\n",
    "    plot(S.i, S.j, 'ok')\n",
    "    xlim(-1, Ns)\n",
    "    ylim(-1, Nt)\n",
    "    xlabel('Source neuron index')\n",
    "    ylabel('Target neuron index')"
   ]
  },
  {
   "cell_type": "code",
   "execution_count": 6,
   "metadata": {},
   "outputs": [],
   "source": [
    "def plot_spikes(monitor, stateMonitor, rangeNeurons):\n",
    "    for i in range(rangeNeurons):\n",
    "        spikes = (monitor.t[monitor.i == i] - defaultclock.dt)/ms\n",
    "        val = stateMonitor[i].V\n",
    "        subplot(rangeNeurons, 1, i+1)\n",
    "        plot(tile(spikes, (2, 1)), vstack((val[array(spikes, dtype=int)], zeros(len(spikes)))), 'C0')\n",
    "        title(\"Spikes\")\n",
    "    tight_layout()\n",
    "    show()"
   ]
  },
  {
   "cell_type": "code",
   "execution_count": 7,
   "metadata": {},
   "outputs": [],
   "source": [
    "def plot_potential(monitor, stateMonitor, rangeNeurons):\n",
    "    for i in range(rangeNeurons):\n",
    "        spikes = (monitor.t[monitor.i == i] - defaultclock.dt)/ms\n",
    "        val = stateMonitor[i].V\n",
    "        subplot(rangeNeurons, 1, i+1)\n",
    "        plot(stateMonitor.t/ms, val)\n",
    "        title(\"Trace\")\n",
    "    tight_layout()\n",
    "    show()"
   ]
  },
  {
   "cell_type": "code",
   "execution_count": 8,
   "metadata": {},
   "outputs": [],
   "source": [
    "def plot_population(prMonitorRun, spikeMonitorRun, labelGroup, nActivity, pRun): \n",
    "    # plotting\n",
    "    title('Population rates')\n",
    "    xlabel('ms')\n",
    "    ylabel('Hz')\n",
    "\n",
    "    plot(prMonitorRun.t / ms, prMonitorRun.smooth_rate(width=25 * ms) / Hz, label=labelGroup)\n",
    "\n",
    "    legend()\n",
    "    figure()\n",
    "\n",
    "    title('Population activities ({} neurons/pop)'.format(nActivity))\n",
    "    xlabel('ms')\n",
    "    yticks([])\n",
    "\n",
    "    plot(spikeMonitorRun.t / ms, spikeMonitorRun.i + (pRun + 1) * nActivity, '.', markersize=2, label=labelGroup) \n",
    "\n",
    "\n",
    "    legend()\n",
    "    show()"
   ]
  },
  {
   "cell_type": "code",
   "execution_count": 9,
   "metadata": {},
   "outputs": [],
   "source": [
    "def plot_population_Multi(prMonitorRun_smooth, prMonitorRun_t, spikeMonitorRun, labelGroup, nActivity, pRun): \n",
    "    # plotting\n",
    "    title('Population rates')\n",
    "    xlabel('ms')\n",
    "    ylabel('Hz')\n",
    "\n",
    "    plot(prMonitorRun_t / ms, prMonitorRun_smooth, label=labelGroup)\n",
    "\n",
    "    legend()\n",
    "    figure()\n",
    "\n",
    "    title('Population activities ({} neurons/pop)'.format(nActivity))\n",
    "    xlabel('ms')\n",
    "    yticks([])\n",
    "\n",
    "    plot(spikeMonitorRun.t / ms, spikeMonitorRun.i + (pRun + 1) * nActivity, '.', markersize=2, label=labelGroup) \n",
    "\n",
    "\n",
    "    legend()\n",
    "    show()"
   ]
  },
  {
   "cell_type": "code",
   "execution_count": 10,
   "metadata": {},
   "outputs": [],
   "source": [
    "def plot_population_Multi_2(prMonitorRun_smooth, prMonitorRun_t, labelGroup): \n",
    "    # plotting\n",
    "    title('Population rates')\n",
    "    xlabel('ms')\n",
    "    ylabel('Hz')\n",
    "\n",
    "    plot(prMonitorRun_t / ms, prMonitorRun_smooth, label=labelGroup)\n",
    "\n",
    "    legend()\n",
    "    show()"
   ]
  },
  {
   "cell_type": "code",
   "execution_count": 11,
   "metadata": {},
   "outputs": [],
   "source": [
    "def active_percent(monitor, binSize, durationSimulation, numNeurons, ymax):\n",
    "    # Define bin size \n",
    "    bin_size = binSize*ms\n",
    "    # Define duration of simulation \n",
    "    duration = durationSimulation*second\n",
    "    # Define number of neurons \n",
    "    num_Neurons = numNeurons\n",
    "\n",
    "    # Initialize array to record spike occurancces \n",
    "    spkTotal = np.zeros([int(duration/bin_size)])\n",
    "    \n",
    "    for current in range(num_Neurons): \n",
    "        spk_count, bin_edges = np.histogram(a = np.r_[monitor.t[monitor.i == current]/second],\n",
    "                                            bins = int(duration/bin_size), range = (0,durationSimulation))\n",
    "        # Convert spike count to binary \n",
    "        binary = np.where(spk_count > 0, 1, 0)\n",
    "        # Add to recording array\n",
    "        spkTotal = spkTotal + binary\n",
    "\n",
    "    plt.plot(bin_edges[:-1], (spkTotal/num_Neurons)*100)\n",
    "    plt.axis([0, durationSimulation, 0, ymax])\n",
    "    plt.title('Percent active granule cells as function of time')\n",
    "    plt.ylabel('Active Cell (%)')\n",
    "    plt.xlabel('Time (s)')\n",
    "    plt.show()"
   ]
  },
  {
   "cell_type": "code",
   "execution_count": 12,
   "metadata": {},
   "outputs": [],
   "source": [
    "def averaged_ActivePercent(spkMulti, spkSingle, binSize, durationSimulation, numNeurons, ymax):\n",
    "    # Define bin size \n",
    "    bin_size = binSize*ms\n",
    "    # Define duration of simulation \n",
    "    duration = durationSimulation*second\n",
    "    # Define number of neurons \n",
    "    num_Neurons = numNeurons\n",
    "    \n",
    "    spk_count, bin_edges = np.histogram(a = np.r_[spkSingle.t[spkSingle.i == 1]/second],\n",
    "                                        bins = int(duration/bin_size), range = (0,durationSimulation))\n",
    "\n",
    "    averaged_spkMulti = np.mean(spkMulti, axis = 0)\n",
    "    \n",
    "    plt.plot(bin_edges[:-1], averaged_spkMulti)\n",
    "    plt.axis([0, durationSimulation, 0, ymax])\n",
    "    plt.title('Percent active granule cells as function of time')\n",
    "    plt.ylabel('Active Cell (%)')\n",
    "    plt.xlabel('Time (s)')\n",
    "    plt.show()"
   ]
  },
  {
   "cell_type": "markdown",
   "metadata": {},
   "source": [
    "#### General paramaters "
   ]
  },
  {
   "cell_type": "code",
   "execution_count": 13,
   "metadata": {},
   "outputs": [],
   "source": [
    "# spatial \n",
    "#gC = 320\n",
    "gC = 10\n",
    "numGC = gC**2 \n",
    "gG = 32 \n",
    "#numGolgi = gG**2  \n",
    "numGolgi = 10 \n",
    "gGlo = 31\n",
    "numGlomeruli = gGlo**2\n",
    "\n",
    "# Spatial paramaters \n",
    "gcSpacing = ((gG*(gG-1))/(gC-1))*umetre \n",
    "golgiSpacing = 32*umetre \n",
    "\n",
    "gcSpacing = ((gG*(gG-1))/(gC-1))*umetre \n",
    "\n",
    "\n",
    "numPKJ = numBS = 10"
   ]
  },
  {
   "cell_type": "markdown",
   "metadata": {},
   "source": [
    "# Neuron Models"
   ]
  },
  {
   "cell_type": "markdown",
   "metadata": {},
   "source": [
    "### Granule Cells "
   ]
  },
  {
   "cell_type": "code",
   "execution_count": 14,
   "metadata": {},
   "outputs": [],
   "source": [
    "# Parameters \n",
    "\n",
    "# neuron parameters\n",
    "theta_GR = -35*mV # threshold (from Yamazaki) \n",
    "Cm_GR = 3.1*pF \n",
    "\n",
    "# Conductances \n",
    "gL_GR = 0.43*nS \n",
    "g_AMPA_GR = 0.18*nS \n",
    "g_NMDA_GR = 0.025*nS \n",
    "g_Inh_GR = 0.028*nS \n",
    "g_ahp_GR = 1*nS\n",
    "\n",
    "# Various leaks (from Yamazaki) \n",
    "El_GR = -58*mV\n",
    "Eexc = 0*mV \n",
    "E_inh_GR = -82*mV \n",
    "E_ahp_GR = -82*mV # after hyperpolarization \n",
    "\n",
    "# Tau\n",
    "tau_ahp_GR = 5*ms \n",
    "tau_AMPA_GR = 1.2*ms \n",
    "tau_NMDA_GR = 52.0*ms \n",
    "tau_GABA_1_GR = 7*ms\n",
    "tau_GABA_2_GR = 59*ms\n",
    "\n",
    "eqs_GR = Equations('''\n",
    "                        dV / dt = (-gL_GR * (V - El_GR) - I_syn) / Cm_GR : volt \n",
    "                        \n",
    "                        I_syn = I_AMPA + I_NMDA + I_GABA_tot + I_ahp: amp \n",
    "                        I_GABA_tot = 0.43*I_GABA_1 + 0.57*I_GABA_2 : amp \n",
    "                        \n",
    "                        I_AMPA = g_AMPA_GR * (V - Eexc) * s_AMPA : amp\n",
    "                        ds_AMPA / dt = -s_AMPA / tau_AMPA_GR : 1 \n",
    "                        \n",
    "                        I_NMDA = g_NMDA_GR * (V - Eexc) * s_NMDA : amp\n",
    "                        ds_NMDA / dt = -s_NMDA / tau_NMDA_GR : 1 \n",
    "                        \n",
    "                        I_GABA_1 = g_Inh_GR * (V - E_inh_GR) * s_GABA_1 : amp\n",
    "                        ds_GABA_1 / dt = -s_GABA_1 / tau_GABA_1_GR : 1 \n",
    "                        \n",
    "                        I_GABA_2 = g_Inh_GR * (V - E_inh_GR) * s_GABA_2 : amp\n",
    "                        ds_GABA_2 / dt = - s_GABA_2 / tau_GABA_2_GR : 1 \n",
    "                        \n",
    "                        I_ahp = g_ahp_GR * (V - E_ahp_GR) * s_ahp_GR: amp\n",
    "                        ds_ahp_GR / dt = - s_ahp_GR / tau_ahp_GR : 1\n",
    "                        \n",
    "                        x : metre \n",
    "                        y : metre \n",
    "                ''')\n",
    "\n",
    "# Defining granule cell neuron group \n",
    "granuleCells = NeuronGroup(N=numGC, model=eqs_GR, reset='V = El_GR',\n",
    "                    threshold='V > theta_GR',\n",
    "                    method='euler')\n",
    "granuleCells.V = El_GR "
   ]
  },
  {
   "cell_type": "code",
   "execution_count": 15,
   "metadata": {},
   "outputs": [],
   "source": [
    "# Defining MF input \n",
    "\n",
    "# Defining input parameters \n",
    "num_inputs = 100\n",
    "f = 0.5*Hz \n",
    "eq_rate = '(22.5 + 7.5*cos((2*pi*t*f) + pi))*Hz'\n",
    "\n",
    "# Equations \n",
    "eqs_glut_MFGR = '''\n",
    "                   w_MFGR : 1 \n",
    "                '''\n",
    "eqs_pre_glut_MFGR = '''\n",
    "                       s_AMPA += w_MFGR\n",
    "                    '''\n",
    "\n",
    "P_MFGR = PoissonGroup(num_inputs, rates = eq_rate)\n",
    "S_MFGR = Synapses(P_MFGR, granuleCells, model = eqs_glut_MFGR, on_pre = eqs_pre_glut_MFGR, method = 'euler') \n",
    "S_MFGR.connect(condition = 'i == j')\n",
    "S_MFGR.w_MFGR = 4\n"
   ]
  },
  {
   "cell_type": "code",
   "execution_count": 16,
   "metadata": {},
   "outputs": [],
   "source": [
    "# Visualize synaptic connections \n",
    "#visualise_connectivity(S_MFGR)"
   ]
  },
  {
   "cell_type": "markdown",
   "metadata": {},
   "source": [
    "### Golgi"
   ]
  },
  {
   "cell_type": "code",
   "execution_count": 17,
   "metadata": {},
   "outputs": [],
   "source": [
    "# Parameters \n",
    "\n",
    "# neuron parameters\n",
    "theta_GO = -52*mV # threshold (from Yamazaki) \n",
    "Cm_GO = 28.0*pF \n",
    "\n",
    "# Conductances \n",
    "gL_GO = 2.3*nS \n",
    "g_AMPA_GO = 45.5*nS \n",
    "g_NMDA_GO = 30.0*nS \n",
    "g_ahp_GO = 20*nS\n",
    "\n",
    "El_GO = -55*mV\n",
    "E_exc = 0*mV \n",
    "E_ahp_GO = -72.7*mV # after hyperpolarization \n",
    "\n",
    "# Tau\n",
    "tau_AHP_GO = 5*ms \n",
    "tau_AMPA_GO = 1.5*ms \n",
    "tau_NMDA_1_GO = 31.0*ms \n",
    "tau_NMDA_2_GO = 170.0*ms \n",
    "\n",
    "eqs_GO = Equations('''\n",
    "                        dV / dt = (-gL_GO * (V - El_GO) - I_syn) / Cm_GO : volt \n",
    "                        \n",
    "                        I_syn = I_AMPA + I_NMDA_tot + I_ahp : amp \n",
    "                        I_NMDA_tot = 0.33*I_NMDA_1 + 0.67*I_NMDA_2 : amp\n",
    "                        \n",
    "                        I_AMPA = g_AMPA_GR * (V - Eexc) * s_AMPA : amp\n",
    "                        ds_AMPA / dt = -s_AMPA / tau_AMPA_GO : 1 \n",
    "                        \n",
    "                        I_NMDA_1 = g_NMDA_GO * (V - E_exc) * s_NMDA_1 : amp\n",
    "                        ds_NMDA_1 / dt = -s_NMDA_1 / tau_NMDA_1_GO : 1 \n",
    "                        \n",
    "                        I_NMDA_2 = g_NMDA_GO * (V - Eexc) * s_NMDA_2 : amp\n",
    "                        ds_NMDA_2 / dt = -s_NMDA_2 / tau_NMDA_2_GO : 1 \n",
    "                        \n",
    "                        I_ahp = g_ahp_GO * (V - E_ahp_GO) * s_ahp_GO : amp\n",
    "                        ds_ahp_GO / dt = - s_ahp_GO / tau_AHP_GO : 1\n",
    "                        \n",
    "                        x : metre \n",
    "                        y : metre \n",
    "                ''')\n",
    "\n",
    "# Defining golgi cell neuron group \n",
    "golgi = NeuronGroup(N=numGolgi, model=eqs_GO, reset='V = El_GO',\n",
    "                    threshold='V > theta_GO',\n",
    "                    method='euler')\n",
    "golgi.V = El_GO "
   ]
  },
  {
   "cell_type": "markdown",
   "metadata": {},
   "source": [
    "### Purkinje"
   ]
  },
  {
   "cell_type": "code",
   "execution_count": 18,
   "metadata": {},
   "outputs": [],
   "source": [
    "# Parameters \n",
    "\n",
    "# neuron parameters\n",
    "theta_PKJ = -55*mV # threshold (from Yamazaki) \n",
    "Cm_PKJ = 107.0*pF \n",
    "I_spont_PKJ = 0.25*nA \n",
    "\n",
    "# Conductances \n",
    "gL_PKJ = 2.32*nS \n",
    "g_AMPA_PKJ = 0.7*nS \n",
    "g_GABA_PKJ = 1.0*nS\n",
    "g_AHP_PKJ = 0.1*nS\n",
    "\n",
    "# Leak potentials \n",
    "El_PKJ = -68.0*mV\n",
    "E_exc = 0*mV \n",
    "E_inh_PKJ = -75.0*mV\n",
    "E_AHP_PKJ = -70.0*mV # after hyperpolarization \n",
    "\n",
    "# Tau\n",
    "tau_AMPA_PKJ = 8.3*ms \n",
    "tau_GABA_PKJ = 10*ms\n",
    "tau_AHP_PKJ = 5*ms \n",
    "\n",
    "eqs_PKJ = Equations('''\n",
    "                        dV / dt = (-gL_PKJ * (V - El_PKJ) - I_syn + I_spont_PKJ) / Cm_PKJ : volt \n",
    "                        \n",
    "                        I_syn = I_AMPA + I_GABA + I_AHP : amp \n",
    "                        \n",
    "                        I_AMPA = g_AMPA_PKJ * (V - E_exc) * s_AMPA : amp\n",
    "                        ds_AMPA / dt = - s_AMPA / tau_AMPA_PKJ : 1 \n",
    "                        \n",
    "                        I_GABA = g_GABA_PKJ * (V - E_inh_PKJ) * s_GABA : amp \n",
    "                        ds_GABA / dt = - s_GABA / tau_GABA_PKJ : 1\n",
    "                        \n",
    "                        I_AHP = g_AHP_PKJ * (V - E_AHP_PKJ) * s_AHP_PKJ : amp\n",
    "                        ds_AHP_PKJ / dt = - s_AHP_PKJ / tau_AHP_PKJ : 1\n",
    "                    ''')\n",
    "\n",
    "# Defining purkinje cell neuron group \n",
    "purkinje = NeuronGroup(N = numPKJ, model = eqs_PKJ, reset = 'V = El_PKJ',\n",
    "                    threshold = 'V > theta_PKJ',\n",
    "                    method = 'euler')\n",
    "purkinje.V = El_PKJ"
   ]
  },
  {
   "cell_type": "code",
   "execution_count": 19,
   "metadata": {},
   "outputs": [],
   "source": [
    "# Defining CF input \n",
    "\n",
    "# Defining input parameters \n",
    "num_inputs = numPKJ\n",
    "f = 0.5*Hz \n",
    "eq_rate_CF = '(2.25 + 0.75*cos((2*pi*t*f) + pi))*Hz'\n",
    "\n",
    "# Equations \n",
    "eqs_glut_CFPKJ = '''\n",
    "                   w_CFPKJ : 1 \n",
    "                 '''\n",
    "eqs_pre_glut_CFPJK = '''\n",
    "                       s_AMPA += w_CFPKJ\n",
    "                    '''\n",
    "\n",
    "P_CFPKJ = PoissonGroup(num_inputs, rates = eq_rate_CF)\n",
    "S_CFPKJ = Synapses(P_CFPKJ, purkinje, model = eqs_glut_CFPKJ, on_pre = eqs_pre_glut_CFPJK, method = 'euler') \n",
    "S_CFPKJ.connect(condition = 'i == j')\n",
    "S_CFPKJ.w_CFPKJ = 1.0"
   ]
  },
  {
   "cell_type": "code",
   "execution_count": 20,
   "metadata": {},
   "outputs": [],
   "source": [
    "# Visualize synaptic connections \n",
    "#visualise_connectivity(S_CFPKJ)"
   ]
  },
  {
   "cell_type": "markdown",
   "metadata": {},
   "source": [
    "### Basket Cells"
   ]
  },
  {
   "cell_type": "code",
   "execution_count": 21,
   "metadata": {},
   "outputs": [],
   "source": [
    "# Parameters \n",
    "\n",
    "# neuron parameters\n",
    "theta_BS = -55*mV # threshold (from Yamazaki) \n",
    "Cm_BS = 107.0*pF \n",
    "\n",
    "# Conductances \n",
    "gL_BS = 2.32*nS \n",
    "g_AMPA_BS = 0.7*nS \n",
    "g_AHP_BS = 0.1*nS\n",
    "\n",
    "# Leak potentials \n",
    "El_BS = -68.0*mV\n",
    "E_exc = 0*mV \n",
    "E_ahp_BS = -70.0*mV # after hyperpolarization \n",
    "\n",
    "# Tau\n",
    "tau_AMPA_BS = 8.3*ms \n",
    "tau_AHP_BS = 2.5*ms \n",
    "\n",
    "eqs_BS = Equations('''\n",
    "                        dV / dt = (-gL_BS * (V - El_BS) - I_syn) / Cm_BS : volt \n",
    "                        \n",
    "                        I_syn = I_AMPA + I_AHP : amp \n",
    "                        \n",
    "                        I_AMPA = g_AMPA_BS * (V - E_exc) * s_AMPA : amp\n",
    "                        ds_AMPA / dt = - s_AMPA / tau_AMPA_BS : 1 \n",
    "                        \n",
    "                        I_AHP = g_AHP_BS * (V - E_ahp_BS) * s_AHP_BS : amp\n",
    "                        ds_AHP_BS / dt = - s_AHP_BS / tau_AHP_BS : 1\n",
    "                    ''')\n",
    "\n",
    "# Defining basket cell neuron group \n",
    "basketCell = NeuronGroup(N = numBS, model = eqs_BS, reset = 'V = El_BS',\n",
    "                    threshold = 'V > theta_BS',\n",
    "                    method = 'euler')\n",
    "basketCell.V = El_BS"
   ]
  },
  {
   "cell_type": "code",
   "execution_count": 22,
   "metadata": {},
   "outputs": [
    {
     "data": {
      "text/html": [
       "NeuronGroup \"neurongroup_3\" with 10 neurons.<br>\n",
       "<b>Model:</b><nr>\n",
       "\\begin{align*}I_{AHP} &= g_{AHP BS} s_{AHP BS} \\left(- E_{ahp BS} + V\\right) && \\text{(unit of $I_{AHP}$: $\\mathrm{A}$)}\\\\\n",
       "I_{AMPA} &= g_{AMPA BS} s_{AMPA} \\left(- E_{exc} + V\\right) && \\text{(unit of $I_{AMPA}$: $\\mathrm{A}$)}\\\\\n",
       "I_{syn} &= I_{AHP} + I_{AMPA} && \\text{(unit of $I_{syn}$: $\\mathrm{A}$)}\\\\\n",
       "\\mathtt{\\text{\\textbackslashfrac\\{\\textbackslashmathrm\\{d\\}V\\}\\{\\textbackslashmathrm\\{d\\}t\\}}} &= \\frac{- I_{syn} - gL_{BS} \\left(- El_{BS} + V\\right)}{Cm_{BS}} && \\text{(unit of $V$: $\\mathrm{V}$)}\\\\\n",
       "\\mathtt{\\text{\\textbackslashfrac\\{\\textbackslashmathrm\\{d\\}s\\_\\{AHP BS\\}\\}\\{\\textbackslashmathrm\\{d\\}t\\}}} &= - \\frac{s_{AHP BS}}{\\tau_{AHP BS}} && \\text{(unit of $s_{AHP BS}$: $\\mathrm{rad}$)}\\\\\n",
       "\\mathtt{\\text{\\textbackslashfrac\\{\\textbackslashmathrm\\{d\\}s\\_\\{AMPA\\}\\}\\{\\textbackslashmathrm\\{d\\}t\\}}} &= - \\frac{s_{AMPA}}{\\tau_{AMPA BS}} && \\text{(unit of $s_{AMPA}$: $\\mathrm{rad}$)}\\end{align*}\n",
       "<b>Spiking behaviour:</b><ul style=\"list-style-type: none; margin-top: 0px;\">\n",
       "<li><i>Threshold condition: </i>\n",
       "<code>V > theta_BS</code></li>\n",
       "<li><i>Reset statement(s):</i>\n",
       "<code>V = El_BS</code></li>\n",
       "</ul>"
      ],
      "text/plain": [
       "NeuronGroup(clock=Clock(dt=100. * usecond, name='defaultclock'), when=start, order=0, name='neurongroup_3')"
      ]
     },
     "execution_count": 22,
     "metadata": {},
     "output_type": "execute_result"
    }
   ],
   "source": [
    "basketCell"
   ]
  },
  {
   "cell_type": "markdown",
   "metadata": {},
   "source": [
    "### VN"
   ]
  },
  {
   "cell_type": "code",
   "execution_count": null,
   "metadata": {},
   "outputs": [],
   "source": []
  },
  {
   "cell_type": "markdown",
   "metadata": {},
   "source": [
    "### IO"
   ]
  },
  {
   "cell_type": "code",
   "execution_count": null,
   "metadata": {},
   "outputs": [],
   "source": []
  },
  {
   "cell_type": "markdown",
   "metadata": {},
   "source": [
    "#  Establishing Connectivity "
   ]
  },
  {
   "cell_type": "markdown",
   "metadata": {},
   "source": [
    "#### Parameters "
   ]
  },
  {
   "cell_type": "code",
   "execution_count": 23,
   "metadata": {},
   "outputs": [],
   "source": [
    "# Connection probability \n",
    "pr_GRGO = 0.0245\n",
    "#pr_GOGR = 0.025\n",
    "pr_GOGR = 0.08"
   ]
  },
  {
   "cell_type": "markdown",
   "metadata": {},
   "source": [
    "#### Granule --> Golgi"
   ]
  },
  {
   "cell_type": "code",
   "execution_count": 24,
   "metadata": {},
   "outputs": [],
   "source": [
    "# Equations \n",
    "eqs_glut_GRGO = '''\n",
    "                   w_GRGO : 1 \n",
    "                '''\n",
    "eqs_pre_glut_GRGO = '''\n",
    "                       s_AMPA += 1\n",
    "                    '''"
   ]
  },
  {
   "cell_type": "code",
   "execution_count": 25,
   "metadata": {},
   "outputs": [],
   "source": [
    "# Forming synapses \n",
    "S_GRGO = Synapses(granuleCells, golgi, model = eqs_glut_GRGO, on_pre = eqs_pre_glut_GRGO, method = 'euler') \n",
    "S_GRGO.connect(p = pr_GRGO)\n",
    "S_GRGO.w_GRGO = 0.00004"
   ]
  },
  {
   "cell_type": "code",
   "execution_count": 26,
   "metadata": {},
   "outputs": [],
   "source": [
    "#visualise_connectivity(S_GRGO)"
   ]
  },
  {
   "cell_type": "markdown",
   "metadata": {},
   "source": [
    "#### Golgi --> Granule Cells "
   ]
  },
  {
   "cell_type": "code",
   "execution_count": 27,
   "metadata": {},
   "outputs": [],
   "source": [
    "# Equations \n",
    "eqs_GABA_GOGR = '''\n",
    "                   w_GOGR : 1 \n",
    "                '''\n",
    "eqs_pre_GABA_GOGR = '''\n",
    "                       s_GABA_1 += 1\n",
    "                    '''"
   ]
  },
  {
   "cell_type": "code",
   "execution_count": 28,
   "metadata": {},
   "outputs": [],
   "source": [
    "# Forming synapses \n",
    "S_GOGR = Synapses(golgi, granuleCells, model = eqs_GABA_GOGR, on_pre = eqs_pre_GABA_GOGR, method = 'euler') \n",
    "#S_GOGR.connect(condition = 'abs(i-j)<2')\n",
    "S_GOGR.connect(p = pr_GOGR)\n",
    "S_GOGR.w_GOGR = 10"
   ]
  },
  {
   "cell_type": "code",
   "execution_count": 29,
   "metadata": {},
   "outputs": [],
   "source": [
    "#visualise_connectivity(S_GOGR)"
   ]
  },
  {
   "cell_type": "markdown",
   "metadata": {},
   "source": [
    "#### Granule Cell --> Purkinje"
   ]
  },
  {
   "cell_type": "code",
   "execution_count": 30,
   "metadata": {},
   "outputs": [],
   "source": [
    "# Connecting 9x32 granule cell clusters to purkinje \n",
    "index = np.array(*[range(10)], dtype='int')"
   ]
  },
  {
   "cell_type": "code",
   "execution_count": 31,
   "metadata": {},
   "outputs": [],
   "source": [
    "eqs_glut_GRPKJ = '''\n",
    "                    w_GRPKJ : 1\n",
    "                 '''\n",
    "\n",
    "eqs_pre_glut_GRPKJ = '''\n",
    "                        s_AMPA += 1 \n",
    "                     '''\n"
   ]
  },
  {
   "cell_type": "code",
   "execution_count": 32,
   "metadata": {},
   "outputs": [],
   "source": [
    "# Connecting 10 granule cells to purkinje \n",
    "S_GRPKJ = Synapses(granuleCells, purkinje, model = eqs_glut_GRPKJ, on_pre = eqs_pre_glut_GRPKJ, method = 'euler')\n",
    "# Iterate over columns \n",
    "for k in range(len(purkinje.i)):\n",
    "    S_GRPKJ.connect(i = (index + (k*10)), j = k)\n",
    "S_GRPKJ.w_GRPKJ = 0.003\n"
   ]
  },
  {
   "cell_type": "code",
   "execution_count": 33,
   "metadata": {},
   "outputs": [],
   "source": [
    "#visualise_connectivity(S_GRPKJ)"
   ]
  },
  {
   "cell_type": "markdown",
   "metadata": {},
   "source": [
    "#### Granule Cell --> Basket Cell"
   ]
  },
  {
   "cell_type": "code",
   "execution_count": 34,
   "metadata": {},
   "outputs": [],
   "source": [
    "# Connecting 9x32 granule cell clusters to purkinje \n",
    "index = np.array(*[range(10)], dtype='int')"
   ]
  },
  {
   "cell_type": "code",
   "execution_count": 35,
   "metadata": {},
   "outputs": [],
   "source": [
    "eqs_glut_GRBS = '''\n",
    "                    w_GRBS : 1\n",
    "                '''\n",
    "\n",
    "eqs_pre_glut_GRBS = '''\n",
    "                        s_AMPA += 1 \n",
    "                    '''\n",
    "\n"
   ]
  },
  {
   "cell_type": "code",
   "execution_count": 36,
   "metadata": {},
   "outputs": [],
   "source": [
    "# Connecting 10 granule cells to basket cell \n",
    "S_GRBS = Synapses(granuleCells, basketCell, model = eqs_glut_GRBS, on_pre = eqs_pre_glut_GRBS, method = 'euler')\n",
    "# Iterate over columns \n",
    "for k in range(len(basketCell.i)):\n",
    "    S_GRBS.connect(i = (index + (k*10)), j = k)\n",
    "S_GRBS.w_GRBS = 0.003"
   ]
  },
  {
   "cell_type": "code",
   "execution_count": 37,
   "metadata": {},
   "outputs": [],
   "source": [
    "#visualise_connectivity(S_GRBS)"
   ]
  },
  {
   "cell_type": "markdown",
   "metadata": {},
   "source": [
    "#### Basket Cell --> Purkinje "
   ]
  },
  {
   "cell_type": "code",
   "execution_count": 38,
   "metadata": {},
   "outputs": [],
   "source": [
    "eqs_GABA_BSPKJ = '''\n",
    "               w_BSPKJ : 1\n",
    "            '''\n",
    "eqs_pre_GABA_BSPKJ = '''\n",
    "                        s_GABA += 1\n",
    "                     '''"
   ]
  },
  {
   "cell_type": "code",
   "execution_count": 39,
   "metadata": {},
   "outputs": [],
   "source": [
    "# Connecting purkinje to 3 nearest basket\n",
    "S_BSPKJ = Synapses(basketCell, purkinje, model = eqs_GABA_BSPKJ, on_pre = eqs_pre_GABA_BSPKJ, method = 'euler')\n",
    "S_BSPKJ.connect(condition = 'abs(i-j)<2')\n",
    "S_BSPKJ.w_BSPKJ = 5.3\n"
   ]
  },
  {
   "cell_type": "code",
   "execution_count": 40,
   "metadata": {},
   "outputs": [],
   "source": [
    "#visualise_connectivity(S_BSPKJ)"
   ]
  },
  {
   "cell_type": "markdown",
   "metadata": {},
   "source": [
    "# Running simulation "
   ]
  },
  {
   "cell_type": "code",
   "execution_count": 41,
   "metadata": {},
   "outputs": [],
   "source": [
    "def spk_active(monitor, binSize, durationSimulation, numNeurons): \n",
    "    # Define bin size \n",
    "    bin_size = binSize*ms\n",
    "    # Define duration of simulation \n",
    "    duration = durationSimulation*second\n",
    "    # Define number of neurons \n",
    "    num_Neurons = numNeurons\n",
    "\n",
    "    # Initialize array to record spike occurancces \n",
    "    spkTotal = np.zeros([int(duration/bin_size)])\n",
    "    \n",
    "    for current in range(num_Neurons): \n",
    "        spk_count, bin_edges = np.histogram(a = np.r_[monitor.t[monitor.i == current]/second],\n",
    "                                            bins = int(duration/bin_size), range = (0,2))\n",
    "        # Convert spike count to binary \n",
    "        binary = np.where(spk_count > 0, 1, 0)\n",
    "        # Add to recording array\n",
    "        spkTotal = spkTotal + binary\n",
    "    \n",
    "    return((spkTotal/num_Neurons)*100)"
   ]
  },
  {
   "cell_type": "code",
   "execution_count": 42,
   "metadata": {},
   "outputs": [],
   "source": [
    "# Setting up monitors\n",
    "\n",
    "# Granule Cell \n",
    "spikeMonitor_GR = SpikeMonitor(granuleCells)\n",
    "stateMonitor_GR = StateMonitor(granuleCells, 'V', record=True)\n",
    "prMonitor_GR = PopulationRateMonitor(granuleCells)\n",
    "\n",
    "# Purkinje \n",
    "spikeMonitor_PKJ = SpikeMonitor(purkinje)\n",
    "stateMonitor_PKJ = StateMonitor(purkinje, 'V', record=True)\n",
    "prMonitor_PKJ = PopulationRateMonitor(purkinje)\n",
    "\n",
    "# Basket cells  \n",
    "spikeMonitor_BS = SpikeMonitor(basketCell)\n",
    "stateMonitor_BS = StateMonitor(basketCell, 'V', record=True)\n",
    "prMonitor_BS = PopulationRateMonitor(basketCell)\n",
    "\n",
    "# Golgi cells  \n",
    "spikeMonitor_GO = SpikeMonitor(golgi)\n",
    "stateMonitor_GO = StateMonitor(golgi, 'V', record=True)\n",
    "prMonitor_GO = PopulationRateMonitor(golgi)"
   ]
  },
  {
   "cell_type": "code",
   "execution_count": 43,
   "metadata": {},
   "outputs": [],
   "source": [
    "# Granule cell array \n",
    "spikeMonitor_Multi_GR = []\n",
    "spkActive_Multi_GR = []\n",
    "# Population \n",
    "populationRates_GR = []\n",
    "prMulti_GR_smooth = []\n",
    "prMulti_GR_t = []\n",
    "\n",
    "# Purkinje array \n",
    "prMulti_PKJ_smooth = []\n",
    "prMulti_PKJ_t = []\n",
    "\n",
    "# Basket cell array \n",
    "prMulti_BS_smooth = []\n",
    "prMulti_BS_t = []\n",
    "\n",
    "# Golgi array \n",
    "prMulti_GO_smooth = []\n",
    "prMulti_GO_t = []"
   ]
  },
  {
   "cell_type": "code",
   "execution_count": 44,
   "metadata": {},
   "outputs": [
    {
     "data": {
      "text/plain": [
       "4.107561111450195"
      ]
     },
     "execution_count": 44,
     "metadata": {},
     "output_type": "execute_result"
    }
   ],
   "source": [
    "time.time() - start"
   ]
  },
  {
   "cell_type": "code",
   "execution_count": 45,
   "metadata": {
    "scrolled": true
   },
   "outputs": [
    {
     "name": "stdout",
     "output_type": "stream",
     "text": [
      "running brian code generation ...\n",
      "building genn executable ...\n",
      "['/hpc/home/kbw29/Code/genn/bin/genn-buildmodel.sh', '-i', '/hpc/home/kbw29/Code/brian2Genn:/hpc/home/kbw29/Code/brian2Genn/Output:/hpc/home/kbw29/Code/brian2Genn/Output/brianlib/randomkit', 'magicnetwork_model.cpp']\n"
     ]
    },
    {
     "ename": "RuntimeError",
     "evalue": "Project compilation failed (Command ['/hpc/home/kbw29/Code/genn/bin/genn-buildmodel.sh', '-i', '/hpc/home/kbw29/Code/brian2Genn:/hpc/home/kbw29/Code/brian2Genn/Output:/hpc/home/kbw29/Code/brian2Genn/Output/brianlib/randomkit', 'magicnetwork_model.cpp'] failed with error code 50).\nSee the output above (if any) for more details.",
     "output_type": "error",
     "traceback": [
      "\u001b[0;31m---------------------------------------------------------------------------\u001b[0m",
      "\u001b[0;31mCalledProcessError\u001b[0m                        Traceback (most recent call last)",
      "\u001b[0;32m~/.conda/envs/brianBrunel-1/lib/python3.9/site-packages/brian2genn/device.py\u001b[0m in \u001b[0;36mbuild\u001b[0;34m(self, directory, compile, run, use_GPU, debug, with_output, direct_call)\u001b[0m\n\u001b[1;32m    881\u001b[0m             \u001b[0;32mtry\u001b[0m\u001b[0;34m:\u001b[0m\u001b[0;34m\u001b[0m\u001b[0;34m\u001b[0m\u001b[0m\n\u001b[0;32m--> 882\u001b[0;31m                 \u001b[0mself\u001b[0m\u001b[0;34m.\u001b[0m\u001b[0mcompile_source\u001b[0m\u001b[0;34m(\u001b[0m\u001b[0mdebug\u001b[0m\u001b[0;34m,\u001b[0m \u001b[0mdirectory\u001b[0m\u001b[0;34m,\u001b[0m \u001b[0muse_GPU\u001b[0m\u001b[0;34m)\u001b[0m\u001b[0;34m\u001b[0m\u001b[0;34m\u001b[0m\u001b[0m\n\u001b[0m\u001b[1;32m    883\u001b[0m             \u001b[0;32mexcept\u001b[0m \u001b[0mCalledProcessError\u001b[0m \u001b[0;32mas\u001b[0m \u001b[0mex\u001b[0m\u001b[0;34m:\u001b[0m\u001b[0;34m\u001b[0m\u001b[0;34m\u001b[0m\u001b[0m\n",
      "\u001b[0;32m~/.conda/envs/brianBrunel-1/lib/python3.9/site-packages/brian2genn/device.py\u001b[0m in \u001b[0;36mcompile_source\u001b[0;34m(self, debug, directory, use_GPU)\u001b[0m\n\u001b[1;32m   1168\u001b[0m                 \u001b[0mprint\u001b[0m\u001b[0;34m(\u001b[0m\u001b[0margs\u001b[0m\u001b[0;34m)\u001b[0m\u001b[0;34m\u001b[0m\u001b[0;34m\u001b[0m\u001b[0m\n\u001b[0;32m-> 1169\u001b[0;31m                 \u001b[0mcheck_call\u001b[0m\u001b[0;34m(\u001b[0m\u001b[0margs\u001b[0m\u001b[0;34m,\u001b[0m \u001b[0mcwd\u001b[0m\u001b[0;34m=\u001b[0m\u001b[0mdirectory\u001b[0m\u001b[0;34m,\u001b[0m \u001b[0menv\u001b[0m\u001b[0;34m=\u001b[0m\u001b[0menv\u001b[0m\u001b[0;34m)\u001b[0m\u001b[0;34m\u001b[0m\u001b[0;34m\u001b[0m\u001b[0m\n\u001b[0m\u001b[1;32m   1170\u001b[0m                 \u001b[0mcall\u001b[0m\u001b[0;34m(\u001b[0m\u001b[0;34m[\u001b[0m\u001b[0;34m\"make\"\u001b[0m\u001b[0;34m,\u001b[0m \u001b[0;34m\"clean\"\u001b[0m\u001b[0;34m]\u001b[0m\u001b[0;34m,\u001b[0m \u001b[0mcwd\u001b[0m\u001b[0;34m=\u001b[0m\u001b[0mdirectory\u001b[0m\u001b[0;34m,\u001b[0m \u001b[0menv\u001b[0m\u001b[0;34m=\u001b[0m\u001b[0menv\u001b[0m\u001b[0;34m)\u001b[0m\u001b[0;34m\u001b[0m\u001b[0;34m\u001b[0m\u001b[0m\n",
      "\u001b[0;32m~/.conda/envs/brianBrunel-1/lib/python3.9/subprocess.py\u001b[0m in \u001b[0;36mcheck_call\u001b[0;34m(*popenargs, **kwargs)\u001b[0m\n\u001b[1;32m    372\u001b[0m             \u001b[0mcmd\u001b[0m \u001b[0;34m=\u001b[0m \u001b[0mpopenargs\u001b[0m\u001b[0;34m[\u001b[0m\u001b[0;36m0\u001b[0m\u001b[0;34m]\u001b[0m\u001b[0;34m\u001b[0m\u001b[0;34m\u001b[0m\u001b[0m\n\u001b[0;32m--> 373\u001b[0;31m         \u001b[0;32mraise\u001b[0m \u001b[0mCalledProcessError\u001b[0m\u001b[0;34m(\u001b[0m\u001b[0mretcode\u001b[0m\u001b[0;34m,\u001b[0m \u001b[0mcmd\u001b[0m\u001b[0;34m)\u001b[0m\u001b[0;34m\u001b[0m\u001b[0;34m\u001b[0m\u001b[0m\n\u001b[0m\u001b[1;32m    374\u001b[0m     \u001b[0;32mreturn\u001b[0m \u001b[0;36m0\u001b[0m\u001b[0;34m\u001b[0m\u001b[0;34m\u001b[0m\u001b[0m\n",
      "\u001b[0;31mCalledProcessError\u001b[0m: Command '['/hpc/home/kbw29/Code/genn/bin/genn-buildmodel.sh', '-i', '/hpc/home/kbw29/Code/brian2Genn:/hpc/home/kbw29/Code/brian2Genn/Output:/hpc/home/kbw29/Code/brian2Genn/Output/brianlib/randomkit', 'magicnetwork_model.cpp']' returned non-zero exit status 50.",
      "\nDuring handling of the above exception, another exception occurred:\n",
      "\u001b[0;31mRuntimeError\u001b[0m                              Traceback (most recent call last)",
      "\u001b[0;32m<ipython-input-45-73696feb38da>\u001b[0m in \u001b[0;36m<module>\u001b[0;34m\u001b[0m\n\u001b[1;32m      1\u001b[0m \u001b[0;31m# run the simulation\u001b[0m\u001b[0;34m\u001b[0m\u001b[0;34m\u001b[0m\u001b[0;34m\u001b[0m\u001b[0m\n\u001b[1;32m      2\u001b[0m \u001b[0mBrianLogger\u001b[0m\u001b[0;34m.\u001b[0m\u001b[0mlog_level_info\u001b[0m\u001b[0;34m(\u001b[0m\u001b[0;34m)\u001b[0m\u001b[0;34m\u001b[0m\u001b[0;34m\u001b[0m\u001b[0m\n\u001b[0;32m----> 3\u001b[0;31m \u001b[0mrun\u001b[0m\u001b[0;34m(\u001b[0m\u001b[0;36m1\u001b[0m\u001b[0;34m*\u001b[0m\u001b[0msecond\u001b[0m\u001b[0;34m)\u001b[0m\u001b[0;34m\u001b[0m\u001b[0;34m\u001b[0m\u001b[0m\n\u001b[0m",
      "\u001b[0;32m~/.conda/envs/brianBrunel-1/lib/python3.9/site-packages/brian2/units/fundamentalunits.py\u001b[0m in \u001b[0;36mnew_f\u001b[0;34m(*args, **kwds)\u001b[0m\n\u001b[1;32m   2432\u001b[0m                                                      get_dimensions(newkeyset[k]))\n\u001b[1;32m   2433\u001b[0m \u001b[0;34m\u001b[0m\u001b[0m\n\u001b[0;32m-> 2434\u001b[0;31m             \u001b[0mresult\u001b[0m \u001b[0;34m=\u001b[0m \u001b[0mf\u001b[0m\u001b[0;34m(\u001b[0m\u001b[0;34m*\u001b[0m\u001b[0margs\u001b[0m\u001b[0;34m,\u001b[0m \u001b[0;34m**\u001b[0m\u001b[0mkwds\u001b[0m\u001b[0;34m)\u001b[0m\u001b[0;34m\u001b[0m\u001b[0;34m\u001b[0m\u001b[0m\n\u001b[0m\u001b[1;32m   2435\u001b[0m             \u001b[0;32mif\u001b[0m \u001b[0;34m'result'\u001b[0m \u001b[0;32min\u001b[0m \u001b[0mau\u001b[0m\u001b[0;34m:\u001b[0m\u001b[0;34m\u001b[0m\u001b[0;34m\u001b[0m\u001b[0m\n\u001b[1;32m   2436\u001b[0m                 \u001b[0;32mif\u001b[0m \u001b[0misinstance\u001b[0m\u001b[0;34m(\u001b[0m\u001b[0mau\u001b[0m\u001b[0;34m[\u001b[0m\u001b[0;34m'result'\u001b[0m\u001b[0;34m]\u001b[0m\u001b[0;34m,\u001b[0m \u001b[0mCallable\u001b[0m\u001b[0;34m)\u001b[0m \u001b[0;32mand\u001b[0m \u001b[0mau\u001b[0m\u001b[0;34m[\u001b[0m\u001b[0;34m'result'\u001b[0m\u001b[0;34m]\u001b[0m \u001b[0;34m!=\u001b[0m \u001b[0mbool\u001b[0m\u001b[0;34m:\u001b[0m\u001b[0;34m\u001b[0m\u001b[0;34m\u001b[0m\u001b[0m\n",
      "\u001b[0;32m~/.conda/envs/brianBrunel-1/lib/python3.9/site-packages/brian2/core/magic.py\u001b[0m in \u001b[0;36mrun\u001b[0;34m(duration, report, report_period, namespace, profile, level)\u001b[0m\n\u001b[1;32m    371\u001b[0m         \u001b[0mintended\u001b[0m \u001b[0muse\u001b[0m\u001b[0;34m.\u001b[0m \u001b[0mSee\u001b[0m\u001b[0;31m \u001b[0m\u001b[0;31m`\u001b[0m\u001b[0mMagicNetwork\u001b[0m\u001b[0;31m`\u001b[0m \u001b[0;32mfor\u001b[0m \u001b[0mmore\u001b[0m \u001b[0mdetails\u001b[0m\u001b[0;34m.\u001b[0m\u001b[0;34m\u001b[0m\u001b[0;34m\u001b[0m\u001b[0m\n\u001b[1;32m    372\u001b[0m     '''\n\u001b[0;32m--> 373\u001b[0;31m     return magic_network.run(duration, report=report, report_period=report_period,\n\u001b[0m\u001b[1;32m    374\u001b[0m                              namespace=namespace, profile=profile, level=2+level)\n\u001b[1;32m    375\u001b[0m \u001b[0mrun\u001b[0m\u001b[0;34m.\u001b[0m\u001b[0m__module__\u001b[0m \u001b[0;34m=\u001b[0m \u001b[0m__name__\u001b[0m\u001b[0;34m\u001b[0m\u001b[0;34m\u001b[0m\u001b[0m\n",
      "\u001b[0;32m~/.conda/envs/brianBrunel-1/lib/python3.9/site-packages/brian2/core/magic.py\u001b[0m in \u001b[0;36mrun\u001b[0;34m(self, duration, report, report_period, namespace, profile, level)\u001b[0m\n\u001b[1;32m    229\u001b[0m             namespace=None, profile=False, level=0):\n\u001b[1;32m    230\u001b[0m         \u001b[0mself\u001b[0m\u001b[0;34m.\u001b[0m\u001b[0m_update_magic_objects\u001b[0m\u001b[0;34m(\u001b[0m\u001b[0mlevel\u001b[0m\u001b[0;34m=\u001b[0m\u001b[0mlevel\u001b[0m\u001b[0;34m+\u001b[0m\u001b[0;36m1\u001b[0m\u001b[0;34m)\u001b[0m\u001b[0;34m\u001b[0m\u001b[0;34m\u001b[0m\u001b[0m\n\u001b[0;32m--> 231\u001b[0;31m         Network.run(self, duration, report=report, report_period=report_period,\n\u001b[0m\u001b[1;32m    232\u001b[0m                     namespace=namespace, profile=profile, level=level+1)\n\u001b[1;32m    233\u001b[0m \u001b[0;34m\u001b[0m\u001b[0m\n",
      "\u001b[0;32m~/.conda/envs/brianBrunel-1/lib/python3.9/site-packages/brian2/core/base.py\u001b[0m in \u001b[0;36mdevice_override_decorated_function\u001b[0;34m(*args, **kwds)\u001b[0m\n\u001b[1;32m    274\u001b[0m             \u001b[0mcurdev\u001b[0m \u001b[0;34m=\u001b[0m \u001b[0mget_device\u001b[0m\u001b[0;34m(\u001b[0m\u001b[0;34m)\u001b[0m\u001b[0;34m\u001b[0m\u001b[0;34m\u001b[0m\u001b[0m\n\u001b[1;32m    275\u001b[0m             \u001b[0;32mif\u001b[0m \u001b[0mhasattr\u001b[0m\u001b[0;34m(\u001b[0m\u001b[0mcurdev\u001b[0m\u001b[0;34m,\u001b[0m \u001b[0mname\u001b[0m\u001b[0;34m)\u001b[0m\u001b[0;34m:\u001b[0m\u001b[0;34m\u001b[0m\u001b[0;34m\u001b[0m\u001b[0m\n\u001b[0;32m--> 276\u001b[0;31m                 \u001b[0;32mreturn\u001b[0m \u001b[0mgetattr\u001b[0m\u001b[0;34m(\u001b[0m\u001b[0mcurdev\u001b[0m\u001b[0;34m,\u001b[0m \u001b[0mname\u001b[0m\u001b[0;34m)\u001b[0m\u001b[0;34m(\u001b[0m\u001b[0;34m*\u001b[0m\u001b[0margs\u001b[0m\u001b[0;34m,\u001b[0m \u001b[0;34m**\u001b[0m\u001b[0mkwds\u001b[0m\u001b[0;34m)\u001b[0m\u001b[0;34m\u001b[0m\u001b[0;34m\u001b[0m\u001b[0m\n\u001b[0m\u001b[1;32m    277\u001b[0m             \u001b[0;32melse\u001b[0m\u001b[0;34m:\u001b[0m\u001b[0;34m\u001b[0m\u001b[0;34m\u001b[0m\u001b[0m\n\u001b[1;32m    278\u001b[0m                 \u001b[0;32mreturn\u001b[0m \u001b[0mfunc\u001b[0m\u001b[0;34m(\u001b[0m\u001b[0;34m*\u001b[0m\u001b[0margs\u001b[0m\u001b[0;34m,\u001b[0m \u001b[0;34m**\u001b[0m\u001b[0mkwds\u001b[0m\u001b[0;34m)\u001b[0m\u001b[0;34m\u001b[0m\u001b[0;34m\u001b[0m\u001b[0m\n",
      "\u001b[0;32m~/.conda/envs/brianBrunel-1/lib/python3.9/site-packages/brian2genn/device.py\u001b[0m in \u001b[0;36mnetwork_run\u001b[0;34m(self, net, duration, report, report_period, namespace, profile, level, **kwds)\u001b[0m\n\u001b[1;32m   1819\u001b[0m         \u001b[0mself\u001b[0m\u001b[0;34m.\u001b[0m\u001b[0mnet\u001b[0m \u001b[0;34m=\u001b[0m \u001b[0mnet\u001b[0m\u001b[0;34m\u001b[0m\u001b[0;34m\u001b[0m\u001b[0m\n\u001b[1;32m   1820\u001b[0m \u001b[0;34m\u001b[0m\u001b[0m\n\u001b[0;32m-> 1821\u001b[0;31m         super(GeNNDevice, self).network_run(net=net, duration=duration,\n\u001b[0m\u001b[1;32m   1822\u001b[0m                                             \u001b[0mreport\u001b[0m\u001b[0;34m=\u001b[0m\u001b[0mreport\u001b[0m\u001b[0;34m,\u001b[0m\u001b[0;34m\u001b[0m\u001b[0;34m\u001b[0m\u001b[0m\n\u001b[1;32m   1823\u001b[0m                                             \u001b[0mreport_period\u001b[0m\u001b[0;34m=\u001b[0m\u001b[0mreport_period\u001b[0m\u001b[0;34m,\u001b[0m\u001b[0;34m\u001b[0m\u001b[0;34m\u001b[0m\u001b[0m\n",
      "\u001b[0;32m~/.conda/envs/brianBrunel-1/lib/python3.9/site-packages/brian2/devices/cpp_standalone/device.py\u001b[0m in \u001b[0;36mnetwork_run\u001b[0;34m(self, net, duration, report, report_period, namespace, profile, level, **kwds)\u001b[0m\n\u001b[1;32m   1509\u001b[0m                                    \u001b[0;34m'device.build call to use multiple run '\u001b[0m\u001b[0;34m\u001b[0m\u001b[0;34m\u001b[0m\u001b[0m\n\u001b[1;32m   1510\u001b[0m                                    'statements with this device.')\n\u001b[0;32m-> 1511\u001b[0;31m             \u001b[0mself\u001b[0m\u001b[0;34m.\u001b[0m\u001b[0mbuild\u001b[0m\u001b[0;34m(\u001b[0m\u001b[0mdirect_call\u001b[0m\u001b[0;34m=\u001b[0m\u001b[0;32mFalse\u001b[0m\u001b[0;34m,\u001b[0m \u001b[0;34m**\u001b[0m\u001b[0mself\u001b[0m\u001b[0;34m.\u001b[0m\u001b[0mbuild_options\u001b[0m\u001b[0;34m)\u001b[0m\u001b[0;34m\u001b[0m\u001b[0;34m\u001b[0m\u001b[0m\n\u001b[0m\u001b[1;32m   1512\u001b[0m \u001b[0;34m\u001b[0m\u001b[0m\n\u001b[1;32m   1513\u001b[0m     \u001b[0;32mdef\u001b[0m \u001b[0mnetwork_store\u001b[0m\u001b[0;34m(\u001b[0m\u001b[0mself\u001b[0m\u001b[0;34m,\u001b[0m \u001b[0mnet\u001b[0m\u001b[0;34m,\u001b[0m \u001b[0;34m*\u001b[0m\u001b[0margs\u001b[0m\u001b[0;34m,\u001b[0m \u001b[0;34m**\u001b[0m\u001b[0mkwds\u001b[0m\u001b[0;34m)\u001b[0m\u001b[0;34m:\u001b[0m\u001b[0;34m\u001b[0m\u001b[0;34m\u001b[0m\u001b[0m\n",
      "\u001b[0;32m~/.conda/envs/brianBrunel-1/lib/python3.9/site-packages/brian2genn/device.py\u001b[0m in \u001b[0;36mbuild\u001b[0;34m(self, directory, compile, run, use_GPU, debug, with_output, direct_call)\u001b[0m\n\u001b[1;32m    882\u001b[0m                 \u001b[0mself\u001b[0m\u001b[0;34m.\u001b[0m\u001b[0mcompile_source\u001b[0m\u001b[0;34m(\u001b[0m\u001b[0mdebug\u001b[0m\u001b[0;34m,\u001b[0m \u001b[0mdirectory\u001b[0m\u001b[0;34m,\u001b[0m \u001b[0muse_GPU\u001b[0m\u001b[0;34m)\u001b[0m\u001b[0;34m\u001b[0m\u001b[0;34m\u001b[0m\u001b[0m\n\u001b[1;32m    883\u001b[0m             \u001b[0;32mexcept\u001b[0m \u001b[0mCalledProcessError\u001b[0m \u001b[0;32mas\u001b[0m \u001b[0mex\u001b[0m\u001b[0;34m:\u001b[0m\u001b[0;34m\u001b[0m\u001b[0;34m\u001b[0m\u001b[0m\n\u001b[0;32m--> 884\u001b[0;31m                 raise RuntimeError(('Project compilation failed (Command {cmd} '\n\u001b[0m\u001b[1;32m    885\u001b[0m                                     \u001b[0;34m'failed with error code {returncode}).\\n'\u001b[0m\u001b[0;34m\u001b[0m\u001b[0;34m\u001b[0m\u001b[0m\n\u001b[1;32m    886\u001b[0m                                     \u001b[0;34m'See the output above (if any) for more '\u001b[0m\u001b[0;34m\u001b[0m\u001b[0;34m\u001b[0m\u001b[0m\n",
      "\u001b[0;31mRuntimeError\u001b[0m: Project compilation failed (Command ['/hpc/home/kbw29/Code/genn/bin/genn-buildmodel.sh', '-i', '/hpc/home/kbw29/Code/brian2Genn:/hpc/home/kbw29/Code/brian2Genn/Output:/hpc/home/kbw29/Code/brian2Genn/Output/brianlib/randomkit', 'magicnetwork_model.cpp'] failed with error code 50).\nSee the output above (if any) for more details."
     ]
    }
   ],
   "source": [
    "# run the simulation\n",
    "BrianLogger.log_level_info()\n",
    "run(1*second)"
   ]
  },
  {
   "cell_type": "markdown",
   "metadata": {},
   "source": [
    "#### Benchmarking"
   ]
  },
  {
   "cell_type": "code",
   "execution_count": null,
   "metadata": {},
   "outputs": [],
   "source": [
    "time.time() - start"
   ]
  },
  {
   "cell_type": "code",
   "execution_count": null,
   "metadata": {},
   "outputs": [],
   "source": [
    "# For benchmarking time usage per step ... do not use with multiple runs \n",
    "profiling_summary(show = 10)"
   ]
  },
  {
   "cell_type": "markdown",
   "metadata": {},
   "source": [
    "# Visualization "
   ]
  },
  {
   "cell_type": "code",
   "execution_count": null,
   "metadata": {},
   "outputs": [],
   "source": [
    "plot_potential(spikeMonitor_GR, stateMonitor_GR, 2)"
   ]
  },
  {
   "cell_type": "code",
   "execution_count": null,
   "metadata": {},
   "outputs": [],
   "source": [
    "plot_spikes(spikeMonitor_GR, stateMonitor_GR, 2)"
   ]
  },
  {
   "cell_type": "markdown",
   "metadata": {},
   "source": [
    "#### By trial "
   ]
  },
  {
   "cell_type": "code",
   "execution_count": null,
   "metadata": {},
   "outputs": [],
   "source": [
    "plot_population(prMonitor_GR, spikeMonitor_GR, 'GranuleCells', 100, 10)"
   ]
  },
  {
   "cell_type": "code",
   "execution_count": null,
   "metadata": {},
   "outputs": [],
   "source": [
    "plot_population_Multi(prMulti_GR_smooth[0], prMulti_GR_t[0], spikeMonitor_GR, 'GranuleCells', 100, 10)"
   ]
  },
  {
   "cell_type": "code",
   "execution_count": null,
   "metadata": {},
   "outputs": [],
   "source": [
    "plot_population_Multi(prMulti_GR_smooth[1], prMulti_GR_t[1], spikeMonitor_GR, 'GranuleCells', 100, 10)"
   ]
  },
  {
   "cell_type": "markdown",
   "metadata": {},
   "source": [
    "#### Individual Granule Cells "
   ]
  },
  {
   "cell_type": "code",
   "execution_count": null,
   "metadata": {},
   "outputs": [],
   "source": [
    "tempAppend = []\n",
    "neuronNumber = 0\n",
    "\n",
    "for i in range(len(spikeMonitor_Multi_GR)):\n",
    "    tempAppend.extend(pd.array(spikeMonitor_Multi_GR[i][neuronNumber])*1000)\n",
    "\n",
    "sns.kdeplot(tempAppend, bw_adjust = 0.5)"
   ]
  },
  {
   "cell_type": "code",
   "execution_count": null,
   "metadata": {},
   "outputs": [],
   "source": [
    "tempAppend = []\n",
    "neuronNumber = 1\n",
    "\n",
    "for i in range(len(spikeMonitor_Multi_GR)):\n",
    "    tempAppend.extend(pd.array(spikeMonitor_Multi_GR[i][neuronNumber])*1000)\n",
    "\n",
    "sns.kdeplot(tempAppend, bw_adjust = 0.2)"
   ]
  },
  {
   "cell_type": "code",
   "execution_count": null,
   "metadata": {},
   "outputs": [],
   "source": [
    "tempAppend = []\n",
    "neuronNumber = 2\n",
    "\n",
    "for i in range(len(spikeMonitor_Multi_GR)):\n",
    "    tempAppend.extend(pd.array(spikeMonitor_Multi_GR[i][neuronNumber])*1000)\n",
    "\n",
    "sns.kdeplot(tempAppend, bw_adjust = 0.2)"
   ]
  },
  {
   "cell_type": "code",
   "execution_count": null,
   "metadata": {},
   "outputs": [],
   "source": [
    "tempAppend = []\n",
    "neuronNumber = 43\n",
    "\n",
    "for i in range(len(spikeMonitor_Multi_GR)):\n",
    "    tempAppend.extend(pd.array(spikeMonitor_Multi_GR[i][neuronNumber])*1000)\n",
    "\n",
    "sns.kdeplot(tempAppend, bw_adjust = 0.2)"
   ]
  },
  {
   "cell_type": "markdown",
   "metadata": {},
   "source": [
    "#### Population Readouts"
   ]
  },
  {
   "cell_type": "markdown",
   "metadata": {},
   "source": [
    "##### Granule  Cells"
   ]
  },
  {
   "cell_type": "code",
   "execution_count": null,
   "metadata": {},
   "outputs": [],
   "source": [
    "# Plotting average population firing rate across all runs \n",
    "average_prMulti = np.mean(prMulti_GR_smooth, axis = 0)\n",
    "\n",
    "plot_population_Multi_2(average_prMulti, prMulti_GR_t[1], 'GranuleCells')"
   ]
  },
  {
   "cell_type": "code",
   "execution_count": null,
   "metadata": {},
   "outputs": [],
   "source": [
    "active_percent(spikeMonitor_GR, binSize = 10, durationSimulation = 2, numNeurons = numGC, ymax = 20)"
   ]
  },
  {
   "cell_type": "code",
   "execution_count": null,
   "metadata": {},
   "outputs": [],
   "source": [
    "averaged_ActivePercent(spkActive_Multi_GR, spikeMonitor_GR, binSize = 10, durationSimulation = 2, numNeurons = numGC, ymax = 10)"
   ]
  },
  {
   "cell_type": "markdown",
   "metadata": {},
   "source": [
    "### Purkinje"
   ]
  },
  {
   "cell_type": "code",
   "execution_count": null,
   "metadata": {},
   "outputs": [],
   "source": [
    "plot_potential(spikeMonitor_PKJ, stateMonitor_PKJ, 2)"
   ]
  },
  {
   "cell_type": "code",
   "execution_count": null,
   "metadata": {},
   "outputs": [],
   "source": [
    "plot_spikes(spikeMonitor_PKJ, stateMonitor_PKJ, 2)"
   ]
  },
  {
   "cell_type": "code",
   "execution_count": null,
   "metadata": {},
   "outputs": [],
   "source": [
    "# Plotting average population firing rate across all runs \n",
    "average_prMulti_PKJ = np.mean(prMulti_PKJ_smooth, axis = 0)\n",
    "\n",
    "plot_population_Multi_2(average_prMulti_PKJ, prMulti_PKJ_t[1], 'Purkinje')"
   ]
  },
  {
   "cell_type": "markdown",
   "metadata": {},
   "source": [
    "## Basket Cell "
   ]
  },
  {
   "cell_type": "code",
   "execution_count": null,
   "metadata": {},
   "outputs": [],
   "source": [
    "# Plotting average population firing rate across all runs \n",
    "average_prMulti_BS = np.mean(prMulti_BS_smooth, axis = 0)\n",
    "\n",
    "plot_population_Multi_2(average_prMulti_BS, prMulti_BS_t[1], 'Basket Cells')"
   ]
  },
  {
   "cell_type": "code",
   "execution_count": null,
   "metadata": {},
   "outputs": [],
   "source": []
  },
  {
   "cell_type": "markdown",
   "metadata": {},
   "source": [
    "## Golgi "
   ]
  },
  {
   "cell_type": "code",
   "execution_count": null,
   "metadata": {},
   "outputs": [],
   "source": [
    "# Plotting average population firing rate across all runs \n",
    "average_prMulti_GO = np.mean(prMulti_GO_smooth, axis = 0)\n",
    "\n",
    "plot_population_Multi_2(average_prMulti_GO, prMulti_GO_t[1], 'Golgi')"
   ]
  },
  {
   "cell_type": "code",
   "execution_count": null,
   "metadata": {},
   "outputs": [],
   "source": []
  },
  {
   "cell_type": "code",
   "execution_count": null,
   "metadata": {},
   "outputs": [],
   "source": []
  },
  {
   "cell_type": "code",
   "execution_count": null,
   "metadata": {},
   "outputs": [],
   "source": []
  },
  {
   "cell_type": "code",
   "execution_count": null,
   "metadata": {},
   "outputs": [],
   "source": []
  },
  {
   "cell_type": "code",
   "execution_count": null,
   "metadata": {},
   "outputs": [],
   "source": []
  },
  {
   "cell_type": "code",
   "execution_count": null,
   "metadata": {},
   "outputs": [],
   "source": []
  },
  {
   "cell_type": "code",
   "execution_count": null,
   "metadata": {},
   "outputs": [],
   "source": []
  },
  {
   "cell_type": "code",
   "execution_count": null,
   "metadata": {},
   "outputs": [],
   "source": []
  },
  {
   "cell_type": "code",
   "execution_count": null,
   "metadata": {},
   "outputs": [],
   "source": []
  },
  {
   "cell_type": "code",
   "execution_count": null,
   "metadata": {},
   "outputs": [],
   "source": []
  },
  {
   "cell_type": "code",
   "execution_count": null,
   "metadata": {},
   "outputs": [],
   "source": []
  },
  {
   "cell_type": "code",
   "execution_count": null,
   "metadata": {},
   "outputs": [],
   "source": []
  },
  {
   "cell_type": "code",
   "execution_count": null,
   "metadata": {},
   "outputs": [],
   "source": []
  },
  {
   "cell_type": "code",
   "execution_count": null,
   "metadata": {},
   "outputs": [],
   "source": []
  },
  {
   "cell_type": "code",
   "execution_count": null,
   "metadata": {},
   "outputs": [],
   "source": []
  },
  {
   "cell_type": "code",
   "execution_count": null,
   "metadata": {},
   "outputs": [],
   "source": []
  }
 ],
 "metadata": {
  "kernelspec": {
   "display_name": "brianBrunel-1",
   "language": "python",
   "name": "brianbrunel-1"
  },
  "language_info": {
   "codemirror_mode": {
    "name": "ipython",
    "version": 3
   },
   "file_extension": ".py",
   "mimetype": "text/x-python",
   "name": "python",
   "nbconvert_exporter": "python",
   "pygments_lexer": "ipython3",
   "version": "3.9.1"
  },
  "toc-autonumbering": true,
  "toc-showmarkdowntxt": false,
  "toc-showtags": false
 },
 "nbformat": 4,
 "nbformat_minor": 4
}
