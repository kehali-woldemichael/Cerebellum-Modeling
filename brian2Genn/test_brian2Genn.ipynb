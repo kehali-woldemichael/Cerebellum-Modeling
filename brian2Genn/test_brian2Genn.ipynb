{
 "cells": [
  {
   "cell_type": "code",
   "execution_count": 1,
   "id": "occasional-grass",
   "metadata": {},
   "outputs": [
    {
     "name": "stderr",
     "output_type": "stream",
     "text": [
      "INFO       The following preferences have been changed for Brian2GeNN, reset them manually if you use a different device later in the same script: codegen.loop_invariant_optimisations, core.network.default_schedule [brian2.devices.genn]\n"
     ]
    }
   ],
   "source": [
    "from brian2 import *\n",
    "import brian2genn\n",
    "\n",
    "outputDirectory = '/hpc/home/kbw29/Code/brian2Genn/Output'\n",
    "set_device('genn', directory = outputDirectory,compile=True, run=True, debug=True)\n",
    "\n"
   ]
  },
  {
   "cell_type": "code",
   "execution_count": null,
   "id": "motivated-thumb",
   "metadata": {},
   "outputs": [],
   "source": [
    "prefs.devices.genn.cuda_backend.blocksize_select_method = 'MANUAL'"
   ]
  },
  {
   "cell_type": "code",
   "execution_count": null,
   "id": "taken-dancing",
   "metadata": {},
   "outputs": [],
   "source": [
    "N = 1\n",
    "tau = 10*ms\n",
    "Iin = 0.11/ms \n",
    "eqs = '''\n",
    "dV/dt = -V/tau + Iin : 1\n",
    "'''\n",
    "G = NeuronGroup(N, eqs, threshold='V>1', reset='V=0', refractory=5 * ms, method = exact)\n",
    "\n",
    "run(1*second)"
   ]
  },
  {
   "cell_type": "code",
   "execution_count": 2,
   "id": "printable-patch",
   "metadata": {},
   "outputs": [
    {
     "name": "stderr",
     "output_type": "stream",
     "text": [
      "WARNING    The expression \"10 / 3\" divides two integer values. In previous versions of Brian, this would have used either an integer (\"flooring\") or a floating point division, depending on the Python version and the code generation target. In the current version, it always uses a floating point division. Explicitly ask for an  integer division (\"//\"), or turn one of the operands into a floating point value (e.g. replace \"1/2\" by \"1.0/2\") to no longer receive this warning. [brian2.parsing.bast.floating_point_division]\n",
      "WARNING    The expression \"3 / 4\" divides two integer values. In previous versions of Brian, this would have used either an integer (\"flooring\") or a floating point division, depending on the Python version and the code generation target. In the current version, it always uses a floating point division. Explicitly ask for an  integer division (\"//\"), or turn one of the operands into a floating point value (e.g. replace \"1/2\" by \"1.0/2\") to no longer receive this warning. [brian2.parsing.bast.floating_point_division]\n"
     ]
    },
    {
     "name": "stdout",
     "output_type": "stream",
     "text": [
      "running brian code generation ...\n",
      "building genn executable ...\n",
      "['/hpc/home/kbw29/Code/genn/bin/genn-buildmodel.sh', '-i', '/hpc/home/kbw29/Code/brian2Genn:/hpc/home/kbw29/Code/brian2Genn/Output:/hpc/home/kbw29/Code/brian2Genn/Output/brianlib/randomkit', 'magicnetwork_model.cpp']\n",
      "executing genn binary on GPU ...\n"
     ]
    },
    {
     "name": "stderr",
     "output_type": "stream",
     "text": [
      "WARNING    neurongroup's variable 'h' has NaN, very large values, or encountered an error in numerical integration. This is usually a sign that an unstable or invalid integration method was chosen. [brian2.groups.group.invalid_values]\n",
      "WARNING    neurongroup's variable 'm' has NaN, very large values, or encountered an error in numerical integration. This is usually a sign that an unstable or invalid integration method was chosen. [brian2.groups.group.invalid_values]\n",
      "WARNING    neurongroup's variable 'n' has NaN, very large values, or encountered an error in numerical integration. This is usually a sign that an unstable or invalid integration method was chosen. [brian2.groups.group.invalid_values]\n",
      "WARNING    neurongroup's variable 'V' has NaN, very large values, or encountered an error in numerical integration. This is usually a sign that an unstable or invalid integration method was chosen. [brian2.groups.group.invalid_values]\n"
     ]
    }
   ],
   "source": [
    "N = 50000\n",
    "Iin = 10\n",
    "gNa= 120\n",
    "ENa= 55\n",
    "gK= 36\n",
    "EK= -72\n",
    "gl= 0.3\n",
    "El= -50\n",
    "C= 1\n",
    "eqs = '''\n",
    "dV/dt= (m**3*h*gNa*(ENa-V)+n**4*gK*(EK-V)+gl*(El-V)+Iin)/C/ms : 1\n",
    "dm/dt= ((3.5+0.1*V)//(1-exp(-3.5-0.1*V))*(1-m)-4*exp(-(V+60)/18)*m)/ms : 1\n",
    "dh/dt= (0.07*exp(-V/20-3)*(1-h)-1//(exp(-3-0.1*V)+1)*h)/ms : 1\n",
    "dn/dt= ((-0.5-0.01*V)//(exp(-5-0.1*V)-1)*(1-n)-0.125*exp(-(V+60)/80)*n)/ms : 1\n",
    "'''\n",
    "G = NeuronGroup(N, eqs, threshold='V> 0', reset='', method='euler')\n",
    "\n",
    "run(500*ms)"
   ]
  },
  {
   "cell_type": "code",
   "execution_count": null,
   "id": "russian-diary",
   "metadata": {},
   "outputs": [],
   "source": []
  },
  {
   "cell_type": "code",
   "execution_count": null,
   "id": "international-pledge",
   "metadata": {},
   "outputs": [],
   "source": []
  },
  {
   "cell_type": "code",
   "execution_count": null,
   "id": "pressed-saudi",
   "metadata": {},
   "outputs": [],
   "source": []
  },
  {
   "cell_type": "code",
   "execution_count": null,
   "id": "entertaining-december",
   "metadata": {},
   "outputs": [],
   "source": []
  },
  {
   "cell_type": "code",
   "execution_count": null,
   "id": "known-assembly",
   "metadata": {},
   "outputs": [],
   "source": []
  },
  {
   "cell_type": "code",
   "execution_count": null,
   "id": "changed-cardiff",
   "metadata": {},
   "outputs": [],
   "source": []
  }
 ],
 "metadata": {
  "kernelspec": {
   "display_name": "brianBrunel-1",
   "language": "python",
   "name": "brianbrunel-1"
  },
  "language_info": {
   "codemirror_mode": {
    "name": "ipython",
    "version": 3
   },
   "file_extension": ".py",
   "mimetype": "text/x-python",
   "name": "python",
   "nbconvert_exporter": "python",
   "pygments_lexer": "ipython3",
   "version": "3.9.1"
  }
 },
 "nbformat": 4,
 "nbformat_minor": 5
}
