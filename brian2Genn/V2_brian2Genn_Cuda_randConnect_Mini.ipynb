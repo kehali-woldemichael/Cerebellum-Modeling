{
 "cells": [
  {
   "cell_type": "markdown",
   "metadata": {},
   "source": [
    "# Initializing "
   ]
  },
  {
   "cell_type": "markdown",
   "metadata": {},
   "source": [
    "### Import/Set up"
   ]
  },
  {
   "cell_type": "code",
   "execution_count": 1,
   "metadata": {},
   "outputs": [],
   "source": [
    "import time \n",
    "\n",
    "start = time.time()"
   ]
  },
  {
   "cell_type": "code",
   "execution_count": 2,
   "metadata": {},
   "outputs": [],
   "source": [
    "import matplotlib \n",
    "matplotlib.use('Agg')"
   ]
  },
  {
   "cell_type": "code",
   "execution_count": 3,
   "metadata": {},
   "outputs": [],
   "source": [
    "import numpy as np \n",
    "import matplotlib.pyplot as plt \n",
    "import pandas as pd \n",
    "import numpy as np\n",
    "import seaborn as sns \n",
    "\n",
    "%matplotlib inline\n",
    "#%config Completer.use_jedi = False "
   ]
  },
  {
   "cell_type": "code",
   "execution_count": 4,
   "metadata": {},
   "outputs": [
    {
     "name": "stderr",
     "output_type": "stream",
     "text": [
      "INFO       The following preferences have been changed for Brian2GeNN, reset them manually if you use a different device later in the same script: codegen.loop_invariant_optimisations, core.network.default_schedule [brian2.devices.genn]\n"
     ]
    }
   ],
   "source": [
    "from brian2 import *\n",
    "import brian2genn\n",
    "\n",
    "# outputDirectory = '/work/kbw29/brian2Genn/Output'\n",
    "outputDirectory = '/hpc/home/kbw29/Code/brian2Genn/Output'\n",
    "\n",
    "\n",
    "set_device('genn', directory = outputDirectory)"
   ]
  },
  {
   "cell_type": "markdown",
   "metadata": {},
   "source": [
    "#### Personal Functions "
   ]
  },
  {
   "cell_type": "code",
   "execution_count": 5,
   "metadata": {},
   "outputs": [],
   "source": [
    "def visualise_connectivity(S):\n",
    "    Ns = len(S.source)\n",
    "    Nt = len(S.target)\n",
    "    figure(figsize=(10, 4))\n",
    "    subplot(121)\n",
    "    plot(zeros(Ns), arange(Ns), 'ok', ms=10)\n",
    "    plot(ones(Nt), arange(Nt), 'ok', ms=10)\n",
    "    for i, j in zip(S.i, S.j):\n",
    "        plot([0, 1], [i, j], '-k')\n",
    "    xticks([0, 1], ['Source', 'Target'])\n",
    "    ylabel('Neuron index')\n",
    "    xlim(-0.1, 1.1)\n",
    "    ylim(-1, max(Ns, Nt))\n",
    "    subplot(122)\n",
    "    plot(S.i, S.j, 'ok')\n",
    "    xlim(-1, Ns)\n",
    "    ylim(-1, Nt)\n",
    "    xlabel('Source neuron index')\n",
    "    ylabel('Target neuron index')"
   ]
  },
  {
   "cell_type": "code",
   "execution_count": 6,
   "metadata": {},
   "outputs": [],
   "source": [
    "def plot_spikes(monitor, stateMonitor, rangeNeurons):\n",
    "    for i in range(rangeNeurons):\n",
    "        spikes = (monitor.t[monitor.i == i] - defaultclock.dt)/ms\n",
    "        val = stateMonitor[i].V\n",
    "        subplot(rangeNeurons, 1, i+1)\n",
    "        plot(tile(spikes, (2, 1)), vstack((val[array(spikes, dtype=int)], zeros(len(spikes)))), 'C0')\n",
    "        title(\"Spikes\")\n",
    "    tight_layout()\n",
    "    show()"
   ]
  },
  {
   "cell_type": "code",
   "execution_count": 7,
   "metadata": {},
   "outputs": [],
   "source": [
    "def plot_potential(monitor, stateMonitor, rangeNeurons):\n",
    "    for i in range(rangeNeurons):\n",
    "        spikes = (monitor.t[monitor.i == i] - defaultclock.dt)/ms\n",
    "        val = stateMonitor[i].V\n",
    "        subplot(rangeNeurons, 1, i+1)\n",
    "        plot(stateMonitor.t/ms, val)\n",
    "        title(\"Trace\")\n",
    "    tight_layout()\n",
    "    show()"
   ]
  },
  {
   "cell_type": "code",
   "execution_count": 8,
   "metadata": {},
   "outputs": [],
   "source": [
    "def plot_population(prMonitorRun, spikeMonitorRun, labelGroup, nActivity, pRun): \n",
    "    # plotting\n",
    "    title('Population rates')\n",
    "    xlabel('ms')\n",
    "    ylabel('Hz')\n",
    "\n",
    "    plot(prMonitorRun.t / ms, prMonitorRun.smooth_rate(width=25 * ms) / Hz, label=labelGroup)\n",
    "\n",
    "    legend()\n",
    "    figure()\n",
    "\n",
    "    title('Population activities ({} neurons/pop)'.format(nActivity))\n",
    "    xlabel('ms')\n",
    "    yticks([])\n",
    "\n",
    "    plot(spikeMonitorRun.t / ms, spikeMonitorRun.i + (pRun + 1) * nActivity, '.', markersize=2, label=labelGroup) \n",
    "\n",
    "\n",
    "    legend()\n",
    "    show()"
   ]
  },
  {
   "cell_type": "code",
   "execution_count": 9,
   "metadata": {},
   "outputs": [],
   "source": [
    "def plot_population_Multi(prMonitorRun_smooth, prMonitorRun_t, spikeMonitorRun, labelGroup, nActivity, pRun): \n",
    "    # plotting\n",
    "    title('Population rates')\n",
    "    xlabel('ms')\n",
    "    ylabel('Hz')\n",
    "\n",
    "    plot(prMonitorRun_t / ms, prMonitorRun_smooth, label=labelGroup)\n",
    "\n",
    "    legend()\n",
    "    figure()\n",
    "\n",
    "    title('Population activities ({} neurons/pop)'.format(nActivity))\n",
    "    xlabel('ms')\n",
    "    yticks([])\n",
    "\n",
    "    plot(spikeMonitorRun.t / ms, spikeMonitorRun.i + (pRun + 1) * nActivity, '.', markersize=2, label=labelGroup) \n",
    "\n",
    "\n",
    "    legend()\n",
    "    show()"
   ]
  },
  {
   "cell_type": "code",
   "execution_count": 10,
   "metadata": {},
   "outputs": [],
   "source": [
    "def plot_population_Multi_2(prMonitorRun_smooth, prMonitorRun_t, labelGroup): \n",
    "    # plotting\n",
    "    title('Population rates')\n",
    "    xlabel('ms')\n",
    "    ylabel('Hz')\n",
    "\n",
    "    plot(prMonitorRun_t / ms, prMonitorRun_smooth, label=labelGroup)\n",
    "\n",
    "    legend()\n",
    "    show()"
   ]
  },
  {
   "cell_type": "code",
   "execution_count": 11,
   "metadata": {},
   "outputs": [],
   "source": [
    "def active_percent(monitor, binSize, durationSimulation, numNeurons, ymax):\n",
    "    # Define bin size \n",
    "    bin_size = binSize*ms\n",
    "    # Define duration of simulation \n",
    "    duration = durationSimulation*second\n",
    "    # Define number of neurons \n",
    "    num_Neurons = numNeurons\n",
    "\n",
    "    # Initialize array to record spike occurancces \n",
    "    spkTotal = np.zeros([int(duration/bin_size)])\n",
    "    \n",
    "    for current in range(num_Neurons): \n",
    "        spk_count, bin_edges = np.histogram(a = np.r_[monitor.t[monitor.i == current]/second],\n",
    "                                            bins = int(duration/bin_size), range = (0,durationSimulation))\n",
    "        # Convert spike count to binary \n",
    "        binary = np.where(spk_count > 0, 1, 0)\n",
    "        # Add to recording array\n",
    "        spkTotal = spkTotal + binary\n",
    "\n",
    "    plt.plot(bin_edges[:-1], (spkTotal/num_Neurons)*100)\n",
    "    plt.axis([0, durationSimulation, 0, ymax])\n",
    "    plt.title('Percent active granule cells as function of time')\n",
    "    plt.ylabel('Active Cell (%)')\n",
    "    plt.xlabel('Time (s)')\n",
    "    plt.show()"
   ]
  },
  {
   "cell_type": "code",
   "execution_count": 12,
   "metadata": {},
   "outputs": [],
   "source": [
    "def averaged_ActivePercent(spkMulti, spkSingle, binSize, durationSimulation, numNeurons, ymax):\n",
    "    # Define bin size \n",
    "    bin_size = binSize*ms\n",
    "    # Define duration of simulation \n",
    "    duration = durationSimulation*second\n",
    "    # Define number of neurons \n",
    "    num_Neurons = numNeurons\n",
    "    \n",
    "    spk_count, bin_edges = np.histogram(a = np.r_[spkSingle.t[spkSingle.i == 1]/second],\n",
    "                                        bins = int(duration/bin_size), range = (0,durationSimulation))\n",
    "\n",
    "    averaged_spkMulti = np.mean(spkMulti, axis = 0)\n",
    "    \n",
    "    plt.plot(bin_edges[:-1], averaged_spkMulti)\n",
    "    plt.axis([0, durationSimulation, 0, ymax])\n",
    "    plt.title('Percent active granule cells as function of time')\n",
    "    plt.ylabel('Active Cell (%)')\n",
    "    plt.xlabel('Time (s)')\n",
    "    plt.show()"
   ]
  },
  {
   "cell_type": "markdown",
   "metadata": {},
   "source": [
    "# Neuron Models"
   ]
  },
  {
   "cell_type": "markdown",
   "metadata": {},
   "source": [
    "### Granule Cells "
   ]
  },
  {
   "cell_type": "code",
   "execution_count": 13,
   "metadata": {},
   "outputs": [],
   "source": [
    "# Parameters \n",
    "\n",
    "# neuron parameters\n",
    "theta_GR = -35*mV # threshold (from Yamazaki) \n",
    "Cm_GR = 3.1*pF \n",
    "\n",
    "# Conductances \n",
    "gL_GR = 0.43*nS \n",
    "g_AMPA_GR = 0.18*nS \n",
    "g_NMDA_GR = 0.025*nS \n",
    "g_Inh_GR = 0.028*nS \n",
    "g_ahp_GR = 1*nS\n",
    "\n",
    "# Various leaks (from Yamazaki) \n",
    "El_GR = -58*mV\n",
    "Eexc = 0*mV \n",
    "E_inh_GR = -82*mV \n",
    "E_ahp_GR = -82*mV # after hyperpolarization \n",
    "\n",
    "# Tau\n",
    "tau_ahp_GR = 5*ms \n",
    "tau_AMPA_GR = 1.2*ms \n",
    "tau_NMDA_GR = 52.0*ms \n",
    "tau_GABA_1_GR = 7*ms\n",
    "tau_GABA_2_GR = 59*ms\n",
    "\n",
    "eqs_GR = Equations('''\n",
    "                        dV / dt = (-gL_GR * (V - El_GR) - I_syn) / Cm_GR : volt \n",
    "                        \n",
    "                        I_syn = I_AMPA + I_NMDA + I_GABA_tot + I_ahp: amp \n",
    "                        I_GABA_tot = 0.43*I_GABA_1 + 0.57*I_GABA_2 : amp \n",
    "                        \n",
    "                        I_AMPA = g_AMPA_GR * (V - Eexc) * s_AMPA : amp\n",
    "                        ds_AMPA / dt = -s_AMPA / tau_AMPA_GR : 1 \n",
    "                        \n",
    "                        I_NMDA = g_NMDA_GR * (V - Eexc) * s_NMDA : amp\n",
    "                        ds_NMDA / dt = -s_NMDA / tau_NMDA_GR : 1 \n",
    "                        \n",
    "                        I_GABA_1 = g_Inh_GR * (V - E_inh_GR) * s_GABA_1 : amp\n",
    "                        ds_GABA_1 / dt = -s_GABA_1 / tau_GABA_1_GR : 1 \n",
    "                        \n",
    "                        I_GABA_2 = g_Inh_GR * (V - E_inh_GR) * s_GABA_2 : amp\n",
    "                        ds_GABA_2 / dt = - s_GABA_2 / tau_GABA_2_GR : 1 \n",
    "                        \n",
    "                        I_ahp = g_ahp_GR * (V - E_ahp_GR) * s_ahp_GR: amp\n",
    "                        ds_ahp_GR / dt = - s_ahp_GR / tau_ahp_GR : 1\n",
    "                        \n",
    "                        x : metre \n",
    "                        y : metre \n",
    "                ''')\n",
    "\n",
    "# Defining granule cell neuron group \n",
    "granuleCells = NeuronGroup(N=10, model=eqs_GR, reset='V = El_GR',\n",
    "                    threshold='V > theta_GR',\n",
    "                    method='euler')\n",
    "granuleCells.V = El_GR "
   ]
  },
  {
   "cell_type": "code",
   "execution_count": 14,
   "metadata": {},
   "outputs": [],
   "source": [
    "# Defining MF input \n",
    "\n",
    "# Defining input parameters \n",
    "num_inputs = 100\n",
    "f = 0.5*Hz \n",
    "eq_rate = '(22.5 + 7.5*cos((2*pi*t*f) + pi))*Hz'\n",
    "\n",
    "# Equations \n",
    "eqs_glut_MFGR = '''\n",
    "                   w_MFGR : 1 \n",
    "                '''\n",
    "eqs_pre_glut_MFGR = '''\n",
    "                       s_AMPA += 1\n",
    "                    '''\n",
    "\n",
    "P_MFGR = PoissonGroup(num_inputs, rates = eq_rate)\n",
    "S_MFGR = Synapses(P_MFGR, granuleCells, model = eqs_glut_MFGR, on_pre = eqs_pre_glut_MFGR, method = 'euler') \n",
    "S_MFGR.connect(condition = 'i == j')\n",
    "S_MFGR.w_MFGR = 4\n"
   ]
  },
  {
   "cell_type": "code",
   "execution_count": 15,
   "metadata": {},
   "outputs": [],
   "source": [
    "# Visualize synaptic connections \n",
    "#visualise_connectivity(S_MFGR)"
   ]
  },
  {
   "cell_type": "markdown",
   "metadata": {},
   "source": [
    "# Running simulation "
   ]
  },
  {
   "cell_type": "code",
   "execution_count": 16,
   "metadata": {},
   "outputs": [
    {
     "data": {
      "text/plain": [
       "2.995042562484741"
      ]
     },
     "execution_count": 16,
     "metadata": {},
     "output_type": "execute_result"
    }
   ],
   "source": [
    "time.time() - start"
   ]
  },
  {
   "cell_type": "code",
   "execution_count": 17,
   "metadata": {},
   "outputs": [
    {
     "name": "stdout",
     "output_type": "stream",
     "text": [
      "running brian code generation ...\n",
      "building genn executable ...\n",
      "['/hpc/home/kbw29/Code/genn/bin/genn-buildmodel.sh', '-i', '/hpc/home/kbw29/Code/brian2Genn:/hpc/home/kbw29/Code/brian2Genn/Output:/hpc/home/kbw29/Code/brian2Genn/Output/brianlib/randomkit', 'magicnetwork_model.cpp']\n",
      "make: Entering directory '/hpc/home/kbw29/Code/genn/src/genn/generator'\n",
      "if [ -w /hpc/home/kbw29/Code/genn/lib ]; then make -C /hpc/home/kbw29/Code/genn/src/genn/genn; fi;\n",
      "if [ -w /hpc/home/kbw29/Code/genn/lib ]; then make -C /hpc/home/kbw29/Code/genn/src/genn/backends/cuda; fi;\n",
      "make[1]: Entering directory '/hpc/home/kbw29/Code/genn/src/genn/genn'\n",
      "make[1]: Entering directory '/hpc/home/kbw29/Code/genn/src/genn/backends/cuda'\n",
      "make[1]: Nothing to be done for 'all'.\n",
      "make[1]: Leaving directory '/hpc/home/kbw29/Code/genn/src/genn/backends/cuda'\n",
      "make[1]: Nothing to be done for 'all'.\n",
      "make[1]: Leaving directory '/hpc/home/kbw29/Code/genn/src/genn/genn'\n",
      "mkdir -p /hpc/home/kbw29/Code/brian2Genn/Output\n",
      "g++ -std=c++11 -Wall -Wpedantic -Wextra -MMD -MP -I/hpc/home/kbw29/Code/genn/include/genn/genn -I/hpc/home/kbw29/Code/genn/include/genn/third_party -I/hpc/home/kbw29/Code/brian2Genn -I/hpc/home/kbw29/Code/brian2Genn/Output -I/hpc/home/kbw29/Code/brian2Genn/Output/brianlib/randomkit -I/hpc/home/kbw29/Code/genn/include/genn/backends/cuda -DMODEL=\\\"/hpc/home/kbw29/Code/brian2Genn/Output/magicnetwork_model.cpp\\\" -DBACKEND_NAMESPACE=CUDA -I\"/opt/apps/rhel7/cuda-10.2/include\" generator.cc -o /hpc/home/kbw29/Code/brian2Genn/Output/generator -L/hpc/home/kbw29/Code/genn/lib  -lgenn_cuda_backend -lgenn -L\"/opt/apps/rhel7/cuda-10.2/lib64\" -lcuda -lcudart\n",
      "make: Leaving directory '/hpc/home/kbw29/Code/genn/src/genn/generator'\n",
      "genn-buildmodel.sh:88: error 50: command failure\n"
     ]
    },
    {
     "name": "stderr",
     "output_type": "stream",
     "text": [
      "In file included from /hpc/home/kbw29/Code/brian2Genn/Output/magicnetwork_model.cpp:5:0,\n",
      "                 from generator.cc:31:\n",
      "/hpc/home/kbw29/Code/brian2Genn/Output/brianlib/randomkit/randomkit.cc:132:1: warning: ISO C++ forbids converting a string constant to ‘char*’ [-Wwrite-strings]\n",
      " };\n",
      " ^\n",
      "/hpc/home/kbw29/Code/brian2Genn/Output/brianlib/randomkit/randomkit.cc:132:1: warning: ISO C++ forbids converting a string constant to ‘char*’ [-Wwrite-strings]\n",
      "In file included from /hpc/home/kbw29/Code/brian2Genn/Output/objects.h:6:0,\n",
      "                 from /hpc/home/kbw29/Code/brian2Genn/Output/magicnetwork_model.cpp:7,\n",
      "                 from generator.cc:31:\n",
      "/hpc/home/kbw29/Code/brian2Genn/Output/brianlib/clocks.h:12:3: warning: extra ‘;’ [-Wpedantic]\n",
      "  };\n",
      "   ^\n",
      "/hpc/home/kbw29/Code/brian2Genn/Output/brianlib/clocks.h:13:2: warning: extra ‘;’ [-Wpedantic]\n",
      " };\n",
      "  ^\n",
      "In file included from /hpc/home/kbw29/Code/brian2Genn/Output/magicnetwork_model.cpp:14:0,\n",
      "                 from generator.cc:31:\n",
      "/hpc/home/kbw29/Code/brian2Genn/Output/code_objects/synapses_max_row_length.cpp: In function ‘double synapses_max_row_length_generator::_rand(int)’:\n",
      "/hpc/home/kbw29/Code/brian2Genn/Output/code_objects/synapses_max_row_length.cpp:15:25: warning: unused parameter ‘_vectorisation_idx’ [-Wunused-parameter]\n",
      "  double _rand(const int _vectorisation_idx) {\n",
      "                         ^~~~~~~~~~~~~~~~~~\n",
      "/hpc/home/kbw29/Code/brian2Genn/Output/code_objects/synapses_max_row_length.cpp: In function ‘void _run_synapses_max_row_length()’:\n",
      "/hpc/home/kbw29/Code/brian2Genn/Output/code_objects/synapses_max_row_length.cpp:166:31: warning: unused variable ‘_post_idx’ [-Wunused-variable]\n",
      "                 const int32_t _post_idx = _raw_post_idx;\n",
      "                               ^~~~~~~~~\n",
      "/hpc/home/kbw29/Code/brian2Genn/Output/code_objects/synapses_max_row_length.cpp:175:26: warning: comparison between signed and unsigned integer expressions [-Wsign-compare]\n",
      "             if(_j<0 || _j>=_N_post)\n",
      "                        ~~^~~~~~~~~\n",
      "/hpc/home/kbw29/Code/brian2Genn/Output/code_objects/synapses_max_row_length.cpp:86:11: warning: unused variable ‘_numN_incoming’ [-Wunused-variable]\n",
      " const int _numN_incoming = _dynamic_array_synapses_N_incoming.size();\n",
      "           ^~~~~~~~~~~~~~\n",
      "/hpc/home/kbw29/Code/brian2Genn/Output/code_objects/synapses_max_row_length.cpp:87:11: warning: unused variable ‘_num_synaptic_post’ [-Wunused-variable]\n",
      " const int _num_synaptic_post = _dynamic_array_synapses__synaptic_post.size();\n",
      "           ^~~~~~~~~~~~~~~~~~\n",
      "/hpc/home/kbw29/Code/brian2Genn/Output/code_objects/synapses_max_row_length.cpp:88:11: warning: unused variable ‘_numN’ [-Wunused-variable]\n",
      " const int _numN = 1;\n",
      "           ^~~~~\n",
      "/hpc/home/kbw29/Code/brian2Genn/Output/code_objects/synapses_max_row_length.cpp:89:11: warning: unused variable ‘_num_synaptic_pre’ [-Wunused-variable]\n",
      " const int _num_synaptic_pre = _dynamic_array_synapses__synaptic_pre.size();\n",
      "           ^~~~~~~~~~~~~~~~~\n",
      "/hpc/home/kbw29/Code/brian2Genn/Output/code_objects/synapses_max_row_length.cpp:92:11: warning: unused variable ‘_numN_outgoing’ [-Wunused-variable]\n",
      " const int _numN_outgoing = _dynamic_array_synapses_N_outgoing.size();\n",
      "           ^~~~~~~~~~~~~~\n",
      "/hpc/home/kbw29/Code/brian2Genn/Output/code_objects/synapses_max_row_length.cpp:97:26: warning: unused variable ‘_ptr_array_synapses_N_outgoing’ [-Wunused-variable]\n",
      "     int32_t* __restrict  _ptr_array_synapses_N_outgoing = _array_synapses_N_outgoing;\n",
      "                          ^~~~~~~~~~~~~~~~~~~~~~~~~~~~~~\n",
      "/hpc/home/kbw29/Code/brian2Genn/Output/code_objects/synapses_max_row_length.cpp:98:16: warning: unused variable ‘_ptr_array_synapses_N’ [-Wunused-variable]\n",
      "     int32_t*   _ptr_array_synapses_N = _array_synapses_N;\n",
      "                ^~~~~~~~~~~~~~~~~~~~~\n",
      "/hpc/home/kbw29/Code/brian2Genn/Output/code_objects/synapses_max_row_length.cpp:99:26: warning: unused variable ‘_ptr_array_synapses_N_incoming’ [-Wunused-variable]\n",
      "     int32_t* __restrict  _ptr_array_synapses_N_incoming = _array_synapses_N_incoming;\n",
      "                          ^~~~~~~~~~~~~~~~~~~~~~~~~~~~~~\n",
      "/hpc/home/kbw29/Code/brian2Genn/Output/code_objects/synapses_max_row_length.cpp:100:26: warning: unused variable ‘_ptr_array_synapses__synaptic_post’ [-Wunused-variable]\n",
      "     int32_t* __restrict  _ptr_array_synapses__synaptic_post = _array_synapses__synaptic_post;\n",
      "                          ^~~~~~~~~~~~~~~~~~~~~~~~~~~~~~~~~~\n",
      "/hpc/home/kbw29/Code/brian2Genn/Output/code_objects/synapses_max_row_length.cpp:101:26: warning: unused variable ‘_ptr_array_synapses__synaptic_pre’ [-Wunused-variable]\n",
      "     int32_t* __restrict  _ptr_array_synapses__synaptic_pre = _array_synapses__synaptic_pre;\n",
      "                          ^~~~~~~~~~~~~~~~~~~~~~~~~~~~~~~~~\n",
      "/hpc/home/kbw29/Code/brian2Genn/Output/code_objects/synapses_max_row_length.cpp:110:15: warning: unused variable ‘_vectorisation_idx’ [-Wunused-variable]\n",
      "     const int _vectorisation_idx = -1;\n",
      "               ^~~~~~~~~~~~~~~~~~\n",
      "In file included from generator.cc:31:0:\n",
      "/hpc/home/kbw29/Code/brian2Genn/Output/magicnetwork_model.cpp: In function ‘void modelDefinition(NNmodel&)’:\n",
      "/hpc/home/kbw29/Code/brian2Genn/Output/magicnetwork_model.cpp:295:34: warning: comparison between signed and unsigned integer expressions [-Wsign-compare]\n",
      "                    for(int i=0; i<_dynamic_array_synapses_w_MFGR.size(); i++)\n",
      "                                 ~^~~~~~~~~~~~~~~~~~~~~~~~~~~~~~~~~~~~~~\n",
      "/hpc/home/kbw29/Code/brian2Genn/Output/magicnetwork_model_CODE/neuronUpdate.cc(113): error: expected a \")\"\n",
      "\n",
      "1 error detected in the compilation of \"/tmp/tmpxft_000b600c_00000000-6_neuronUpdate.cpp1.ii\".\n",
      "optimizeBlockSize: NVCC failed\n"
     ]
    },
    {
     "ename": "RuntimeError",
     "evalue": "Project compilation failed (Command ['/hpc/home/kbw29/Code/genn/bin/genn-buildmodel.sh', '-i', '/hpc/home/kbw29/Code/brian2Genn:/hpc/home/kbw29/Code/brian2Genn/Output:/hpc/home/kbw29/Code/brian2Genn/Output/brianlib/randomkit', 'magicnetwork_model.cpp'] failed with error code 50).\nSee the output above (if any) for more details.",
     "output_type": "error",
     "traceback": [
      "\u001b[0;31m---------------------------------------------------------------------------\u001b[0m",
      "\u001b[0;31mCalledProcessError\u001b[0m                        Traceback (most recent call last)",
      "\u001b[0;32m~/.conda/envs/brianBrunel-1/lib/python3.9/site-packages/brian2genn/device.py\u001b[0m in \u001b[0;36mbuild\u001b[0;34m(self, directory, compile, run, use_GPU, debug, with_output, direct_call)\u001b[0m\n\u001b[1;32m    881\u001b[0m             \u001b[0;32mtry\u001b[0m\u001b[0;34m:\u001b[0m\u001b[0;34m\u001b[0m\u001b[0;34m\u001b[0m\u001b[0m\n\u001b[0;32m--> 882\u001b[0;31m                 \u001b[0mself\u001b[0m\u001b[0;34m.\u001b[0m\u001b[0mcompile_source\u001b[0m\u001b[0;34m(\u001b[0m\u001b[0mdebug\u001b[0m\u001b[0;34m,\u001b[0m \u001b[0mdirectory\u001b[0m\u001b[0;34m,\u001b[0m \u001b[0muse_GPU\u001b[0m\u001b[0;34m)\u001b[0m\u001b[0;34m\u001b[0m\u001b[0;34m\u001b[0m\u001b[0m\n\u001b[0m\u001b[1;32m    883\u001b[0m             \u001b[0;32mexcept\u001b[0m \u001b[0mCalledProcessError\u001b[0m \u001b[0;32mas\u001b[0m \u001b[0mex\u001b[0m\u001b[0;34m:\u001b[0m\u001b[0;34m\u001b[0m\u001b[0;34m\u001b[0m\u001b[0m\n",
      "\u001b[0;32m~/.conda/envs/brianBrunel-1/lib/python3.9/site-packages/brian2genn/device.py\u001b[0m in \u001b[0;36mcompile_source\u001b[0;34m(self, debug, directory, use_GPU)\u001b[0m\n\u001b[1;32m   1168\u001b[0m                 \u001b[0mprint\u001b[0m\u001b[0;34m(\u001b[0m\u001b[0margs\u001b[0m\u001b[0;34m)\u001b[0m\u001b[0;34m\u001b[0m\u001b[0;34m\u001b[0m\u001b[0m\n\u001b[0;32m-> 1169\u001b[0;31m                 \u001b[0mcheck_call\u001b[0m\u001b[0;34m(\u001b[0m\u001b[0margs\u001b[0m\u001b[0;34m,\u001b[0m \u001b[0mcwd\u001b[0m\u001b[0;34m=\u001b[0m\u001b[0mdirectory\u001b[0m\u001b[0;34m,\u001b[0m \u001b[0menv\u001b[0m\u001b[0;34m=\u001b[0m\u001b[0menv\u001b[0m\u001b[0;34m)\u001b[0m\u001b[0;34m\u001b[0m\u001b[0;34m\u001b[0m\u001b[0m\n\u001b[0m\u001b[1;32m   1170\u001b[0m                 \u001b[0mcall\u001b[0m\u001b[0;34m(\u001b[0m\u001b[0;34m[\u001b[0m\u001b[0;34m\"make\"\u001b[0m\u001b[0;34m,\u001b[0m \u001b[0;34m\"clean\"\u001b[0m\u001b[0;34m]\u001b[0m\u001b[0;34m,\u001b[0m \u001b[0mcwd\u001b[0m\u001b[0;34m=\u001b[0m\u001b[0mdirectory\u001b[0m\u001b[0;34m,\u001b[0m \u001b[0menv\u001b[0m\u001b[0;34m=\u001b[0m\u001b[0menv\u001b[0m\u001b[0;34m)\u001b[0m\u001b[0;34m\u001b[0m\u001b[0;34m\u001b[0m\u001b[0m\n",
      "\u001b[0;32m~/.conda/envs/brianBrunel-1/lib/python3.9/subprocess.py\u001b[0m in \u001b[0;36mcheck_call\u001b[0;34m(*popenargs, **kwargs)\u001b[0m\n\u001b[1;32m    372\u001b[0m             \u001b[0mcmd\u001b[0m \u001b[0;34m=\u001b[0m \u001b[0mpopenargs\u001b[0m\u001b[0;34m[\u001b[0m\u001b[0;36m0\u001b[0m\u001b[0;34m]\u001b[0m\u001b[0;34m\u001b[0m\u001b[0;34m\u001b[0m\u001b[0m\n\u001b[0;32m--> 373\u001b[0;31m         \u001b[0;32mraise\u001b[0m \u001b[0mCalledProcessError\u001b[0m\u001b[0;34m(\u001b[0m\u001b[0mretcode\u001b[0m\u001b[0;34m,\u001b[0m \u001b[0mcmd\u001b[0m\u001b[0;34m)\u001b[0m\u001b[0;34m\u001b[0m\u001b[0;34m\u001b[0m\u001b[0m\n\u001b[0m\u001b[1;32m    374\u001b[0m     \u001b[0;32mreturn\u001b[0m \u001b[0;36m0\u001b[0m\u001b[0;34m\u001b[0m\u001b[0;34m\u001b[0m\u001b[0m\n",
      "\u001b[0;31mCalledProcessError\u001b[0m: Command '['/hpc/home/kbw29/Code/genn/bin/genn-buildmodel.sh', '-i', '/hpc/home/kbw29/Code/brian2Genn:/hpc/home/kbw29/Code/brian2Genn/Output:/hpc/home/kbw29/Code/brian2Genn/Output/brianlib/randomkit', 'magicnetwork_model.cpp']' returned non-zero exit status 50.",
      "\nDuring handling of the above exception, another exception occurred:\n",
      "\u001b[0;31mRuntimeError\u001b[0m                              Traceback (most recent call last)",
      "\u001b[0;32m<ipython-input-17-18a01a0ac46e>\u001b[0m in \u001b[0;36m<module>\u001b[0;34m\u001b[0m\n\u001b[1;32m      1\u001b[0m \u001b[0;31m# run the simulation\u001b[0m\u001b[0;34m\u001b[0m\u001b[0;34m\u001b[0m\u001b[0;34m\u001b[0m\u001b[0m\n\u001b[1;32m      2\u001b[0m \u001b[0mBrianLogger\u001b[0m\u001b[0;34m.\u001b[0m\u001b[0mlog_level_info\u001b[0m\u001b[0;34m(\u001b[0m\u001b[0;34m)\u001b[0m\u001b[0;34m\u001b[0m\u001b[0;34m\u001b[0m\u001b[0m\n\u001b[0;32m----> 3\u001b[0;31m \u001b[0mrun\u001b[0m\u001b[0;34m(\u001b[0m\u001b[0;36m2\u001b[0m\u001b[0;34m*\u001b[0m\u001b[0msecond\u001b[0m\u001b[0;34m)\u001b[0m\u001b[0;34m\u001b[0m\u001b[0;34m\u001b[0m\u001b[0m\n\u001b[0m",
      "\u001b[0;32m~/.conda/envs/brianBrunel-1/lib/python3.9/site-packages/brian2/units/fundamentalunits.py\u001b[0m in \u001b[0;36mnew_f\u001b[0;34m(*args, **kwds)\u001b[0m\n\u001b[1;32m   2432\u001b[0m                                                      get_dimensions(newkeyset[k]))\n\u001b[1;32m   2433\u001b[0m \u001b[0;34m\u001b[0m\u001b[0m\n\u001b[0;32m-> 2434\u001b[0;31m             \u001b[0mresult\u001b[0m \u001b[0;34m=\u001b[0m \u001b[0mf\u001b[0m\u001b[0;34m(\u001b[0m\u001b[0;34m*\u001b[0m\u001b[0margs\u001b[0m\u001b[0;34m,\u001b[0m \u001b[0;34m**\u001b[0m\u001b[0mkwds\u001b[0m\u001b[0;34m)\u001b[0m\u001b[0;34m\u001b[0m\u001b[0;34m\u001b[0m\u001b[0m\n\u001b[0m\u001b[1;32m   2435\u001b[0m             \u001b[0;32mif\u001b[0m \u001b[0;34m'result'\u001b[0m \u001b[0;32min\u001b[0m \u001b[0mau\u001b[0m\u001b[0;34m:\u001b[0m\u001b[0;34m\u001b[0m\u001b[0;34m\u001b[0m\u001b[0m\n\u001b[1;32m   2436\u001b[0m                 \u001b[0;32mif\u001b[0m \u001b[0misinstance\u001b[0m\u001b[0;34m(\u001b[0m\u001b[0mau\u001b[0m\u001b[0;34m[\u001b[0m\u001b[0;34m'result'\u001b[0m\u001b[0;34m]\u001b[0m\u001b[0;34m,\u001b[0m \u001b[0mCallable\u001b[0m\u001b[0;34m)\u001b[0m \u001b[0;32mand\u001b[0m \u001b[0mau\u001b[0m\u001b[0;34m[\u001b[0m\u001b[0;34m'result'\u001b[0m\u001b[0;34m]\u001b[0m \u001b[0;34m!=\u001b[0m \u001b[0mbool\u001b[0m\u001b[0;34m:\u001b[0m\u001b[0;34m\u001b[0m\u001b[0;34m\u001b[0m\u001b[0m\n",
      "\u001b[0;32m~/.conda/envs/brianBrunel-1/lib/python3.9/site-packages/brian2/core/magic.py\u001b[0m in \u001b[0;36mrun\u001b[0;34m(duration, report, report_period, namespace, profile, level)\u001b[0m\n\u001b[1;32m    371\u001b[0m         \u001b[0mintended\u001b[0m \u001b[0muse\u001b[0m\u001b[0;34m.\u001b[0m \u001b[0mSee\u001b[0m\u001b[0;31m \u001b[0m\u001b[0;31m`\u001b[0m\u001b[0mMagicNetwork\u001b[0m\u001b[0;31m`\u001b[0m \u001b[0;32mfor\u001b[0m \u001b[0mmore\u001b[0m \u001b[0mdetails\u001b[0m\u001b[0;34m.\u001b[0m\u001b[0;34m\u001b[0m\u001b[0;34m\u001b[0m\u001b[0m\n\u001b[1;32m    372\u001b[0m     '''\n\u001b[0;32m--> 373\u001b[0;31m     return magic_network.run(duration, report=report, report_period=report_period,\n\u001b[0m\u001b[1;32m    374\u001b[0m                              namespace=namespace, profile=profile, level=2+level)\n\u001b[1;32m    375\u001b[0m \u001b[0mrun\u001b[0m\u001b[0;34m.\u001b[0m\u001b[0m__module__\u001b[0m \u001b[0;34m=\u001b[0m \u001b[0m__name__\u001b[0m\u001b[0;34m\u001b[0m\u001b[0;34m\u001b[0m\u001b[0m\n",
      "\u001b[0;32m~/.conda/envs/brianBrunel-1/lib/python3.9/site-packages/brian2/core/magic.py\u001b[0m in \u001b[0;36mrun\u001b[0;34m(self, duration, report, report_period, namespace, profile, level)\u001b[0m\n\u001b[1;32m    229\u001b[0m             namespace=None, profile=False, level=0):\n\u001b[1;32m    230\u001b[0m         \u001b[0mself\u001b[0m\u001b[0;34m.\u001b[0m\u001b[0m_update_magic_objects\u001b[0m\u001b[0;34m(\u001b[0m\u001b[0mlevel\u001b[0m\u001b[0;34m=\u001b[0m\u001b[0mlevel\u001b[0m\u001b[0;34m+\u001b[0m\u001b[0;36m1\u001b[0m\u001b[0;34m)\u001b[0m\u001b[0;34m\u001b[0m\u001b[0;34m\u001b[0m\u001b[0m\n\u001b[0;32m--> 231\u001b[0;31m         Network.run(self, duration, report=report, report_period=report_period,\n\u001b[0m\u001b[1;32m    232\u001b[0m                     namespace=namespace, profile=profile, level=level+1)\n\u001b[1;32m    233\u001b[0m \u001b[0;34m\u001b[0m\u001b[0m\n",
      "\u001b[0;32m~/.conda/envs/brianBrunel-1/lib/python3.9/site-packages/brian2/core/base.py\u001b[0m in \u001b[0;36mdevice_override_decorated_function\u001b[0;34m(*args, **kwds)\u001b[0m\n\u001b[1;32m    274\u001b[0m             \u001b[0mcurdev\u001b[0m \u001b[0;34m=\u001b[0m \u001b[0mget_device\u001b[0m\u001b[0;34m(\u001b[0m\u001b[0;34m)\u001b[0m\u001b[0;34m\u001b[0m\u001b[0;34m\u001b[0m\u001b[0m\n\u001b[1;32m    275\u001b[0m             \u001b[0;32mif\u001b[0m \u001b[0mhasattr\u001b[0m\u001b[0;34m(\u001b[0m\u001b[0mcurdev\u001b[0m\u001b[0;34m,\u001b[0m \u001b[0mname\u001b[0m\u001b[0;34m)\u001b[0m\u001b[0;34m:\u001b[0m\u001b[0;34m\u001b[0m\u001b[0;34m\u001b[0m\u001b[0m\n\u001b[0;32m--> 276\u001b[0;31m                 \u001b[0;32mreturn\u001b[0m \u001b[0mgetattr\u001b[0m\u001b[0;34m(\u001b[0m\u001b[0mcurdev\u001b[0m\u001b[0;34m,\u001b[0m \u001b[0mname\u001b[0m\u001b[0;34m)\u001b[0m\u001b[0;34m(\u001b[0m\u001b[0;34m*\u001b[0m\u001b[0margs\u001b[0m\u001b[0;34m,\u001b[0m \u001b[0;34m**\u001b[0m\u001b[0mkwds\u001b[0m\u001b[0;34m)\u001b[0m\u001b[0;34m\u001b[0m\u001b[0;34m\u001b[0m\u001b[0m\n\u001b[0m\u001b[1;32m    277\u001b[0m             \u001b[0;32melse\u001b[0m\u001b[0;34m:\u001b[0m\u001b[0;34m\u001b[0m\u001b[0;34m\u001b[0m\u001b[0m\n\u001b[1;32m    278\u001b[0m                 \u001b[0;32mreturn\u001b[0m \u001b[0mfunc\u001b[0m\u001b[0;34m(\u001b[0m\u001b[0;34m*\u001b[0m\u001b[0margs\u001b[0m\u001b[0;34m,\u001b[0m \u001b[0;34m**\u001b[0m\u001b[0mkwds\u001b[0m\u001b[0;34m)\u001b[0m\u001b[0;34m\u001b[0m\u001b[0;34m\u001b[0m\u001b[0m\n",
      "\u001b[0;32m~/.conda/envs/brianBrunel-1/lib/python3.9/site-packages/brian2genn/device.py\u001b[0m in \u001b[0;36mnetwork_run\u001b[0;34m(self, net, duration, report, report_period, namespace, profile, level, **kwds)\u001b[0m\n\u001b[1;32m   1819\u001b[0m         \u001b[0mself\u001b[0m\u001b[0;34m.\u001b[0m\u001b[0mnet\u001b[0m \u001b[0;34m=\u001b[0m \u001b[0mnet\u001b[0m\u001b[0;34m\u001b[0m\u001b[0;34m\u001b[0m\u001b[0m\n\u001b[1;32m   1820\u001b[0m \u001b[0;34m\u001b[0m\u001b[0m\n\u001b[0;32m-> 1821\u001b[0;31m         super(GeNNDevice, self).network_run(net=net, duration=duration,\n\u001b[0m\u001b[1;32m   1822\u001b[0m                                             \u001b[0mreport\u001b[0m\u001b[0;34m=\u001b[0m\u001b[0mreport\u001b[0m\u001b[0;34m,\u001b[0m\u001b[0;34m\u001b[0m\u001b[0;34m\u001b[0m\u001b[0m\n\u001b[1;32m   1823\u001b[0m                                             \u001b[0mreport_period\u001b[0m\u001b[0;34m=\u001b[0m\u001b[0mreport_period\u001b[0m\u001b[0;34m,\u001b[0m\u001b[0;34m\u001b[0m\u001b[0;34m\u001b[0m\u001b[0m\n",
      "\u001b[0;32m~/.conda/envs/brianBrunel-1/lib/python3.9/site-packages/brian2/devices/cpp_standalone/device.py\u001b[0m in \u001b[0;36mnetwork_run\u001b[0;34m(self, net, duration, report, report_period, namespace, profile, level, **kwds)\u001b[0m\n\u001b[1;32m   1509\u001b[0m                                    \u001b[0;34m'device.build call to use multiple run '\u001b[0m\u001b[0;34m\u001b[0m\u001b[0;34m\u001b[0m\u001b[0m\n\u001b[1;32m   1510\u001b[0m                                    'statements with this device.')\n\u001b[0;32m-> 1511\u001b[0;31m             \u001b[0mself\u001b[0m\u001b[0;34m.\u001b[0m\u001b[0mbuild\u001b[0m\u001b[0;34m(\u001b[0m\u001b[0mdirect_call\u001b[0m\u001b[0;34m=\u001b[0m\u001b[0;32mFalse\u001b[0m\u001b[0;34m,\u001b[0m \u001b[0;34m**\u001b[0m\u001b[0mself\u001b[0m\u001b[0;34m.\u001b[0m\u001b[0mbuild_options\u001b[0m\u001b[0;34m)\u001b[0m\u001b[0;34m\u001b[0m\u001b[0;34m\u001b[0m\u001b[0m\n\u001b[0m\u001b[1;32m   1512\u001b[0m \u001b[0;34m\u001b[0m\u001b[0m\n\u001b[1;32m   1513\u001b[0m     \u001b[0;32mdef\u001b[0m \u001b[0mnetwork_store\u001b[0m\u001b[0;34m(\u001b[0m\u001b[0mself\u001b[0m\u001b[0;34m,\u001b[0m \u001b[0mnet\u001b[0m\u001b[0;34m,\u001b[0m \u001b[0;34m*\u001b[0m\u001b[0margs\u001b[0m\u001b[0;34m,\u001b[0m \u001b[0;34m**\u001b[0m\u001b[0mkwds\u001b[0m\u001b[0;34m)\u001b[0m\u001b[0;34m:\u001b[0m\u001b[0;34m\u001b[0m\u001b[0;34m\u001b[0m\u001b[0m\n",
      "\u001b[0;32m~/.conda/envs/brianBrunel-1/lib/python3.9/site-packages/brian2genn/device.py\u001b[0m in \u001b[0;36mbuild\u001b[0;34m(self, directory, compile, run, use_GPU, debug, with_output, direct_call)\u001b[0m\n\u001b[1;32m    882\u001b[0m                 \u001b[0mself\u001b[0m\u001b[0;34m.\u001b[0m\u001b[0mcompile_source\u001b[0m\u001b[0;34m(\u001b[0m\u001b[0mdebug\u001b[0m\u001b[0;34m,\u001b[0m \u001b[0mdirectory\u001b[0m\u001b[0;34m,\u001b[0m \u001b[0muse_GPU\u001b[0m\u001b[0;34m)\u001b[0m\u001b[0;34m\u001b[0m\u001b[0;34m\u001b[0m\u001b[0m\n\u001b[1;32m    883\u001b[0m             \u001b[0;32mexcept\u001b[0m \u001b[0mCalledProcessError\u001b[0m \u001b[0;32mas\u001b[0m \u001b[0mex\u001b[0m\u001b[0;34m:\u001b[0m\u001b[0;34m\u001b[0m\u001b[0;34m\u001b[0m\u001b[0m\n\u001b[0;32m--> 884\u001b[0;31m                 raise RuntimeError(('Project compilation failed (Command {cmd} '\n\u001b[0m\u001b[1;32m    885\u001b[0m                                     \u001b[0;34m'failed with error code {returncode}).\\n'\u001b[0m\u001b[0;34m\u001b[0m\u001b[0;34m\u001b[0m\u001b[0m\n\u001b[1;32m    886\u001b[0m                                     \u001b[0;34m'See the output above (if any) for more '\u001b[0m\u001b[0;34m\u001b[0m\u001b[0;34m\u001b[0m\u001b[0m\n",
      "\u001b[0;31mRuntimeError\u001b[0m: Project compilation failed (Command ['/hpc/home/kbw29/Code/genn/bin/genn-buildmodel.sh', '-i', '/hpc/home/kbw29/Code/brian2Genn:/hpc/home/kbw29/Code/brian2Genn/Output:/hpc/home/kbw29/Code/brian2Genn/Output/brianlib/randomkit', 'magicnetwork_model.cpp'] failed with error code 50).\nSee the output above (if any) for more details."
     ]
    }
   ],
   "source": [
    "# run the simulation\n",
    "BrianLogger.log_level_info()\n",
    "run(2*second)"
   ]
  },
  {
   "cell_type": "markdown",
   "metadata": {},
   "source": [
    "#### Benchmarking"
   ]
  },
  {
   "cell_type": "code",
   "execution_count": null,
   "metadata": {},
   "outputs": [],
   "source": [
    "time.time() - start"
   ]
  },
  {
   "cell_type": "code",
   "execution_count": null,
   "metadata": {},
   "outputs": [],
   "source": [
    "# For benchmarking time usage per step ... do not use with multiple runs \n",
    "profiling_summary(show = 10)"
   ]
  },
  {
   "cell_type": "markdown",
   "metadata": {},
   "source": [
    "# Visualization "
   ]
  },
  {
   "cell_type": "code",
   "execution_count": null,
   "metadata": {},
   "outputs": [],
   "source": [
    "plot_potential(spikeMonitor_GR, stateMonitor_GR, 2)"
   ]
  },
  {
   "cell_type": "code",
   "execution_count": null,
   "metadata": {},
   "outputs": [],
   "source": [
    "plot_spikes(spikeMonitor_GR, stateMonitor_GR, 2)"
   ]
  },
  {
   "cell_type": "markdown",
   "metadata": {},
   "source": [
    "#### By trial "
   ]
  },
  {
   "cell_type": "code",
   "execution_count": null,
   "metadata": {},
   "outputs": [],
   "source": [
    "plot_population(prMonitor_GR, spikeMonitor_GR, 'GranuleCells', 100, 10)"
   ]
  },
  {
   "cell_type": "code",
   "execution_count": null,
   "metadata": {},
   "outputs": [],
   "source": [
    "plot_population_Multi(prMulti_GR_smooth[0], prMulti_GR_t[0], spikeMonitor_GR, 'GranuleCells', 100, 10)"
   ]
  },
  {
   "cell_type": "code",
   "execution_count": null,
   "metadata": {},
   "outputs": [],
   "source": [
    "plot_population_Multi(prMulti_GR_smooth[1], prMulti_GR_t[1], spikeMonitor_GR, 'GranuleCells', 100, 10)"
   ]
  },
  {
   "cell_type": "markdown",
   "metadata": {},
   "source": [
    "#### Individual Granule Cells "
   ]
  },
  {
   "cell_type": "code",
   "execution_count": null,
   "metadata": {},
   "outputs": [],
   "source": [
    "tempAppend = []\n",
    "neuronNumber = 0\n",
    "\n",
    "for i in range(len(spikeMonitor_Multi_GR)):\n",
    "    tempAppend.extend(pd.array(spikeMonitor_Multi_GR[i][neuronNumber])*1000)\n",
    "\n",
    "sns.kdeplot(tempAppend, bw_adjust = 0.5)"
   ]
  },
  {
   "cell_type": "code",
   "execution_count": null,
   "metadata": {},
   "outputs": [],
   "source": [
    "tempAppend = []\n",
    "neuronNumber = 1\n",
    "\n",
    "for i in range(len(spikeMonitor_Multi_GR)):\n",
    "    tempAppend.extend(pd.array(spikeMonitor_Multi_GR[i][neuronNumber])*1000)\n",
    "\n",
    "sns.kdeplot(tempAppend, bw_adjust = 0.2)"
   ]
  },
  {
   "cell_type": "code",
   "execution_count": null,
   "metadata": {},
   "outputs": [],
   "source": [
    "tempAppend = []\n",
    "neuronNumber = 2\n",
    "\n",
    "for i in range(len(spikeMonitor_Multi_GR)):\n",
    "    tempAppend.extend(pd.array(spikeMonitor_Multi_GR[i][neuronNumber])*1000)\n",
    "\n",
    "sns.kdeplot(tempAppend, bw_adjust = 0.2)"
   ]
  },
  {
   "cell_type": "code",
   "execution_count": null,
   "metadata": {},
   "outputs": [],
   "source": [
    "tempAppend = []\n",
    "neuronNumber = 43\n",
    "\n",
    "for i in range(len(spikeMonitor_Multi_GR)):\n",
    "    tempAppend.extend(pd.array(spikeMonitor_Multi_GR[i][neuronNumber])*1000)\n",
    "\n",
    "sns.kdeplot(tempAppend, bw_adjust = 0.2)"
   ]
  },
  {
   "cell_type": "markdown",
   "metadata": {},
   "source": [
    "#### Population Readouts"
   ]
  },
  {
   "cell_type": "markdown",
   "metadata": {},
   "source": [
    "##### Granule  Cells"
   ]
  },
  {
   "cell_type": "code",
   "execution_count": null,
   "metadata": {},
   "outputs": [],
   "source": [
    "# Plotting average population firing rate across all runs \n",
    "average_prMulti = np.mean(prMulti_GR_smooth, axis = 0)\n",
    "\n",
    "plot_population_Multi_2(average_prMulti, prMulti_GR_t[1], 'GranuleCells')"
   ]
  },
  {
   "cell_type": "code",
   "execution_count": null,
   "metadata": {},
   "outputs": [],
   "source": [
    "active_percent(spikeMonitor_GR, binSize = 10, durationSimulation = 2, numNeurons = numGC, ymax = 20)"
   ]
  },
  {
   "cell_type": "code",
   "execution_count": null,
   "metadata": {},
   "outputs": [],
   "source": [
    "averaged_ActivePercent(spkActive_Multi_GR, spikeMonitor_GR, binSize = 10, durationSimulation = 2, numNeurons = numGC, ymax = 10)"
   ]
  },
  {
   "cell_type": "markdown",
   "metadata": {},
   "source": [
    "### Purkinje"
   ]
  },
  {
   "cell_type": "code",
   "execution_count": null,
   "metadata": {},
   "outputs": [],
   "source": [
    "plot_potential(spikeMonitor_PKJ, stateMonitor_PKJ, 2)"
   ]
  },
  {
   "cell_type": "code",
   "execution_count": null,
   "metadata": {},
   "outputs": [],
   "source": [
    "plot_spikes(spikeMonitor_PKJ, stateMonitor_PKJ, 2)"
   ]
  },
  {
   "cell_type": "code",
   "execution_count": null,
   "metadata": {},
   "outputs": [],
   "source": [
    "# Plotting average population firing rate across all runs \n",
    "average_prMulti_PKJ = np.mean(prMulti_PKJ_smooth, axis = 0)\n",
    "\n",
    "plot_population_Multi_2(average_prMulti_PKJ, prMulti_PKJ_t[1], 'Purkinje')"
   ]
  },
  {
   "cell_type": "markdown",
   "metadata": {},
   "source": [
    "## Basket Cell "
   ]
  },
  {
   "cell_type": "code",
   "execution_count": null,
   "metadata": {},
   "outputs": [],
   "source": [
    "# Plotting average population firing rate across all runs \n",
    "average_prMulti_BS = np.mean(prMulti_BS_smooth, axis = 0)\n",
    "\n",
    "plot_population_Multi_2(average_prMulti_BS, prMulti_BS_t[1], 'Basket Cells')"
   ]
  },
  {
   "cell_type": "code",
   "execution_count": null,
   "metadata": {},
   "outputs": [],
   "source": []
  },
  {
   "cell_type": "markdown",
   "metadata": {},
   "source": [
    "## Golgi "
   ]
  },
  {
   "cell_type": "code",
   "execution_count": null,
   "metadata": {},
   "outputs": [],
   "source": [
    "# Plotting average population firing rate across all runs \n",
    "average_prMulti_GO = np.mean(prMulti_GO_smooth, axis = 0)\n",
    "\n",
    "plot_population_Multi_2(average_prMulti_GO, prMulti_GO_t[1], 'Golgi')"
   ]
  },
  {
   "cell_type": "code",
   "execution_count": null,
   "metadata": {},
   "outputs": [],
   "source": []
  },
  {
   "cell_type": "code",
   "execution_count": null,
   "metadata": {},
   "outputs": [],
   "source": []
  },
  {
   "cell_type": "code",
   "execution_count": null,
   "metadata": {},
   "outputs": [],
   "source": []
  },
  {
   "cell_type": "code",
   "execution_count": null,
   "metadata": {},
   "outputs": [],
   "source": []
  },
  {
   "cell_type": "code",
   "execution_count": null,
   "metadata": {},
   "outputs": [],
   "source": []
  },
  {
   "cell_type": "code",
   "execution_count": null,
   "metadata": {},
   "outputs": [],
   "source": []
  },
  {
   "cell_type": "code",
   "execution_count": null,
   "metadata": {},
   "outputs": [],
   "source": []
  },
  {
   "cell_type": "code",
   "execution_count": null,
   "metadata": {},
   "outputs": [],
   "source": []
  },
  {
   "cell_type": "code",
   "execution_count": null,
   "metadata": {},
   "outputs": [],
   "source": []
  },
  {
   "cell_type": "code",
   "execution_count": null,
   "metadata": {},
   "outputs": [],
   "source": []
  },
  {
   "cell_type": "code",
   "execution_count": null,
   "metadata": {},
   "outputs": [],
   "source": []
  },
  {
   "cell_type": "code",
   "execution_count": null,
   "metadata": {},
   "outputs": [],
   "source": []
  },
  {
   "cell_type": "code",
   "execution_count": null,
   "metadata": {},
   "outputs": [],
   "source": []
  },
  {
   "cell_type": "code",
   "execution_count": null,
   "metadata": {},
   "outputs": [],
   "source": []
  },
  {
   "cell_type": "code",
   "execution_count": null,
   "metadata": {},
   "outputs": [],
   "source": []
  },
  {
   "cell_type": "code",
   "execution_count": null,
   "metadata": {},
   "outputs": [],
   "source": []
  }
 ],
 "metadata": {
  "kernelspec": {
   "display_name": "brianBrunel-1",
   "language": "python",
   "name": "brianbrunel-1"
  },
  "language_info": {
   "codemirror_mode": {
    "name": "ipython",
    "version": 3
   },
   "file_extension": ".py",
   "mimetype": "text/x-python",
   "name": "python",
   "nbconvert_exporter": "python",
   "pygments_lexer": "ipython3",
   "version": "3.9.1"
  },
  "toc-autonumbering": true,
  "toc-showmarkdowntxt": false,
  "toc-showtags": false
 },
 "nbformat": 4,
 "nbformat_minor": 4
}
